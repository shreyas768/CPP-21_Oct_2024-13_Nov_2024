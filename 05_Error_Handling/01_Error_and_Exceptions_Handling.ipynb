{
 "cells": [
  {
   "cell_type": "markdown",
   "id": "0a27896e",
   "metadata": {},
   "source": [
    "* try:  block of code that's going to be attempted. It may or may not lead to an error\n",
    "* except: it will execute in case there is any error inside of try block\n",
    "* finally: it is always going to be executed whether or not there's an exception or error occuring"
   ]
  },
  {
   "cell_type": "code",
   "execution_count": 1,
   "id": "65424dbd",
   "metadata": {},
   "outputs": [
    {
     "ename": "SyntaxError",
     "evalue": "unterminated string literal (detected at line 1) (3574047905.py, line 1)",
     "output_type": "error",
     "traceback": [
      "\u001b[0;36m  Cell \u001b[0;32mIn[1], line 1\u001b[0;36m\u001b[0m\n\u001b[0;31m    print('hello)\u001b[0m\n\u001b[0m          ^\u001b[0m\n\u001b[0;31mSyntaxError\u001b[0m\u001b[0;31m:\u001b[0m unterminated string literal (detected at line 1)\n"
     ]
    }
   ],
   "source": [
    "print('hello)"
   ]
  },
  {
   "cell_type": "code",
   "execution_count": 2,
   "id": "14e040c6",
   "metadata": {},
   "outputs": [
    {
     "ename": "TypeError",
     "evalue": "unsupported operand type(s) for +: 'int' and 'str'",
     "output_type": "error",
     "traceback": [
      "\u001b[0;31m---------------------------------------------------------------------------\u001b[0m",
      "\u001b[0;31mTypeError\u001b[0m                                 Traceback (most recent call last)",
      "Cell \u001b[0;32mIn[2], line 1\u001b[0m\n\u001b[0;32m----> 1\u001b[0m \u001b[38;5;241m2\u001b[39m \u001b[38;5;241m+\u001b[39m \u001b[38;5;124m'\u001b[39m\u001b[38;5;124m3\u001b[39m\u001b[38;5;124m'\u001b[39m\n",
      "\u001b[0;31mTypeError\u001b[0m: unsupported operand type(s) for +: 'int' and 'str'"
     ]
    }
   ],
   "source": [
    "2 + '3'"
   ]
  },
  {
   "cell_type": "code",
   "execution_count": 3,
   "id": "3c9ec0b5",
   "metadata": {},
   "outputs": [
    {
     "ename": "TypeError",
     "evalue": "unsupported operand type(s) for +: 'int' and 'str'",
     "output_type": "error",
     "traceback": [
      "\u001b[0;31m---------------------------------------------------------------------------\u001b[0m",
      "\u001b[0;31mTypeError\u001b[0m                                 Traceback (most recent call last)",
      "Cell \u001b[0;32mIn[3], line 1\u001b[0m\n\u001b[0;32m----> 1\u001b[0m \u001b[38;5;241m2\u001b[39m\u001b[38;5;241m+\u001b[39m\u001b[38;5;124m'\u001b[39m\u001b[38;5;124m3\u001b[39m\u001b[38;5;124m'\u001b[39m\n\u001b[1;32m      2\u001b[0m \u001b[38;5;28mprint\u001b[39m(\u001b[38;5;124m'\u001b[39m\u001b[38;5;124mShreyas\u001b[39m\u001b[38;5;124m'\u001b[39m)\n",
      "\u001b[0;31mTypeError\u001b[0m: unsupported operand type(s) for +: 'int' and 'str'"
     ]
    }
   ],
   "source": [
    "2+'3'\n",
    "print('Shreyas')"
   ]
  },
  {
   "cell_type": "markdown",
   "id": "476d0877",
   "metadata": {},
   "source": [
    "### try and except"
   ]
  },
  {
   "cell_type": "code",
   "execution_count": 4,
   "id": "d34d1791",
   "metadata": {},
   "outputs": [
    {
     "ename": "IndentationError",
     "evalue": "expected an indented block after 'try' statement on line 1 (3644051571.py, line 4)",
     "output_type": "error",
     "traceback": [
      "\u001b[0;36m  Cell \u001b[0;32mIn[4], line 4\u001b[0;36m\u001b[0m\n\u001b[0;31m    except ExceptionI:\u001b[0m\n\u001b[0m    ^\u001b[0m\n\u001b[0;31mIndentationError\u001b[0m\u001b[0;31m:\u001b[0m expected an indented block after 'try' statement on line 1\n"
     ]
    }
   ],
   "source": [
    "try:\n",
    "    #Do your operations here\n",
    "    #..\n",
    "except ExceptionI:\n",
    "    #if there is exception1, then execute this block \n",
    "except ExceptionII:\n",
    "    #if there is exception2, then execute this block\n",
    "\n",
    "else :\n",
    "    #If there is no exceotion, then execute this block"
   ]
  },
  {
   "cell_type": "code",
   "execution_count": 5,
   "id": "0d89aeed",
   "metadata": {},
   "outputs": [
    {
     "name": "stdout",
     "output_type": "stream",
     "text": [
      "Hey may be you are not adding correctly\n"
     ]
    }
   ],
   "source": [
    "try:\n",
    "    result = 10 + '10'\n",
    "except:\n",
    "    print('Hey may be you are not adding correctly')"
   ]
  },
  {
   "cell_type": "code",
   "execution_count": 6,
   "id": "08cfed34",
   "metadata": {},
   "outputs": [
    {
     "name": "stdout",
     "output_type": "stream",
     "text": [
      "Hey may be you are not adding correctly\n"
     ]
    }
   ],
   "source": [
    "try:\n",
    "    result = 10 + '10'\n",
    "except:\n",
    "    print('Hey may be you are not adding correctly')\n",
    "else:\n",
    "    print('Add went well')"
   ]
  },
  {
   "cell_type": "code",
   "execution_count": 8,
   "id": "56fdad5a",
   "metadata": {},
   "outputs": [
    {
     "name": "stdout",
     "output_type": "stream",
     "text": [
      "Add went well\n",
      "20\n"
     ]
    }
   ],
   "source": [
    "try:\n",
    "    result = 10 + 10\n",
    "except:\n",
    "    print('Hey may be you are not adding correctly')\n",
    "else:\n",
    "    print('Add went well')\n",
    "    print(result)"
   ]
  },
  {
   "cell_type": "code",
   "execution_count": 9,
   "id": "b61718ec",
   "metadata": {},
   "outputs": [
    {
     "name": "stdout",
     "output_type": "stream",
     "text": [
      "Content written successfully\n"
     ]
    }
   ],
   "source": [
    "try:\n",
    "    f = open('testfile','w')\n",
    "    f.write('Test write this')\n",
    "except:\n",
    "    print('Error: Could not find file or read data')\n",
    "else:\n",
    "    print(\"Content written successfully\")"
   ]
  },
  {
   "cell_type": "code",
   "execution_count": 10,
   "id": "bbca60b4",
   "metadata": {},
   "outputs": [
    {
     "ename": "UnsupportedOperation",
     "evalue": "not writable",
     "output_type": "error",
     "traceback": [
      "\u001b[0;31m---------------------------------------------------------------------------\u001b[0m",
      "\u001b[0;31mUnsupportedOperation\u001b[0m                      Traceback (most recent call last)",
      "Cell \u001b[0;32mIn[10], line 2\u001b[0m\n\u001b[1;32m      1\u001b[0m f \u001b[38;5;241m=\u001b[39m \u001b[38;5;28mopen\u001b[39m(\u001b[38;5;124m'\u001b[39m\u001b[38;5;124mtestfile\u001b[39m\u001b[38;5;124m'\u001b[39m,\u001b[38;5;124m'\u001b[39m\u001b[38;5;124mr\u001b[39m\u001b[38;5;124m'\u001b[39m)\n\u001b[0;32m----> 2\u001b[0m f\u001b[38;5;241m.\u001b[39mwrite(\u001b[38;5;124m'\u001b[39m\u001b[38;5;124mTest write this\u001b[39m\u001b[38;5;124m'\u001b[39m)\n",
      "\u001b[0;31mUnsupportedOperation\u001b[0m: not writable"
     ]
    }
   ],
   "source": [
    "f = open('testfile','r')\n",
    "f.write('Test write this')"
   ]
  },
  {
   "cell_type": "code",
   "execution_count": 15,
   "id": "146443a4",
   "metadata": {},
   "outputs": [
    {
     "name": "stdout",
     "output_type": "stream",
     "text": [
      "Error: Could not find file or read data\n"
     ]
    }
   ],
   "source": [
    "try:\n",
    "    f = open('testfile','r')\n",
    "    f.write('Test write this')\n",
    "except TypeError:\n",
    "    print('This is a type error')\n",
    "except IOError:\n",
    "    print('Error: Could not find file or read data')\n",
    "else:\n",
    "    print(\"Content written successfully\")"
   ]
  },
  {
   "cell_type": "code",
   "execution_count": 16,
   "id": "7b80c2d6",
   "metadata": {},
   "outputs": [
    {
     "name": "stdout",
     "output_type": "stream",
     "text": [
      "This is a type error\n"
     ]
    }
   ],
   "source": [
    "try:\n",
    "    f = 2 + '3'\n",
    "except TypeError:\n",
    "    print('This is a type error')\n",
    "except IOError:\n",
    "    print('Error: Could not find file or read data')\n",
    "else:\n",
    "    print(\"Content written successfully\")"
   ]
  },
  {
   "cell_type": "code",
   "execution_count": 25,
   "id": "93f94b2b",
   "metadata": {},
   "outputs": [],
   "source": [
    "def divide(x, y):\n",
    "    try:\n",
    "        result = x / y\n",
    "    except ZeroDivisionError:\n",
    "        print(\"division by zero!\")\n",
    "    except TypeError:\n",
    "        print('Enter numbers only')\n",
    "    else:\n",
    "        print(\"result is\", result)\n",
    "    finally:\n",
    "        print(\"executing finally clause\")\n"
   ]
  },
  {
   "cell_type": "code",
   "execution_count": 26,
   "id": "776e4ab3",
   "metadata": {},
   "outputs": [
    {
     "name": "stdout",
     "output_type": "stream",
     "text": [
      "result is 2.0\n",
      "executing finally clause\n"
     ]
    }
   ],
   "source": [
    "\n",
    "divide(2, 1)\n",
    "\n",
    "\n"
   ]
  },
  {
   "cell_type": "code",
   "execution_count": 27,
   "id": "c9f407d6",
   "metadata": {},
   "outputs": [
    {
     "name": "stdout",
     "output_type": "stream",
     "text": [
      "division by zero!\n",
      "executing finally clause\n"
     ]
    }
   ],
   "source": [
    "\n",
    "divide(2, 0)\n"
   ]
  },
  {
   "cell_type": "code",
   "execution_count": 28,
   "id": "af33358f",
   "metadata": {},
   "outputs": [
    {
     "name": "stdout",
     "output_type": "stream",
     "text": [
      "Enter numbers only\n",
      "executing finally clause\n"
     ]
    }
   ],
   "source": [
    "\n",
    "\n",
    "divide(\"2\", \"1\")"
   ]
  },
  {
   "cell_type": "code",
   "execution_count": 1,
   "id": "0b11e3db",
   "metadata": {},
   "outputs": [],
   "source": [
    "def askint():\n",
    "    try:\n",
    "        val = int(input('Please enter an integer: '))\n",
    "    except:\n",
    "        print('Looks like you did not enter an inetger. Try again!!')\n",
    "        val = int(input('Please enter an integer: '))\n",
    "    finally:\n",
    "        print('Finally, I executed')"
   ]
  },
  {
   "cell_type": "code",
   "execution_count": 2,
   "id": "169ed03e",
   "metadata": {},
   "outputs": [
    {
     "name": "stdout",
     "output_type": "stream",
     "text": [
      "Please enter an integer: 87\n",
      "Finally, I executed\n"
     ]
    }
   ],
   "source": [
    "askint()"
   ]
  },
  {
   "cell_type": "code",
   "execution_count": 3,
   "id": "521d33dd",
   "metadata": {},
   "outputs": [
    {
     "name": "stdout",
     "output_type": "stream",
     "text": [
      "Please enter an integer: shreyas\n",
      "Looks like you did not enter an inetger. Try again!!\n",
      "Please enter an integer: 87\n",
      "Finally, I executed\n"
     ]
    }
   ],
   "source": [
    "askint()"
   ]
  },
  {
   "cell_type": "code",
   "execution_count": 8,
   "id": "90a645fc",
   "metadata": {},
   "outputs": [
    {
     "data": {
      "text/plain": [
       "True"
      ]
     },
     "execution_count": 8,
     "metadata": {},
     "output_type": "execute_result"
    }
   ],
   "source": [
    "2>1"
   ]
  },
  {
   "cell_type": "code",
   "execution_count": 6,
   "id": "f40bed2c",
   "metadata": {},
   "outputs": [],
   "source": [
    "def askint():\n",
    "    while True:\n",
    "        try:\n",
    "            val = int(input('Please enter an integer: '))\n",
    "        except:\n",
    "            print('Looks like you did not enter an inetger. Try again!!')\n",
    "            continue\n",
    "        else:\n",
    "            print('Yes that is an integer')\n",
    "            break\n",
    "        finally:\n",
    "            print('Finally, I executed')\n",
    "        print(val)"
   ]
  },
  {
   "cell_type": "code",
   "execution_count": 7,
   "id": "1d65be25",
   "metadata": {},
   "outputs": [
    {
     "name": "stdout",
     "output_type": "stream",
     "text": [
      "Please enter an integer: jhhjk\n",
      "Looks like you did not enter an inetger. Try again!!\n",
      "Finally, I executed\n",
      "Please enter an integer: \n",
      "Looks like you did not enter an inetger. Try again!!\n",
      "Finally, I executed\n",
      "Please enter an integer: lkjlk\n",
      "Looks like you did not enter an inetger. Try again!!\n",
      "Finally, I executed\n",
      "Please enter an integer: 56\n",
      "Yes that is an integer\n",
      "Finally, I executed\n"
     ]
    }
   ],
   "source": [
    "askint()"
   ]
  },
  {
   "cell_type": "code",
   "execution_count": 9,
   "id": "5d21396d",
   "metadata": {},
   "outputs": [],
   "source": [
    "def askint():\n",
    "    while True:\n",
    "        try:\n",
    "            val = int(input('Please enter an integer: '))\n",
    "        except:\n",
    "            print('Looks like you did not enter an inetger. Try again!!')\n",
    "            continue\n",
    "        else:\n",
    "            print('Yes that is an integer')\n",
    "            print(val)\n",
    "            break\n",
    "        finally:\n",
    "            print('Finally, I executed')\n",
    "       "
   ]
  },
  {
   "cell_type": "code",
   "execution_count": 10,
   "id": "34ee55a0",
   "metadata": {},
   "outputs": [
    {
     "name": "stdout",
     "output_type": "stream",
     "text": [
      "Please enter an integer: 9\n",
      "Yes that is an integer\n",
      "9\n",
      "Finally, I executed\n"
     ]
    }
   ],
   "source": [
    "askint()"
   ]
  },
  {
   "cell_type": "code",
   "execution_count": null,
   "id": "2c5e4a89",
   "metadata": {},
   "outputs": [],
   "source": []
  }
 ],
 "metadata": {
  "kernelspec": {
   "display_name": "Python 3 (ipykernel)",
   "language": "python",
   "name": "python3"
  },
  "language_info": {
   "codemirror_mode": {
    "name": "ipython",
    "version": 3
   },
   "file_extension": ".py",
   "mimetype": "text/x-python",
   "name": "python",
   "nbconvert_exporter": "python",
   "pygments_lexer": "ipython3",
   "version": "3.11.5"
  }
 },
 "nbformat": 4,
 "nbformat_minor": 5
}
