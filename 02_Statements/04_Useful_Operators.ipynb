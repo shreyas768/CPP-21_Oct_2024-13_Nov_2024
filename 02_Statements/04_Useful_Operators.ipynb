{
 "cells": [
  {
   "cell_type": "markdown",
   "id": "9577f6bd",
   "metadata": {},
   "source": [
    "## Range"
   ]
  },
  {
   "cell_type": "code",
   "execution_count": 2,
   "id": "17946dbf",
   "metadata": {},
   "outputs": [
    {
     "data": {
      "text/plain": [
       "range(0, 11)"
      ]
     },
     "execution_count": 2,
     "metadata": {},
     "output_type": "execute_result"
    }
   ],
   "source": [
    "range(0,11) #this is a generator function. We have to cast it"
   ]
  },
  {
   "cell_type": "code",
   "execution_count": 3,
   "id": "f12245b3",
   "metadata": {},
   "outputs": [
    {
     "data": {
      "text/plain": [
       "[0, 1, 2, 3, 4, 5, 6, 7, 8, 9, 10]"
      ]
     },
     "execution_count": 3,
     "metadata": {},
     "output_type": "execute_result"
    }
   ],
   "source": [
    "list(range(0,11))"
   ]
  },
  {
   "cell_type": "code",
   "execution_count": 4,
   "id": "f35936ab",
   "metadata": {},
   "outputs": [
    {
     "data": {
      "text/plain": [
       "[0, 2, 4, 6, 8, 10]"
      ]
     },
     "execution_count": 4,
     "metadata": {},
     "output_type": "execute_result"
    }
   ],
   "source": [
    "list(range(0,11,2))"
   ]
  },
  {
   "cell_type": "code",
   "execution_count": 5,
   "id": "58faa276",
   "metadata": {},
   "outputs": [
    {
     "data": {
      "text/plain": [
       "[0, 3, 6, 9]"
      ]
     },
     "execution_count": 5,
     "metadata": {},
     "output_type": "execute_result"
    }
   ],
   "source": [
    "list(range(0,11,3))"
   ]
  },
  {
   "cell_type": "markdown",
   "id": "caa2fbdc",
   "metadata": {},
   "source": [
    "### Enumerate"
   ]
  },
  {
   "cell_type": "code",
   "execution_count": 8,
   "id": "ace5a121",
   "metadata": {},
   "outputs": [
    {
     "name": "stdout",
     "output_type": "stream",
     "text": [
      "At index 0 the letter is a\n",
      "At index 1 the letter is b\n",
      "At index 2 the letter is c\n",
      "At index 3 the letter is d\n",
      "At index 4 the letter is e\n"
     ]
    }
   ],
   "source": [
    "index_count = 0\n",
    "\n",
    "for s in 'abcde':\n",
    "    print('At index {} the letter is {}'.format(index_count,s))\n",
    "    index_count += 1"
   ]
  },
  {
   "cell_type": "code",
   "execution_count": 9,
   "id": "db2a6ea1",
   "metadata": {},
   "outputs": [
    {
     "name": "stdout",
     "output_type": "stream",
     "text": [
      "At index 0 the letter is a\n",
      "At index 1 the letter is b\n",
      "At index 2 the letter is c\n",
      "At index 3 the letter is d\n",
      "At index 4 the letter is e\n"
     ]
    }
   ],
   "source": [
    "for i, s in enumerate('abcde'):\n",
    "    print('At index {} the letter is {}'.format(i,s))"
   ]
  },
  {
   "cell_type": "code",
   "execution_count": 11,
   "id": "bdf05f26",
   "metadata": {},
   "outputs": [
    {
     "data": {
      "text/plain": [
       "[(0, 'a'), (1, 'b'), (2, 'c'), (3, 'd'), (4, 'e')]"
      ]
     },
     "execution_count": 11,
     "metadata": {},
     "output_type": "execute_result"
    }
   ],
   "source": [
    "list(enumerate('abcde'))"
   ]
  },
  {
   "cell_type": "markdown",
   "id": "621b8fe0",
   "metadata": {},
   "source": [
    "### Zip"
   ]
  },
  {
   "cell_type": "code",
   "execution_count": 16,
   "id": "2fdb512a",
   "metadata": {},
   "outputs": [],
   "source": [
    "lst1 = [101,91,982,98123,24,95]\n",
    "lst2 = ['a','b','c','d','e']"
   ]
  },
  {
   "cell_type": "code",
   "execution_count": 17,
   "id": "83404ae8",
   "metadata": {},
   "outputs": [
    {
     "data": {
      "text/plain": [
       "[(101, 'a'), (91, 'b'), (982, 'c'), (98123, 'd'), (24, 'e')]"
      ]
     },
     "execution_count": 17,
     "metadata": {},
     "output_type": "execute_result"
    }
   ],
   "source": [
    "list(zip(lst1,lst2))"
   ]
  },
  {
   "cell_type": "code",
   "execution_count": 18,
   "id": "a2ecd564",
   "metadata": {},
   "outputs": [
    {
     "name": "stdout",
     "output_type": "stream",
     "text": [
      "At index 101 the letter is a\n",
      "At index 91 the letter is b\n",
      "At index 982 the letter is c\n",
      "At index 98123 the letter is d\n",
      "At index 24 the letter is e\n"
     ]
    }
   ],
   "source": [
    "for i, s in zip(lst1,lst2):\n",
    "    print('At index {} the letter is {}'.format(i,s))"
   ]
  },
  {
   "cell_type": "markdown",
   "id": "eaefc19b",
   "metadata": {},
   "source": [
    "### In"
   ]
  },
  {
   "cell_type": "code",
   "execution_count": 20,
   "id": "6d67de9e",
   "metadata": {},
   "outputs": [
    {
     "data": {
      "text/plain": [
       "True"
      ]
     },
     "execution_count": 20,
     "metadata": {},
     "output_type": "execute_result"
    }
   ],
   "source": [
    "'x' in ['x','y','z','as','we']"
   ]
  },
  {
   "cell_type": "code",
   "execution_count": 22,
   "id": "c78f3a61",
   "metadata": {},
   "outputs": [
    {
     "data": {
      "text/plain": [
       "False"
      ]
     },
     "execution_count": 22,
     "metadata": {},
     "output_type": "execute_result"
    }
   ],
   "source": [
    "'z' in 'Shreyas'"
   ]
  },
  {
   "cell_type": "code",
   "execution_count": 24,
   "id": "4d9c1414",
   "metadata": {},
   "outputs": [
    {
     "data": {
      "text/plain": [
       "False"
      ]
     },
     "execution_count": 24,
     "metadata": {},
     "output_type": "execute_result"
    }
   ],
   "source": [
    "12 in ('12','hello',45)"
   ]
  },
  {
   "cell_type": "markdown",
   "id": "eb435975",
   "metadata": {},
   "source": [
    "### Not In"
   ]
  },
  {
   "cell_type": "code",
   "execution_count": 25,
   "id": "c7353ea3",
   "metadata": {},
   "outputs": [
    {
     "data": {
      "text/plain": [
       "False"
      ]
     },
     "execution_count": 25,
     "metadata": {},
     "output_type": "execute_result"
    }
   ],
   "source": [
    "'x' not in ['x','y','z','as','we']"
   ]
  },
  {
   "cell_type": "code",
   "execution_count": 26,
   "id": "00ecddf5",
   "metadata": {},
   "outputs": [
    {
     "data": {
      "text/plain": [
       "True"
      ]
     },
     "execution_count": 26,
     "metadata": {},
     "output_type": "execute_result"
    }
   ],
   "source": [
    "'z' not in 'Shreyas'"
   ]
  },
  {
   "cell_type": "code",
   "execution_count": 27,
   "id": "3e02db2f",
   "metadata": {},
   "outputs": [
    {
     "data": {
      "text/plain": [
       "True"
      ]
     },
     "execution_count": 27,
     "metadata": {},
     "output_type": "execute_result"
    }
   ],
   "source": [
    "12 not in ('12','hello',45)"
   ]
  },
  {
   "cell_type": "code",
   "execution_count": 28,
   "id": "7d14987b",
   "metadata": {},
   "outputs": [],
   "source": [
    "lst1 = [101,91,982,98123,24,95]"
   ]
  },
  {
   "cell_type": "code",
   "execution_count": 29,
   "id": "bb1ae77b",
   "metadata": {},
   "outputs": [
    {
     "data": {
      "text/plain": [
       "24"
      ]
     },
     "execution_count": 29,
     "metadata": {},
     "output_type": "execute_result"
    }
   ],
   "source": [
    "min(lst1)"
   ]
  },
  {
   "cell_type": "code",
   "execution_count": 30,
   "id": "0c401f90",
   "metadata": {},
   "outputs": [
    {
     "data": {
      "text/plain": [
       "98123"
      ]
     },
     "execution_count": 30,
     "metadata": {},
     "output_type": "execute_result"
    }
   ],
   "source": [
    "max(lst1)"
   ]
  },
  {
   "cell_type": "markdown",
   "id": "b10a032a",
   "metadata": {},
   "source": [
    "### Random library"
   ]
  },
  {
   "cell_type": "code",
   "execution_count": 31,
   "id": "c812668a",
   "metadata": {},
   "outputs": [
    {
     "data": {
      "text/plain": [
       "[101, 91, 982, 98123, 24, 95]"
      ]
     },
     "execution_count": 31,
     "metadata": {},
     "output_type": "execute_result"
    }
   ],
   "source": [
    "lst1"
   ]
  },
  {
   "cell_type": "code",
   "execution_count": 32,
   "id": "26f299fd",
   "metadata": {},
   "outputs": [],
   "source": [
    "from random import shuffle"
   ]
  },
  {
   "cell_type": "code",
   "execution_count": 35,
   "id": "68bc0d9c",
   "metadata": {},
   "outputs": [],
   "source": [
    "shuffle(lst1)"
   ]
  },
  {
   "cell_type": "code",
   "execution_count": 39,
   "id": "f03162bb",
   "metadata": {},
   "outputs": [
    {
     "data": {
      "text/plain": [
       "[982, 101, 24, 91, 95, 98123]"
      ]
     },
     "execution_count": 39,
     "metadata": {},
     "output_type": "execute_result"
    }
   ],
   "source": [
    "lst1"
   ]
  },
  {
   "cell_type": "code",
   "execution_count": 49,
   "id": "ab331720",
   "metadata": {},
   "outputs": [
    {
     "data": {
      "text/plain": [
       "12897714657"
      ]
     },
     "execution_count": 49,
     "metadata": {},
     "output_type": "execute_result"
    }
   ],
   "source": [
    "from random import randint\n",
    "\n",
    "randint(0,16981298300)"
   ]
  },
  {
   "cell_type": "code",
   "execution_count": 50,
   "id": "5a6cc543",
   "metadata": {},
   "outputs": [
    {
     "data": {
      "text/plain": [
       "[982, 101, 24, 91, 95, 98123]"
      ]
     },
     "execution_count": 50,
     "metadata": {},
     "output_type": "execute_result"
    }
   ],
   "source": [
    "lst1"
   ]
  },
  {
   "cell_type": "code",
   "execution_count": 54,
   "id": "33f276c5",
   "metadata": {},
   "outputs": [],
   "source": [
    "from random import choice\n",
    "\n"
   ]
  },
  {
   "cell_type": "code",
   "execution_count": 59,
   "id": "4ec292f5",
   "metadata": {},
   "outputs": [
    {
     "data": {
      "text/plain": [
       "24"
      ]
     },
     "execution_count": 59,
     "metadata": {},
     "output_type": "execute_result"
    }
   ],
   "source": [
    "choice(lst1)"
   ]
  },
  {
   "cell_type": "code",
   "execution_count": 60,
   "id": "d7705dfb",
   "metadata": {},
   "outputs": [],
   "source": [
    "import random as rn"
   ]
  },
  {
   "cell_type": "code",
   "execution_count": 63,
   "id": "27e71ff5",
   "metadata": {},
   "outputs": [
    {
     "data": {
      "text/plain": [
       "2.2197412064812596"
      ]
     },
     "execution_count": 63,
     "metadata": {},
     "output_type": "execute_result"
    }
   ],
   "source": [
    "rn.uniform(2,3)"
   ]
  },
  {
   "cell_type": "code",
   "execution_count": 64,
   "id": "a6c9a548",
   "metadata": {},
   "outputs": [
    {
     "data": {
      "text/plain": [
       "5.506690843411655"
      ]
     },
     "execution_count": 64,
     "metadata": {},
     "output_type": "execute_result"
    }
   ],
   "source": [
    "rn.triangular(3,6)"
   ]
  },
  {
   "cell_type": "code",
   "execution_count": null,
   "id": "d8dc6199",
   "metadata": {},
   "outputs": [],
   "source": []
  }
 ],
 "metadata": {
  "kernelspec": {
   "display_name": "Python 3 (ipykernel)",
   "language": "python",
   "name": "python3"
  },
  "language_info": {
   "codemirror_mode": {
    "name": "ipython",
    "version": 3
   },
   "file_extension": ".py",
   "mimetype": "text/x-python",
   "name": "python",
   "nbconvert_exporter": "python",
   "pygments_lexer": "ipython3",
   "version": "3.11.5"
  }
 },
 "nbformat": 4,
 "nbformat_minor": 5
}
