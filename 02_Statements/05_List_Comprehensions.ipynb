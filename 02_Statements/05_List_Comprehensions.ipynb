{
 "cells": [
  {
   "cell_type": "code",
   "execution_count": 1,
   "id": "e0378de7",
   "metadata": {},
   "outputs": [
    {
     "data": {
      "text/plain": [
       "['w', 'o', 'r', 'd']"
      ]
     },
     "execution_count": 1,
     "metadata": {},
     "output_type": "execute_result"
    }
   ],
   "source": [
    "lst = []\n",
    "for x in 'word':\n",
    "    lst.append(x)\n",
    "    \n",
    "lst"
   ]
  },
  {
   "cell_type": "code",
   "execution_count": 2,
   "id": "8df57f64",
   "metadata": {},
   "outputs": [
    {
     "data": {
      "text/plain": [
       "['w', 'o', 'r', 'd']"
      ]
     },
     "execution_count": 2,
     "metadata": {},
     "output_type": "execute_result"
    }
   ],
   "source": [
    "[x for x in 'word']"
   ]
  },
  {
   "cell_type": "code",
   "execution_count": 3,
   "id": "d25846df",
   "metadata": {},
   "outputs": [
    {
     "data": {
      "text/plain": [
       "[0.0, 24.0, 192.0, 648.0, 1536.0, 3000.0, 5184.0]"
      ]
     },
     "execution_count": 3,
     "metadata": {},
     "output_type": "execute_result"
    }
   ],
   "source": [
    "[((x**3)/3)//3 for x in range(0,41,3) if x%2 == 0]"
   ]
  },
  {
   "cell_type": "code",
   "execution_count": 4,
   "id": "6e014b18",
   "metadata": {},
   "outputs": [
    {
     "data": {
      "text/plain": [
       "[12, 16, 20]"
      ]
     },
     "execution_count": 4,
     "metadata": {},
     "output_type": "execute_result"
    }
   ],
   "source": [
    "[y for y in [x*2 for x in range(0,11) if x%2 == 0] if y > 10]"
   ]
  },
  {
   "cell_type": "code",
   "execution_count": 5,
   "id": "8ae04bea",
   "metadata": {},
   "outputs": [
    {
     "data": {
      "text/plain": [
       "[12, 16, 20]"
      ]
     },
     "execution_count": 5,
     "metadata": {},
     "output_type": "execute_result"
    }
   ],
   "source": [
    "[y for y in [0,4,8,12,16,20] if y > 10]"
   ]
  },
  {
   "cell_type": "code",
   "execution_count": 6,
   "id": "a8afccc2",
   "metadata": {},
   "outputs": [
    {
     "data": {
      "text/plain": [
       "[12, 16, 20]"
      ]
     },
     "execution_count": 6,
     "metadata": {},
     "output_type": "execute_result"
    }
   ],
   "source": [
    "lst4 = [0,4,8,12,16,20]\n",
    "[y for y in lst4 if y > 10]"
   ]
  },
  {
   "cell_type": "code",
   "execution_count": 7,
   "id": "c945ba1c",
   "metadata": {},
   "outputs": [
    {
     "data": {
      "text/plain": [
       "[50.0, 68.0, 83.768, 94.964, 104.018, 114.17]"
      ]
     },
     "execution_count": 7,
     "metadata": {},
     "output_type": "execute_result"
    }
   ],
   "source": [
    "celsius = [10,20,28.76, 34.98,40.01,45.65]\n",
    "fahrenheit =[(9/5)*C + 32 for C in celsius]\n",
    "fahrenheit"
   ]
  },
  {
   "cell_type": "markdown",
   "id": "b54a85cf",
   "metadata": {},
   "source": [
    "1. first letter of this string s = 'This is CPP course which is the foundational level course on Python'\n",
    "2. Filter out all the vowels from the string and store the remaining characters in a list\n",
    "3. length of each of the word in the above string\n",
    "4. create a list of numbers from 1 to 20 where each numbet is replaced with 'Even' if its even and 'Odd' is its odd. "
   ]
  },
  {
   "cell_type": "code",
   "execution_count": 12,
   "id": "23410b70",
   "metadata": {},
   "outputs": [],
   "source": [
    "st = 'This is CPP course which is the foundational level course on Python'"
   ]
  },
  {
   "cell_type": "code",
   "execution_count": 11,
   "id": "1bf8e5b2",
   "metadata": {},
   "outputs": [
    {
     "data": {
      "text/plain": [
       "['T', 'i', 'C', 'c', 'w', 'i', 't', 'f', 'l', 'c', 'o', 'P']"
      ]
     },
     "execution_count": 11,
     "metadata": {},
     "output_type": "execute_result"
    }
   ],
   "source": [
    "#1\n",
    "[w[0] for w in 'This is CPP course which is the foundational level course on Python'.split()]"
   ]
  },
  {
   "cell_type": "code",
   "execution_count": 14,
   "id": "b77007a1",
   "metadata": {},
   "outputs": [
    {
     "data": {
      "text/plain": [
       "['T',\n",
       " 'h',\n",
       " 's',\n",
       " 's',\n",
       " 'C',\n",
       " 'P',\n",
       " 'P',\n",
       " 'c',\n",
       " 'r',\n",
       " 's',\n",
       " 'w',\n",
       " 'h',\n",
       " 'c',\n",
       " 'h',\n",
       " 's',\n",
       " 't',\n",
       " 'h',\n",
       " 'f',\n",
       " 'n',\n",
       " 'd',\n",
       " 't',\n",
       " 'n',\n",
       " 'l',\n",
       " 'l',\n",
       " 'v',\n",
       " 'l',\n",
       " 'c',\n",
       " 'r',\n",
       " 's',\n",
       " 'n',\n",
       " 'P',\n",
       " 'y',\n",
       " 't',\n",
       " 'h',\n",
       " 'n']"
      ]
     },
     "execution_count": 14,
     "metadata": {},
     "output_type": "execute_result"
    }
   ],
   "source": [
    "#2\n",
    "[l for l in st if l not in 'aeiou ']"
   ]
  },
  {
   "cell_type": "code",
   "execution_count": 26,
   "id": "f4907de3",
   "metadata": {},
   "outputs": [
    {
     "data": {
      "text/plain": [
       "[4, 2, 3, 6, 5, 2, 3, 12, 5, 6, 2, 6]"
      ]
     },
     "execution_count": 26,
     "metadata": {},
     "output_type": "execute_result"
    }
   ],
   "source": [
    "#3\n",
    "[len(w) for w in st.split()]"
   ]
  },
  {
   "cell_type": "code",
   "execution_count": 27,
   "id": "fdd8a8db",
   "metadata": {},
   "outputs": [
    {
     "data": {
      "text/plain": [
       "['Odd',\n",
       " 'Even',\n",
       " 'Odd',\n",
       " 'Even',\n",
       " 'Odd',\n",
       " 'Even',\n",
       " 'Odd',\n",
       " 'Even',\n",
       " 'Odd',\n",
       " 'Even',\n",
       " 'Odd',\n",
       " 'Even',\n",
       " 'Odd',\n",
       " 'Even',\n",
       " 'Odd',\n",
       " 'Even',\n",
       " 'Odd',\n",
       " 'Even',\n",
       " 'Odd',\n",
       " 'Even']"
      ]
     },
     "execution_count": 27,
     "metadata": {},
     "output_type": "execute_result"
    }
   ],
   "source": [
    "#4\n",
    "['Even' if x%2 == 0 else 'Odd' for x in range(1,21)]"
   ]
  },
  {
   "cell_type": "code",
   "execution_count": 29,
   "id": "276d9e5d",
   "metadata": {},
   "outputs": [
    {
     "data": {
      "text/plain": [
       "[15, 30, 45, 60, 75, 90, 105, 120, 135, 150]"
      ]
     },
     "execution_count": 29,
     "metadata": {},
     "output_type": "execute_result"
    }
   ],
   "source": [
    "#All the numbers between 1 to 151 which are divisible by both 3 and 5\n",
    "\n",
    "[x for x in range(1,151) if x%3 == 0 and x%5 == 0]"
   ]
  },
  {
   "cell_type": "code",
   "execution_count": 33,
   "id": "e61767df",
   "metadata": {},
   "outputs": [
    {
     "data": {
      "text/plain": [
       "[1, 2, 3, 4, 5, 6, 7, 8]"
      ]
     },
     "execution_count": 33,
     "metadata": {},
     "output_type": "execute_result"
    }
   ],
   "source": [
    "# Flatten out this lst = [[1,2,3],[4,5],[6,7,8]]\n",
    "lst = [[1,2,3],[4,5],[6,7,8]]\n",
    "[item for sublist in lst for item in sublist]"
   ]
  },
  {
   "cell_type": "code",
   "execution_count": null,
   "id": "734bac4f",
   "metadata": {},
   "outputs": [],
   "source": []
  }
 ],
 "metadata": {
  "kernelspec": {
   "display_name": "Python 3 (ipykernel)",
   "language": "python",
   "name": "python3"
  },
  "language_info": {
   "codemirror_mode": {
    "name": "ipython",
    "version": 3
   },
   "file_extension": ".py",
   "mimetype": "text/x-python",
   "name": "python",
   "nbconvert_exporter": "python",
   "pygments_lexer": "ipython3",
   "version": "3.11.5"
  }
 },
 "nbformat": 4,
 "nbformat_minor": 5
}
