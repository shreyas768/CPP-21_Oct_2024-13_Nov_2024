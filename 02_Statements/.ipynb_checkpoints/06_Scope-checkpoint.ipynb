{
 "cells": [
  {
   "cell_type": "code",
   "execution_count": 1,
   "id": "90ce8881",
   "metadata": {},
   "outputs": [],
   "source": [
    "x = 25\n",
    "\n",
    "def printer():\n",
    "    x = 50\n",
    "    return x"
   ]
  },
  {
   "cell_type": "code",
   "execution_count": 2,
   "id": "ea509163",
   "metadata": {},
   "outputs": [
    {
     "name": "stdout",
     "output_type": "stream",
     "text": [
      "25\n"
     ]
    }
   ],
   "source": [
    "print(x)"
   ]
  },
  {
   "cell_type": "code",
   "execution_count": 3,
   "id": "8fff76ec",
   "metadata": {},
   "outputs": [
    {
     "name": "stdout",
     "output_type": "stream",
     "text": [
      "50\n"
     ]
    }
   ],
   "source": [
    "print(printer())"
   ]
  },
  {
   "cell_type": "markdown",
   "id": "dc41299a",
   "metadata": {},
   "source": [
    "## Rules:\n",
    "\n",
    "* Name assignments will create or change local names by default\n",
    "* Name references search (at most) four scopes:  local, enclosing, global, built-in (LEGB rule)\n",
    "* Name declared in global and nonlocal statements map assigned names to enclosing module and function scopes\n",
    "\n",
    "\n",
    "\n",
    "##### Examples of LEGB:"
   ]
  },
  {
   "cell_type": "code",
   "execution_count": 4,
   "id": "2d0bfa1d",
   "metadata": {},
   "outputs": [],
   "source": [
    "f = lambda x:x**2\n",
    "\n",
    "#x is local here"
   ]
  },
  {
   "cell_type": "code",
   "execution_count": 6,
   "id": "2fb3bfea",
   "metadata": {},
   "outputs": [
    {
     "name": "stdout",
     "output_type": "stream",
     "text": [
      "Hello I'm a local\n"
     ]
    }
   ],
   "source": [
    "#Enclosing Function locals\n",
    "\n",
    "name = 'This is a global name'\n",
    "\n",
    "def namaste():\n",
    "    \n",
    "    #Enclosing Function\n",
    "    name = 'Shreyas'\n",
    "    \n",
    "    def hello():\n",
    "        name = \"I'm a local\"\n",
    "        print('Hello '+name)\n",
    "        \n",
    "    hello()\n",
    "\n",
    "namaste()"
   ]
  },
  {
   "cell_type": "code",
   "execution_count": 7,
   "id": "39b885b2",
   "metadata": {},
   "outputs": [
    {
     "name": "stdout",
     "output_type": "stream",
     "text": [
      "This is a global name\n"
     ]
    }
   ],
   "source": [
    "print(name)"
   ]
  },
  {
   "cell_type": "code",
   "execution_count": 8,
   "id": "33d2335b",
   "metadata": {},
   "outputs": [],
   "source": [
    "x = 50\n",
    "\n",
    "def func(x):\n",
    "    print('x is ', x)\n",
    "    x = 2\n",
    "    print('Changed local x to ', x)\n",
    "    "
   ]
  },
  {
   "cell_type": "code",
   "execution_count": 9,
   "id": "87bca08d",
   "metadata": {},
   "outputs": [
    {
     "name": "stdout",
     "output_type": "stream",
     "text": [
      "x is  50\n",
      "Changed local x to  2\n"
     ]
    }
   ],
   "source": [
    "func(x)"
   ]
  },
  {
   "cell_type": "code",
   "execution_count": 10,
   "id": "f7c186bc",
   "metadata": {},
   "outputs": [
    {
     "name": "stdout",
     "output_type": "stream",
     "text": [
      "x is still  50\n"
     ]
    }
   ],
   "source": [
    "print('x is still ', x)"
   ]
  },
  {
   "cell_type": "code",
   "execution_count": 16,
   "id": "6426dd7e",
   "metadata": {},
   "outputs": [],
   "source": [
    "#global statement\n",
    "\n",
    "x = 50\n",
    "\n",
    "def func():\n",
    "    global x\n",
    "    print('This function is now using global x which is ',x)\n",
    "    x = 2\n",
    "    print('Ran Func(), changed x to ',x)"
   ]
  },
  {
   "cell_type": "code",
   "execution_count": 14,
   "id": "d31894cb",
   "metadata": {},
   "outputs": [
    {
     "name": "stdout",
     "output_type": "stream",
     "text": [
      "This function is now using global x which is  50\n",
      "Ran Func(), changed x to  2\n"
     ]
    }
   ],
   "source": [
    "func()"
   ]
  },
  {
   "cell_type": "code",
   "execution_count": null,
   "id": "5cba0c32",
   "metadata": {},
   "outputs": [],
   "source": []
  }
 ],
 "metadata": {
  "kernelspec": {
   "display_name": "Python 3 (ipykernel)",
   "language": "python",
   "name": "python3"
  },
  "language_info": {
   "codemirror_mode": {
    "name": "ipython",
    "version": 3
   },
   "file_extension": ".py",
   "mimetype": "text/x-python",
   "name": "python",
   "nbconvert_exporter": "python",
   "pygments_lexer": "ipython3",
   "version": "3.11.5"
  }
 },
 "nbformat": 4,
 "nbformat_minor": 5
}
