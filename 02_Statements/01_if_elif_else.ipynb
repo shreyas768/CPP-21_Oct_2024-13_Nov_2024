{
 "cells": [
  {
   "cell_type": "code",
   "execution_count": 4,
   "id": "6a82141e",
   "metadata": {},
   "outputs": [],
   "source": [
    "x = 4"
   ]
  },
  {
   "cell_type": "code",
   "execution_count": 5,
   "id": "9bcb4475",
   "metadata": {},
   "outputs": [],
   "source": [
    "if x == 2:\n",
    "    print('It was True!!')"
   ]
  },
  {
   "cell_type": "code",
   "execution_count": 6,
   "id": "5c777417",
   "metadata": {},
   "outputs": [
    {
     "name": "stdout",
     "output_type": "stream",
     "text": [
      "It was False !!\n"
     ]
    }
   ],
   "source": [
    "if x == 2:\n",
    "    print('It was True!!')\n",
    "else:\n",
    "    print('It was False !!')"
   ]
  },
  {
   "cell_type": "code",
   "execution_count": 7,
   "id": "453d4cc3",
   "metadata": {},
   "outputs": [
    {
     "ename": "SyntaxError",
     "evalue": "invalid syntax (665909384.py, line 3)",
     "output_type": "error",
     "traceback": [
      "\u001b[0;36m  Cell \u001b[0;32mIn[7], line 3\u001b[0;36m\u001b[0m\n\u001b[0;31m    else:\u001b[0m\n\u001b[0m    ^\u001b[0m\n\u001b[0;31mSyntaxError\u001b[0m\u001b[0;31m:\u001b[0m invalid syntax\n"
     ]
    }
   ],
   "source": [
    "if x == 2:\n",
    "    print('It was True!!')\n",
    "    else:\n",
    "        print('It was False!!')"
   ]
  },
  {
   "cell_type": "markdown",
   "id": "269c2657",
   "metadata": {},
   "source": [
    "#### Multiple Branches"
   ]
  },
  {
   "cell_type": "code",
   "execution_count": 13,
   "id": "4b903874",
   "metadata": {},
   "outputs": [],
   "source": [
    "place = 'unknown'"
   ]
  },
  {
   "cell_type": "code",
   "execution_count": 15,
   "id": "9d1d4fd6",
   "metadata": {},
   "outputs": [
    {
     "name": "stdout",
     "output_type": "stream",
     "text": [
      "Where are you?\n"
     ]
    }
   ],
   "source": [
    "if place == 'Shop':\n",
    "    print('Welcome to the shop')\n",
    "elif place == 'Bank':\n",
    "    print(len(place))\n",
    "else:\n",
    "    print('Where are you?')\n"
   ]
  },
  {
   "cell_type": "code",
   "execution_count": 31,
   "id": "a6ef8be1",
   "metadata": {},
   "outputs": [
    {
     "name": "stdout",
     "output_type": "stream",
     "text": [
      "What is your name?\n"
     ]
    }
   ],
   "source": [
    "person = 'David1'\n",
    "\n",
    "if person == 'David':\n",
    "    print(len('David'))\n",
    "elif person == 'Sammy':\n",
    "    print(person.upper())\n",
    "elif person == 'Rob':\n",
    "    print('Red Wedding')\n",
    "else:\n",
    "    print('What is your name?')"
   ]
  },
  {
   "cell_type": "code",
   "execution_count": 20,
   "id": "6517d151",
   "metadata": {},
   "outputs": [
    {
     "name": "stdout",
     "output_type": "stream",
     "text": [
      "Enter a number: 78687\n"
     ]
    }
   ],
   "source": [
    "#Input\n",
    "\n",
    "x = input('Enter a number: ')"
   ]
  },
  {
   "cell_type": "code",
   "execution_count": 22,
   "id": "30fe9be9",
   "metadata": {},
   "outputs": [
    {
     "data": {
      "text/plain": [
       "str"
      ]
     },
     "execution_count": 22,
     "metadata": {},
     "output_type": "execute_result"
    }
   ],
   "source": [
    "type(x)"
   ]
  },
  {
   "cell_type": "code",
   "execution_count": 23,
   "id": "3f224b05",
   "metadata": {},
   "outputs": [],
   "source": [
    "y = '45'"
   ]
  },
  {
   "cell_type": "code",
   "execution_count": 24,
   "id": "b4408c3f",
   "metadata": {},
   "outputs": [
    {
     "data": {
      "text/plain": [
       "str"
      ]
     },
     "execution_count": 24,
     "metadata": {},
     "output_type": "execute_result"
    }
   ],
   "source": [
    "type(y)"
   ]
  },
  {
   "cell_type": "code",
   "execution_count": 25,
   "id": "cb169cc7",
   "metadata": {},
   "outputs": [
    {
     "data": {
      "text/plain": [
       "45"
      ]
     },
     "execution_count": 25,
     "metadata": {},
     "output_type": "execute_result"
    }
   ],
   "source": [
    "int(y)"
   ]
  },
  {
   "cell_type": "code",
   "execution_count": 27,
   "id": "ee7fceb4",
   "metadata": {},
   "outputs": [
    {
     "data": {
      "text/plain": [
       "'45'"
      ]
     },
     "execution_count": 27,
     "metadata": {},
     "output_type": "execute_result"
    }
   ],
   "source": [
    "y"
   ]
  },
  {
   "cell_type": "code",
   "execution_count": 28,
   "id": "654aefa7",
   "metadata": {},
   "outputs": [
    {
     "data": {
      "text/plain": [
       "45.0"
      ]
     },
     "execution_count": 28,
     "metadata": {},
     "output_type": "execute_result"
    }
   ],
   "source": [
    "float(y)"
   ]
  },
  {
   "cell_type": "code",
   "execution_count": 29,
   "id": "6b263841",
   "metadata": {},
   "outputs": [
    {
     "name": "stdout",
     "output_type": "stream",
     "text": [
      "Enter a number: 71269129\n"
     ]
    }
   ],
   "source": [
    "x = int(input('Enter a number: '))"
   ]
  },
  {
   "cell_type": "code",
   "execution_count": 30,
   "id": "4ce91638",
   "metadata": {},
   "outputs": [
    {
     "data": {
      "text/plain": [
       "int"
      ]
     },
     "execution_count": 30,
     "metadata": {},
     "output_type": "execute_result"
    }
   ],
   "source": [
    "type(x)"
   ]
  },
  {
   "cell_type": "code",
   "execution_count": 45,
   "id": "b7772f93",
   "metadata": {},
   "outputs": [],
   "source": [
    "x = 11 \n",
    "y =13"
   ]
  },
  {
   "cell_type": "code",
   "execution_count": 46,
   "id": "23aef890",
   "metadata": {},
   "outputs": [
    {
     "name": "stdout",
     "output_type": "stream",
     "text": [
      "x != 1 and y != 3\n"
     ]
    }
   ],
   "source": [
    "if x == 1:\n",
    "    if y == 3:\n",
    "        print('x=1 and y =3')\n",
    "    else:\n",
    "        print('x=1 but y is not = 3')\n",
    "elif x != 1:\n",
    "    if y == 3:\n",
    "        print('x != 1 and y == 3')\n",
    "    else:\n",
    "        print('x != 1 and y != 3')\n",
    "else:\n",
    "    print('uqwdgkwek')"
   ]
  },
  {
   "cell_type": "markdown",
   "id": "e5c4a7a7",
   "metadata": {},
   "source": [
    "1. check if a number is even or odd\n",
    "2. check whether a number is positive, negative or zero\n",
    "3. determine largest of three numbers\n",
    "4. with 3 lengths of triangle, check if it is equilateral, isosceles, scalene\n",
    "5. with age and gender of a person, check if they qualify for a jon where qualification creteria is: for Male (age is min 21 years old), for Female (age is min 18 years old) "
   ]
  },
  {
   "cell_type": "code",
   "execution_count": 49,
   "id": "7a8289ac",
   "metadata": {},
   "outputs": [
    {
     "name": "stdout",
     "output_type": "stream",
     "text": [
      "Enter any number: 13\n",
      "odd\n"
     ]
    }
   ],
   "source": [
    "#1\n",
    "\n",
    "num = int(input('Enter any number: '))\n",
    "\n",
    "if num%2 == 0:\n",
    "    print('even')\n",
    "else:\n",
    "    print('odd')"
   ]
  },
  {
   "cell_type": "code",
   "execution_count": 52,
   "id": "9493d8df",
   "metadata": {},
   "outputs": [
    {
     "name": "stdout",
     "output_type": "stream",
     "text": [
      "Enter any number: 0\n",
      "Zero\n"
     ]
    }
   ],
   "source": [
    "#2\n",
    "\n",
    "num = int(input('Enter any number: '))\n",
    "\n",
    "if num > 0:\n",
    "    print('Positive')\n",
    "elif num < 0:\n",
    "    print(\"Negative\")\n",
    "else:\n",
    "    print('Zero')"
   ]
  },
  {
   "cell_type": "code",
   "execution_count": 3,
   "id": "14a78dff",
   "metadata": {},
   "outputs": [
    {
     "name": "stdout",
     "output_type": "stream",
     "text": [
      "Enter first number: 11\n",
      "Enter second number: 12\n",
      "Enter third number: 11\n",
      "Largest Number is:  12\n"
     ]
    }
   ],
   "source": [
    "a = int(input('Enter first number: '))\n",
    "b = int(input('Enter second number: '))\n",
    "c = int(input('Enter third number: '))\n",
    "\n",
    "if a >= b and a >= c:\n",
    "    print('Largest Number is: ',a)\n",
    "\n",
    "elif b >= a and b >= c:\n",
    "    print('Largest Number is: ',b)\n",
    "    \n",
    "else:\n",
    "    print('Largest Number is: ',c)\n",
    "    \n"
   ]
  },
  {
   "cell_type": "markdown",
   "id": "d645af84",
   "metadata": {},
   "source": [
    "    \n",
    "- elif c > a and c > b:\n",
    "    print('Largest Number is: ',c)\n",
    "\n",
    "- elif a == b == c:\n",
    "    print('All three are equal')\n",
    "    \n",
    "- elif a == b and a > c:\n",
    "    print('Both a and b are largest')\n",
    "- elif b == c and b > a:\n",
    "    print('Both b and c are largest')\n",
    "- elif c == a and c > b:\n",
    "    print('a and b are largest')\n"
   ]
  },
  {
   "cell_type": "code",
   "execution_count": 5,
   "id": "f9def767",
   "metadata": {},
   "outputs": [
    {
     "name": "stdout",
     "output_type": "stream",
     "text": [
      "Enter first side: 1\n",
      "Enter second side: 2\n",
      "Enter third side: 3\n",
      "Scalene Triangle\n"
     ]
    }
   ],
   "source": [
    "#4\n",
    "a = int(input('Enter first side: '))\n",
    "b = int(input('Enter second side: '))\n",
    "c = int(input('Enter third side: '))\n",
    "\n",
    "if a == b ==c:\n",
    "    print('Equilateral Triangle')\n",
    "elif a == b or b == c or a == c:\n",
    "    print('isoceles triangle')\n",
    "else:\n",
    "    print('Scalene Triangle')"
   ]
  },
  {
   "cell_type": "code",
   "execution_count": 13,
   "id": "45b8486a",
   "metadata": {},
   "outputs": [
    {
     "name": "stdout",
     "output_type": "stream",
     "text": [
      "Enter your age: 21\n",
      "Enter your gender(M/F): female\n",
      "You qualify for the job\n"
     ]
    }
   ],
   "source": [
    "#5\n",
    "\n",
    "age = int(input('Enter your age: '))\n",
    "gender = input('Enter your gender(M/F): ').upper()[0]\n",
    "\n",
    "if (gender == 'M' and age>21) or (gender == 'F' and age > 18):\n",
    "    print('You qualify for the job')\n",
    "elif gender != 'M' or gender != 'F':\n",
    "    print('Gender category not present in the database. Try Again')\n",
    "else:\n",
    "    print('Disqualified !! ')"
   ]
  },
  {
   "cell_type": "code",
   "execution_count": 14,
   "id": "95f523b3",
   "metadata": {},
   "outputs": [],
   "source": [
    "#assign grades on these criteria: >= 90 Grade A, >= 75 Grade B,  >= 50 Grade C, <50 fail"
   ]
  },
  {
   "cell_type": "code",
   "execution_count": 15,
   "id": "394d4723",
   "metadata": {},
   "outputs": [
    {
     "name": "stdout",
     "output_type": "stream",
     "text": [
      "Enter the score: 34\n",
      "Fail\n"
     ]
    }
   ],
   "source": [
    "score = int(input('Enter the score: '))\n",
    "\n",
    "if score >= 90:\n",
    "    print('Grade A')\n",
    "elif score >= 75:\n",
    "    print(\"Grade B\")\n",
    "elif score >= 50:\n",
    "    print('Grade C')\n",
    "else:\n",
    "    print('Fail')"
   ]
  },
  {
   "cell_type": "code",
   "execution_count": null,
   "id": "a5cf08f9",
   "metadata": {},
   "outputs": [],
   "source": []
  }
 ],
 "metadata": {
  "kernelspec": {
   "display_name": "Python 3 (ipykernel)",
   "language": "python",
   "name": "python3"
  },
  "language_info": {
   "codemirror_mode": {
    "name": "ipython",
    "version": 3
   },
   "file_extension": ".py",
   "mimetype": "text/x-python",
   "name": "python",
   "nbconvert_exporter": "python",
   "pygments_lexer": "ipython3",
   "version": "3.11.5"
  }
 },
 "nbformat": 4,
 "nbformat_minor": 5
}
