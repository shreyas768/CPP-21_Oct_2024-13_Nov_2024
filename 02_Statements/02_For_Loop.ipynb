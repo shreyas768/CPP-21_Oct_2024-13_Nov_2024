{
 "cells": [
  {
   "cell_type": "code",
   "execution_count": 1,
   "id": "44c1fd39",
   "metadata": {},
   "outputs": [],
   "source": [
    "lst = [1,2,3,4,5,6,7,8,9,10]\n"
   ]
  },
  {
   "cell_type": "code",
   "execution_count": 2,
   "id": "4a9f51c7",
   "metadata": {},
   "outputs": [
    {
     "name": "stdout",
     "output_type": "stream",
     "text": [
      "2\n",
      "4\n",
      "6\n",
      "8\n",
      "10\n",
      "12\n",
      "14\n",
      "16\n",
      "18\n",
      "20\n"
     ]
    }
   ],
   "source": [
    "for num in lst:\n",
    "    print(num*2)"
   ]
  },
  {
   "cell_type": "code",
   "execution_count": 3,
   "id": "4f9f9d33",
   "metadata": {},
   "outputs": [
    {
     "name": "stdout",
     "output_type": "stream",
     "text": [
      "2\n",
      "4\n",
      "6\n",
      "8\n",
      "10\n"
     ]
    }
   ],
   "source": [
    "#Print even number\n",
    "\n",
    "for num in lst:\n",
    "    if num % 2 == 0:\n",
    "        print(num)"
   ]
  },
  {
   "cell_type": "code",
   "execution_count": 4,
   "id": "7594f7a0",
   "metadata": {},
   "outputs": [
    {
     "name": "stdout",
     "output_type": "stream",
     "text": [
      "1  is odd number.\n",
      "2  is even number.\n",
      "3  is odd number.\n",
      "4  is even number.\n",
      "5  is odd number.\n",
      "6  is even number.\n",
      "7  is odd number.\n",
      "8  is even number.\n",
      "9  is odd number.\n",
      "10  is even number.\n"
     ]
    }
   ],
   "source": [
    "for num in lst:\n",
    "    if num%2 == 0:\n",
    "        print(num, ' is even number.')\n",
    "    else:\n",
    "        print(num, ' is odd number.')"
   ]
  },
  {
   "cell_type": "code",
   "execution_count": 7,
   "id": "4f1d7ffe",
   "metadata": {},
   "outputs": [
    {
     "name": "stdout",
     "output_type": "stream",
     "text": [
      "1\n",
      "3\n",
      "6\n",
      "10\n",
      "15\n",
      "21\n",
      "28\n",
      "36\n",
      "45\n",
      "55\n"
     ]
    }
   ],
   "source": [
    "x = 0\n",
    "for num in lst:\n",
    "    x = x + num\n",
    "    print(x)"
   ]
  },
  {
   "cell_type": "code",
   "execution_count": 8,
   "id": "88da507a",
   "metadata": {},
   "outputs": [
    {
     "name": "stdout",
     "output_type": "stream",
     "text": [
      "55\n"
     ]
    }
   ],
   "source": [
    "x = 0\n",
    "for num in lst:\n",
    "    x = x + num\n",
    "print(x)"
   ]
  },
  {
   "cell_type": "code",
   "execution_count": 10,
   "id": "ee88161a",
   "metadata": {},
   "outputs": [
    {
     "name": "stdout",
     "output_type": "stream",
     "text": [
      "Largest number:  90\n",
      "Smallest number:  1\n"
     ]
    }
   ],
   "source": [
    "num = [23,1,48,90,15,3]\n",
    "\n",
    "largest = num[0]\n",
    "smallest = num[0]\n",
    "\n",
    "\n",
    "for n in num:\n",
    "    if n > largest:\n",
    "        largest = n\n",
    "    elif n < smallest:\n",
    "        smallest = n\n",
    "        \n",
    "        \n",
    "print('Largest number: ', largest)\n",
    "print('Smallest number: ', smallest)"
   ]
  },
  {
   "cell_type": "code",
   "execution_count": 13,
   "id": "db579c34",
   "metadata": {},
   "outputs": [
    {
     "name": "stdout",
     "output_type": "stream",
     "text": [
      "ENter any three values:11 12 13\n"
     ]
    }
   ],
   "source": [
    "x,y,z = input('ENter any three values:').split()"
   ]
  },
  {
   "cell_type": "code",
   "execution_count": 18,
   "id": "854dd7c9",
   "metadata": {},
   "outputs": [
    {
     "name": "stdout",
     "output_type": "stream",
     "text": [
      "ENter any three values:11 12 13 14 15\n"
     ]
    }
   ],
   "source": [
    "a,b,c,d,e = list(map(int,input('ENter any three values:').split() ))"
   ]
  },
  {
   "cell_type": "code",
   "execution_count": 1,
   "id": "590ee2db",
   "metadata": {},
   "outputs": [
    {
     "name": "stdout",
     "output_type": "stream",
     "text": [
      "2\n",
      "4\n",
      "6\n",
      "8\n",
      "10\n"
     ]
    }
   ],
   "source": [
    "tup = (1,2,3,4,5)\n",
    "\n",
    "for t1 in tup:\n",
    "    print(t1*2)"
   ]
  },
  {
   "cell_type": "code",
   "execution_count": 3,
   "id": "7516f542",
   "metadata": {},
   "outputs": [
    {
     "name": "stdout",
     "output_type": "stream",
     "text": [
      "(2, 4)\n",
      "(6, 8)\n",
      "(10, 12)\n"
     ]
    }
   ],
   "source": [
    "lst2 = [(2,4),(6,8),(10,12)]\n",
    "\n",
    "for t in lst2:\n",
    "    print(t)"
   ]
  },
  {
   "cell_type": "code",
   "execution_count": 5,
   "id": "87724ff1",
   "metadata": {},
   "outputs": [
    {
     "name": "stdout",
     "output_type": "stream",
     "text": [
      "8\n",
      "48\n",
      "120\n"
     ]
    }
   ],
   "source": [
    "#Tuple Unpacking\n",
    "for (t1,t2) in lst2:\n",
    "    print(t1*t2)"
   ]
  },
  {
   "cell_type": "code",
   "execution_count": 6,
   "id": "b42c7d42",
   "metadata": {},
   "outputs": [
    {
     "name": "stdout",
     "output_type": "stream",
     "text": [
      "k1\n",
      "k2\n",
      "k3\n"
     ]
    }
   ],
   "source": [
    "d = {'k1':1,'k2':2,'k3':3}\n",
    "\n",
    "for item in d:\n",
    "    print(item)"
   ]
  },
  {
   "cell_type": "code",
   "execution_count": 7,
   "id": "e69d1908",
   "metadata": {},
   "outputs": [
    {
     "data": {
      "text/plain": [
       "dict_items([('k1', 1), ('k2', 2), ('k3', 3)])"
      ]
     },
     "execution_count": 7,
     "metadata": {},
     "output_type": "execute_result"
    }
   ],
   "source": [
    "d.items()"
   ]
  },
  {
   "cell_type": "code",
   "execution_count": 9,
   "id": "92fa07c6",
   "metadata": {},
   "outputs": [
    {
     "name": "stdout",
     "output_type": "stream",
     "text": [
      "k1\n",
      "1\n",
      "k2\n",
      "2\n",
      "k3\n",
      "3\n"
     ]
    }
   ],
   "source": [
    "#dictionary Unpacking\n",
    "for k,v in d.items():\n",
    "    print(k)\n",
    "    print(v)"
   ]
  },
  {
   "cell_type": "code",
   "execution_count": 10,
   "id": "6d9613d5",
   "metadata": {},
   "outputs": [
    {
     "data": {
      "text/plain": [
       "dict_keys(['k1', 'k2', 'k3'])"
      ]
     },
     "execution_count": 10,
     "metadata": {},
     "output_type": "execute_result"
    }
   ],
   "source": [
    "d.keys()"
   ]
  },
  {
   "cell_type": "code",
   "execution_count": 11,
   "id": "5054940b",
   "metadata": {},
   "outputs": [
    {
     "data": {
      "text/plain": [
       "dict_values([1, 2, 3])"
      ]
     },
     "execution_count": 11,
     "metadata": {},
     "output_type": "execute_result"
    }
   ],
   "source": [
    "d.values()"
   ]
  },
  {
   "cell_type": "code",
   "execution_count": 21,
   "id": "3ae76f55",
   "metadata": {},
   "outputs": [
    {
     "name": "stdout",
     "output_type": "stream",
     "text": [
      "Enter a string: Shreyas\n",
      "2\n"
     ]
    }
   ],
   "source": [
    "#counts no of vowels in the a string\n",
    "st = input('Enter a string: ').lower()\n",
    "vowels = 'aeiou'\n",
    "count = 0\n",
    "for s in st:\n",
    "    if s in vowels:\n",
    "        count += 1\n",
    "print(count)"
   ]
  },
  {
   "cell_type": "code",
   "execution_count": 23,
   "id": "de3e2600",
   "metadata": {},
   "outputs": [],
   "source": [
    "st = 'Print every word in this sentence that has an even number of letters'"
   ]
  },
  {
   "cell_type": "code",
   "execution_count": 25,
   "id": "9d31641e",
   "metadata": {},
   "outputs": [
    {
     "name": "stdout",
     "output_type": "stream",
     "text": [
      "word -->> Even Length\n",
      "in -->> Even Length\n",
      "this -->> Even Length\n",
      "sentence -->> Even Length\n",
      "that -->> Even Length\n",
      "an -->> Even Length\n",
      "even -->> Even Length\n",
      "number -->> Even Length\n",
      "of -->> Even Length\n"
     ]
    }
   ],
   "source": [
    "for item in st.split():\n",
    "    if len(item)%2 == 0:\n",
    "        print(item+' -->> Even Length')"
   ]
  },
  {
   "cell_type": "code",
   "execution_count": null,
   "id": "9d4fc8a9",
   "metadata": {},
   "outputs": [],
   "source": []
  }
 ],
 "metadata": {
  "kernelspec": {
   "display_name": "Python 3 (ipykernel)",
   "language": "python",
   "name": "python3"
  },
  "language_info": {
   "codemirror_mode": {
    "name": "ipython",
    "version": 3
   },
   "file_extension": ".py",
   "mimetype": "text/x-python",
   "name": "python",
   "nbconvert_exporter": "python",
   "pygments_lexer": "ipython3",
   "version": "3.11.5"
  }
 },
 "nbformat": 4,
 "nbformat_minor": 5
}
