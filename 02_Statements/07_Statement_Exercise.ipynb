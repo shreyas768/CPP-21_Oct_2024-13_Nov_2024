{
 "cells": [
  {
   "cell_type": "code",
   "execution_count": 2,
   "id": "0adde2c8",
   "metadata": {},
   "outputs": [
    {
     "name": "stdout",
     "output_type": "stream",
     "text": [
      "78\n",
      "156\n",
      "234\n",
      "312\n",
      "390\n"
     ]
    }
   ],
   "source": [
    "#First 5 multiples of a given number\n",
    "\n",
    "number = 78\n",
    "\n",
    "\n",
    "count = 1\n",
    "while count <= 5:\n",
    "    print(number*count)\n",
    "    count += 1"
   ]
  },
  {
   "cell_type": "code",
   "execution_count": 4,
   "id": "1cd7f638",
   "metadata": {},
   "outputs": [
    {
     "name": "stdout",
     "output_type": "stream",
     "text": [
      "Enter the text here: This is RBPL and iHUB. Instructor is Shreyas\n",
      "Enter the character that you want to want in the text: s\n",
      "The character 's' appears 5 times.\n"
     ]
    }
   ],
   "source": [
    "#Counts how many times a specific character appears in a string\n",
    "\n",
    "text = input('Enter the text here: ')\n",
    "character = input('Enter the character that you want to want in the text: ')\n",
    "\n",
    "\n",
    "count = 0\n",
    "\n",
    "for c in text:\n",
    "    if c == character:\n",
    "        count+=1\n",
    "        \n",
    "print(f\"The character '{character}' appears {count} times.\")"
   ]
  },
  {
   "cell_type": "code",
   "execution_count": 9,
   "id": "5dbc8dca",
   "metadata": {},
   "outputs": [
    {
     "name": "stdout",
     "output_type": "stream",
     "text": [
      "Enter the number here: 45\n",
      "0\n",
      "1\n",
      "1\n",
      "2\n",
      "3\n",
      "5\n",
      "8\n",
      "13\n",
      "21\n",
      "34\n"
     ]
    }
   ],
   "source": [
    "#Fibonacci Sequence\n",
    "number = int(input('Enter the number here: '))\n",
    "\n",
    "a, b = 0,1\n",
    "count=0\n",
    "while a <= number:\n",
    "    print(a)\n",
    "    a,b = b,a+b\n",
    "    count += 1"
   ]
  },
  {
   "cell_type": "code",
   "execution_count": null,
   "id": "81c14d0c",
   "metadata": {},
   "outputs": [],
   "source": []
  }
 ],
 "metadata": {
  "kernelspec": {
   "display_name": "Python 3 (ipykernel)",
   "language": "python",
   "name": "python3"
  },
  "language_info": {
   "codemirror_mode": {
    "name": "ipython",
    "version": 3
   },
   "file_extension": ".py",
   "mimetype": "text/x-python",
   "name": "python",
   "nbconvert_exporter": "python",
   "pygments_lexer": "ipython3",
   "version": "3.11.5"
  }
 },
 "nbformat": 4,
 "nbformat_minor": 5
}
