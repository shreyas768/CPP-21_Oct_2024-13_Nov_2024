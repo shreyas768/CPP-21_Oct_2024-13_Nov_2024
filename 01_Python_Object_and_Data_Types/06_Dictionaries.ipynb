{
 "cells": [
  {
   "cell_type": "markdown",
   "id": "721bd33e",
   "metadata": {},
   "source": [
    "### Constructing a Dictionaries"
   ]
  },
  {
   "cell_type": "code",
   "execution_count": 1,
   "id": "bcf0773d",
   "metadata": {},
   "outputs": [],
   "source": [
    "my_dictionary = {'key1':'Delhi','key2':'India'}"
   ]
  },
  {
   "cell_type": "code",
   "execution_count": 2,
   "id": "dce5cbc6",
   "metadata": {},
   "outputs": [
    {
     "data": {
      "text/plain": [
       "dict"
      ]
     },
     "execution_count": 2,
     "metadata": {},
     "output_type": "execute_result"
    }
   ],
   "source": [
    "type(my_dictionary)"
   ]
  },
  {
   "cell_type": "code",
   "execution_count": 5,
   "id": "e3f933ee",
   "metadata": {},
   "outputs": [
    {
     "data": {
      "text/plain": [
       "5"
      ]
     },
     "execution_count": 5,
     "metadata": {},
     "output_type": "execute_result"
    }
   ],
   "source": [
    "len(my_dictionary['key2'])"
   ]
  },
  {
   "cell_type": "code",
   "execution_count": 7,
   "id": "264882a9",
   "metadata": {},
   "outputs": [],
   "source": [
    "d2 = {'key1':123,'key2':[12,23,33],'key3':['item0','item1','item3'], 'key4':{'a1':[12,13,'21'],'a2':True}}"
   ]
  },
  {
   "cell_type": "code",
   "execution_count": 10,
   "id": "52f1015e",
   "metadata": {},
   "outputs": [
    {
     "data": {
      "text/plain": [
       "bool"
      ]
     },
     "execution_count": 10,
     "metadata": {},
     "output_type": "execute_result"
    }
   ],
   "source": [
    "type(d2['key4']['a2'])"
   ]
  },
  {
   "cell_type": "code",
   "execution_count": 11,
   "id": "0d07cbf4",
   "metadata": {},
   "outputs": [],
   "source": [
    "l1 = []"
   ]
  },
  {
   "cell_type": "code",
   "execution_count": 12,
   "id": "36904143",
   "metadata": {},
   "outputs": [
    {
     "data": {
      "text/plain": [
       "list"
      ]
     },
     "execution_count": 12,
     "metadata": {},
     "output_type": "execute_result"
    }
   ],
   "source": [
    "type(l1)"
   ]
  },
  {
   "cell_type": "code",
   "execution_count": 14,
   "id": "894f6efd",
   "metadata": {},
   "outputs": [],
   "source": [
    "l1.append('hi')"
   ]
  },
  {
   "cell_type": "code",
   "execution_count": 15,
   "id": "31aa9628",
   "metadata": {},
   "outputs": [
    {
     "data": {
      "text/plain": [
       "['hi']"
      ]
     },
     "execution_count": 15,
     "metadata": {},
     "output_type": "execute_result"
    }
   ],
   "source": [
    "l1"
   ]
  },
  {
   "cell_type": "code",
   "execution_count": 16,
   "id": "8110d9ff",
   "metadata": {},
   "outputs": [],
   "source": [
    "d = {}"
   ]
  },
  {
   "cell_type": "code",
   "execution_count": 17,
   "id": "b133aa55",
   "metadata": {},
   "outputs": [],
   "source": [
    "d['animal'] = 'fish'"
   ]
  },
  {
   "cell_type": "code",
   "execution_count": 18,
   "id": "52d17bdb",
   "metadata": {},
   "outputs": [
    {
     "data": {
      "text/plain": [
       "{'animal': 'fish'}"
      ]
     },
     "execution_count": 18,
     "metadata": {},
     "output_type": "execute_result"
    }
   ],
   "source": [
    "d"
   ]
  },
  {
   "cell_type": "code",
   "execution_count": 19,
   "id": "67d0469c",
   "metadata": {},
   "outputs": [],
   "source": [
    "d['animal'] = 'cow'"
   ]
  },
  {
   "cell_type": "code",
   "execution_count": 20,
   "id": "8d18a334",
   "metadata": {},
   "outputs": [
    {
     "data": {
      "text/plain": [
       "{'animal': 'cow'}"
      ]
     },
     "execution_count": 20,
     "metadata": {},
     "output_type": "execute_result"
    }
   ],
   "source": [
    "d"
   ]
  },
  {
   "cell_type": "code",
   "execution_count": 21,
   "id": "e377f9ed",
   "metadata": {},
   "outputs": [],
   "source": [
    "my_dictionary = {'key1':'Delhi','key1':'India'}"
   ]
  },
  {
   "cell_type": "code",
   "execution_count": 22,
   "id": "e8926f86",
   "metadata": {},
   "outputs": [
    {
     "data": {
      "text/plain": [
       "{'key1': 'India'}"
      ]
     },
     "execution_count": 22,
     "metadata": {},
     "output_type": "execute_result"
    }
   ],
   "source": [
    "my_dictionary"
   ]
  },
  {
   "cell_type": "markdown",
   "id": "6418161c",
   "metadata": {},
   "source": [
    "#### Dictionary Methods"
   ]
  },
  {
   "cell_type": "code",
   "execution_count": 24,
   "id": "6b7e9b3c",
   "metadata": {},
   "outputs": [
    {
     "data": {
      "text/plain": [
       "{'key1': 1, 'key2': 2, 'key3': 3}"
      ]
     },
     "execution_count": 24,
     "metadata": {},
     "output_type": "execute_result"
    }
   ],
   "source": [
    "sample_d = {'key1':1,'key2':2,'key3':3}\n",
    "sample_d"
   ]
  },
  {
   "cell_type": "code",
   "execution_count": 25,
   "id": "5a044237",
   "metadata": {},
   "outputs": [
    {
     "data": {
      "text/plain": [
       "dict_keys(['key1', 'key2', 'key3'])"
      ]
     },
     "execution_count": 25,
     "metadata": {},
     "output_type": "execute_result"
    }
   ],
   "source": [
    "sample_d.keys()"
   ]
  },
  {
   "cell_type": "code",
   "execution_count": 26,
   "id": "75061919",
   "metadata": {},
   "outputs": [
    {
     "data": {
      "text/plain": [
       "dict_keys"
      ]
     },
     "execution_count": 26,
     "metadata": {},
     "output_type": "execute_result"
    }
   ],
   "source": [
    "type(sample_d.keys())"
   ]
  },
  {
   "cell_type": "code",
   "execution_count": 27,
   "id": "58b55752",
   "metadata": {},
   "outputs": [
    {
     "data": {
      "text/plain": [
       "dict_values([1, 2, 3])"
      ]
     },
     "execution_count": 27,
     "metadata": {},
     "output_type": "execute_result"
    }
   ],
   "source": [
    "sample_d.values()"
   ]
  },
  {
   "cell_type": "code",
   "execution_count": 29,
   "id": "61cfa442",
   "metadata": {},
   "outputs": [
    {
     "data": {
      "text/plain": [
       "dict_items([('key1', 1), ('key2', 2), ('key3', 3)])"
      ]
     },
     "execution_count": 29,
     "metadata": {},
     "output_type": "execute_result"
    }
   ],
   "source": [
    "sample_d.items()"
   ]
  },
  {
   "cell_type": "markdown",
   "id": "6be97649",
   "metadata": {},
   "source": [
    "1. create a dictionaries with these keys: 'first_name','last_name', 'organization', 'filler' : ['is','from']\n",
    "2. 'Shreyas Shukla is from IIT KGP'"
   ]
  },
  {
   "cell_type": "code",
   "execution_count": 30,
   "id": "17465c90",
   "metadata": {},
   "outputs": [],
   "source": [
    "exer_dict = {}\n",
    "\n",
    "exer_dict['first_name'] = 'Shreyas'\n",
    "exer_dict['last_name'] = 'Shukla'\n",
    "exer_dict['organization'] = 'IIT KGP'\n",
    "exer_dict['filler']= ['is','from']"
   ]
  },
  {
   "cell_type": "code",
   "execution_count": 31,
   "id": "25532f6c",
   "metadata": {},
   "outputs": [
    {
     "data": {
      "text/plain": [
       "{'first_name': 'Shreyas',\n",
       " 'last_name': 'Shukla',\n",
       " 'organization': 'IIT KGP',\n",
       " 'filler': ['is', 'from']}"
      ]
     },
     "execution_count": 31,
     "metadata": {},
     "output_type": "execute_result"
    }
   ],
   "source": [
    "exer_dict"
   ]
  },
  {
   "cell_type": "code",
   "execution_count": 34,
   "id": "8737535f",
   "metadata": {},
   "outputs": [
    {
     "data": {
      "text/plain": [
       "'Shreyas Shukla is from IIT KGP'"
      ]
     },
     "execution_count": 34,
     "metadata": {},
     "output_type": "execute_result"
    }
   ],
   "source": [
    "exer_dict['first_name']+' '+exer_dict['last_name']+' '+exer_dict['filler'][0]+' '+exer_dict['filler'][1]+' '+exer_dict['organization']"
   ]
  },
  {
   "cell_type": "code",
   "execution_count": null,
   "id": "3152e4f4",
   "metadata": {},
   "outputs": [],
   "source": []
  }
 ],
 "metadata": {
  "kernelspec": {
   "display_name": "Python 3 (ipykernel)",
   "language": "python",
   "name": "python3"
  },
  "language_info": {
   "codemirror_mode": {
    "name": "ipython",
    "version": 3
   },
   "file_extension": ".py",
   "mimetype": "text/x-python",
   "name": "python",
   "nbconvert_exporter": "python",
   "pygments_lexer": "ipython3",
   "version": "3.11.5"
  }
 },
 "nbformat": 4,
 "nbformat_minor": 5
}
