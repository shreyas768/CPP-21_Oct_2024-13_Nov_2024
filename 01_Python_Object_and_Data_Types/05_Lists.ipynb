{
 "cells": [
  {
   "cell_type": "markdown",
   "id": "bdeb2511",
   "metadata": {},
   "source": [
    "### Constructing a list"
   ]
  },
  {
   "cell_type": "code",
   "execution_count": 3,
   "id": "308d51f2",
   "metadata": {},
   "outputs": [],
   "source": [
    "mylist = [1,2,3]"
   ]
  },
  {
   "cell_type": "code",
   "execution_count": 4,
   "id": "a23112bd",
   "metadata": {},
   "outputs": [
    {
     "data": {
      "text/plain": [
       "list"
      ]
     },
     "execution_count": 4,
     "metadata": {},
     "output_type": "execute_result"
    }
   ],
   "source": [
    "type(mylist)"
   ]
  },
  {
   "cell_type": "code",
   "execution_count": 5,
   "id": "8074b491",
   "metadata": {},
   "outputs": [],
   "source": [
    "mylst1 = ['A string',23,100.23214,True]"
   ]
  },
  {
   "cell_type": "code",
   "execution_count": 6,
   "id": "91215685",
   "metadata": {},
   "outputs": [
    {
     "data": {
      "text/plain": [
       "list"
      ]
     },
     "execution_count": 6,
     "metadata": {},
     "output_type": "execute_result"
    }
   ],
   "source": [
    "type(mylst1)"
   ]
  },
  {
   "cell_type": "code",
   "execution_count": 7,
   "id": "8875ec26",
   "metadata": {},
   "outputs": [
    {
     "data": {
      "text/plain": [
       "3"
      ]
     },
     "execution_count": 7,
     "metadata": {},
     "output_type": "execute_result"
    }
   ],
   "source": [
    "len(mylist)"
   ]
  },
  {
   "cell_type": "code",
   "execution_count": 8,
   "id": "4912dfed",
   "metadata": {},
   "outputs": [
    {
     "data": {
      "text/plain": [
       "4"
      ]
     },
     "execution_count": 8,
     "metadata": {},
     "output_type": "execute_result"
    }
   ],
   "source": [
    "len(mylst1)"
   ]
  },
  {
   "cell_type": "markdown",
   "id": "476d59e4",
   "metadata": {},
   "source": [
    "### Indexing and Slicing"
   ]
  },
  {
   "cell_type": "code",
   "execution_count": 16,
   "id": "1d5ab9fc",
   "metadata": {},
   "outputs": [],
   "source": [
    "#grab element at 0\n",
    "x = mylst1[0]"
   ]
  },
  {
   "cell_type": "code",
   "execution_count": 17,
   "id": "b65cff36",
   "metadata": {},
   "outputs": [
    {
     "data": {
      "text/plain": [
       "'A string'"
      ]
     },
     "execution_count": 17,
     "metadata": {},
     "output_type": "execute_result"
    }
   ],
   "source": [
    "x"
   ]
  },
  {
   "cell_type": "code",
   "execution_count": 18,
   "id": "8dcf9253",
   "metadata": {},
   "outputs": [
    {
     "data": {
      "text/plain": [
       "str"
      ]
     },
     "execution_count": 18,
     "metadata": {},
     "output_type": "execute_result"
    }
   ],
   "source": [
    "type(x)"
   ]
  },
  {
   "cell_type": "code",
   "execution_count": 19,
   "id": "1c6d907c",
   "metadata": {},
   "outputs": [
    {
     "data": {
      "text/plain": [
       "['A', 'string']"
      ]
     },
     "execution_count": 19,
     "metadata": {},
     "output_type": "execute_result"
    }
   ],
   "source": [
    "x.split()"
   ]
  },
  {
   "cell_type": "code",
   "execution_count": 20,
   "id": "79ea6732",
   "metadata": {},
   "outputs": [
    {
     "data": {
      "text/plain": [
       "['A', 'string']"
      ]
     },
     "execution_count": 20,
     "metadata": {},
     "output_type": "execute_result"
    }
   ],
   "source": [
    "mylst1[0].split()"
   ]
  },
  {
   "cell_type": "code",
   "execution_count": 23,
   "id": "8695d381",
   "metadata": {},
   "outputs": [],
   "source": [
    "# Grab element at index 1 and everything past it\n",
    "\n",
    "l = mylst1[1:]"
   ]
  },
  {
   "cell_type": "code",
   "execution_count": 24,
   "id": "4823fd0e",
   "metadata": {},
   "outputs": [
    {
     "data": {
      "text/plain": [
       "[23, 100.23214, True]"
      ]
     },
     "execution_count": 24,
     "metadata": {},
     "output_type": "execute_result"
    }
   ],
   "source": [
    "l"
   ]
  },
  {
   "cell_type": "code",
   "execution_count": 25,
   "id": "db7a6f23",
   "metadata": {},
   "outputs": [
    {
     "data": {
      "text/plain": [
       "23"
      ]
     },
     "execution_count": 25,
     "metadata": {},
     "output_type": "execute_result"
    }
   ],
   "source": [
    "l[0]"
   ]
  },
  {
   "cell_type": "code",
   "execution_count": 26,
   "id": "5a537f89",
   "metadata": {},
   "outputs": [
    {
     "data": {
      "text/plain": [
       "True"
      ]
     },
     "execution_count": 26,
     "metadata": {},
     "output_type": "execute_result"
    }
   ],
   "source": [
    "l[-1]"
   ]
  },
  {
   "cell_type": "code",
   "execution_count": 27,
   "id": "99ae6f10",
   "metadata": {},
   "outputs": [
    {
     "data": {
      "text/plain": [
       "[23, 100.23214]"
      ]
     },
     "execution_count": 27,
     "metadata": {},
     "output_type": "execute_result"
    }
   ],
   "source": [
    "l[0:2]"
   ]
  },
  {
   "cell_type": "code",
   "execution_count": 28,
   "id": "371af528",
   "metadata": {},
   "outputs": [
    {
     "data": {
      "text/plain": [
       "[23, 100.23214, True]"
      ]
     },
     "execution_count": 28,
     "metadata": {},
     "output_type": "execute_result"
    }
   ],
   "source": [
    "#Concatenation\n",
    "\n",
    "l"
   ]
  },
  {
   "cell_type": "code",
   "execution_count": 29,
   "id": "226949f9",
   "metadata": {},
   "outputs": [
    {
     "data": {
      "text/plain": [
       "['A string', 23, 100.23214, True]"
      ]
     },
     "execution_count": 29,
     "metadata": {},
     "output_type": "execute_result"
    }
   ],
   "source": [
    "mylst1"
   ]
  },
  {
   "cell_type": "code",
   "execution_count": 31,
   "id": "3f0fbab2",
   "metadata": {},
   "outputs": [
    {
     "data": {
      "text/plain": [
       "['A string', 23, 100.23214, True, 'add new item']"
      ]
     },
     "execution_count": 31,
     "metadata": {},
     "output_type": "execute_result"
    }
   ],
   "source": [
    "mylst1 + ['add new item']"
   ]
  },
  {
   "cell_type": "code",
   "execution_count": 32,
   "id": "a76b8cfe",
   "metadata": {},
   "outputs": [
    {
     "data": {
      "text/plain": [
       "['A string', 23, 100.23214, True, 23, 100.23214, True]"
      ]
     },
     "execution_count": 32,
     "metadata": {},
     "output_type": "execute_result"
    }
   ],
   "source": [
    "mylst1 + l"
   ]
  },
  {
   "cell_type": "code",
   "execution_count": 33,
   "id": "39e43b84",
   "metadata": {},
   "outputs": [
    {
     "data": {
      "text/plain": [
       "['A string', 23, 100.23214, True]"
      ]
     },
     "execution_count": 33,
     "metadata": {},
     "output_type": "execute_result"
    }
   ],
   "source": [
    "mylst1"
   ]
  },
  {
   "cell_type": "code",
   "execution_count": 34,
   "id": "6e524f59",
   "metadata": {},
   "outputs": [
    {
     "data": {
      "text/plain": [
       "[23, 100.23214, True]"
      ]
     },
     "execution_count": 34,
     "metadata": {},
     "output_type": "execute_result"
    }
   ],
   "source": [
    "l"
   ]
  },
  {
   "cell_type": "code",
   "execution_count": 35,
   "id": "98c41cdf",
   "metadata": {},
   "outputs": [],
   "source": [
    "#Reassign\n",
    "mylst1 = mylst1 + ['add new item']"
   ]
  },
  {
   "cell_type": "code",
   "execution_count": 36,
   "id": "341b3a60",
   "metadata": {},
   "outputs": [
    {
     "data": {
      "text/plain": [
       "['A string', 23, 100.23214, True, 'add new item']"
      ]
     },
     "execution_count": 36,
     "metadata": {},
     "output_type": "execute_result"
    }
   ],
   "source": [
    "mylst1"
   ]
  },
  {
   "cell_type": "code",
   "execution_count": 38,
   "id": "247a707a",
   "metadata": {},
   "outputs": [
    {
     "data": {
      "text/plain": [
       "[23, 100.23214, True, 23, 100.23214, True]"
      ]
     },
     "execution_count": 38,
     "metadata": {},
     "output_type": "execute_result"
    }
   ],
   "source": [
    "l*2"
   ]
  },
  {
   "cell_type": "code",
   "execution_count": 43,
   "id": "32f02b38",
   "metadata": {},
   "outputs": [],
   "source": [
    "l1 = ['CPP', ' ', 'course', 'This']\n",
    "x = 'is'"
   ]
  },
  {
   "cell_type": "code",
   "execution_count": 44,
   "id": "0a24a93b",
   "metadata": {},
   "outputs": [
    {
     "data": {
      "text/plain": [
       "' '"
      ]
     },
     "execution_count": 44,
     "metadata": {},
     "output_type": "execute_result"
    }
   ],
   "source": [
    "l1[1]"
   ]
  },
  {
   "cell_type": "code",
   "execution_count": 45,
   "id": "eb44b8d5",
   "metadata": {},
   "outputs": [
    {
     "data": {
      "text/plain": [
       "'This course is CPP'"
      ]
     },
     "execution_count": 45,
     "metadata": {},
     "output_type": "execute_result"
    }
   ],
   "source": [
    "l1[-1]+l1[1]+l1[-2]+l1[1]+x+l1[1]+l1[0]"
   ]
  },
  {
   "cell_type": "markdown",
   "id": "e4da1fbb",
   "metadata": {},
   "source": [
    "## Basic List Methods"
   ]
  },
  {
   "cell_type": "code",
   "execution_count": 49,
   "id": "f99e2e79",
   "metadata": {},
   "outputs": [],
   "source": [
    "lst_a = [1,2,3]"
   ]
  },
  {
   "cell_type": "code",
   "execution_count": 50,
   "id": "cb6b983e",
   "metadata": {},
   "outputs": [],
   "source": [
    "#append\n",
    "lst_a.append('this is appended element')"
   ]
  },
  {
   "cell_type": "code",
   "execution_count": 51,
   "id": "742159b7",
   "metadata": {},
   "outputs": [
    {
     "data": {
      "text/plain": [
       "[1, 2, 3, 'this is appended element']"
      ]
     },
     "execution_count": 51,
     "metadata": {},
     "output_type": "execute_result"
    }
   ],
   "source": [
    "lst_a"
   ]
  },
  {
   "cell_type": "code",
   "execution_count": 52,
   "id": "0952be55",
   "metadata": {},
   "outputs": [
    {
     "data": {
      "text/plain": [
       "3"
      ]
     },
     "execution_count": 52,
     "metadata": {},
     "output_type": "execute_result"
    }
   ],
   "source": [
    "#pop\n",
    "lst_a.pop(2)"
   ]
  },
  {
   "cell_type": "code",
   "execution_count": 53,
   "id": "de55163b",
   "metadata": {},
   "outputs": [
    {
     "data": {
      "text/plain": [
       "[1, 2, 'this is appended element']"
      ]
     },
     "execution_count": 53,
     "metadata": {},
     "output_type": "execute_result"
    }
   ],
   "source": [
    "lst_a"
   ]
  },
  {
   "cell_type": "code",
   "execution_count": 54,
   "id": "a7f82a27",
   "metadata": {},
   "outputs": [],
   "source": [
    "output1 = lst_a.append('this is appended element 2')"
   ]
  },
  {
   "cell_type": "code",
   "execution_count": 55,
   "id": "eb4a4104",
   "metadata": {},
   "outputs": [],
   "source": [
    "output1"
   ]
  },
  {
   "cell_type": "code",
   "execution_count": 56,
   "id": "5bf09b90",
   "metadata": {},
   "outputs": [
    {
     "data": {
      "text/plain": [
       "[1, 2, 'this is appended element', 'this is appended element 2']"
      ]
     },
     "execution_count": 56,
     "metadata": {},
     "output_type": "execute_result"
    }
   ],
   "source": [
    "lst_a"
   ]
  },
  {
   "cell_type": "code",
   "execution_count": 57,
   "id": "250fa3bf",
   "metadata": {},
   "outputs": [],
   "source": [
    "output2 = lst_a.pop(-1)"
   ]
  },
  {
   "cell_type": "code",
   "execution_count": 58,
   "id": "5398ee97",
   "metadata": {},
   "outputs": [
    {
     "data": {
      "text/plain": [
       "'this is appended element 2'"
      ]
     },
     "execution_count": 58,
     "metadata": {},
     "output_type": "execute_result"
    }
   ],
   "source": [
    "output2"
   ]
  },
  {
   "cell_type": "code",
   "execution_count": 59,
   "id": "f6c67b64",
   "metadata": {},
   "outputs": [],
   "source": [
    "lst_a = lst_a.pop(-1)"
   ]
  },
  {
   "cell_type": "code",
   "execution_count": 60,
   "id": "046e3c26",
   "metadata": {},
   "outputs": [
    {
     "data": {
      "text/plain": [
       "'this is appended element'"
      ]
     },
     "execution_count": 60,
     "metadata": {},
     "output_type": "execute_result"
    }
   ],
   "source": [
    "lst_a"
   ]
  },
  {
   "cell_type": "code",
   "execution_count": 61,
   "id": "775b0bd7",
   "metadata": {},
   "outputs": [],
   "source": [
    "lst_b = [1,2,'three','four', 5]"
   ]
  },
  {
   "cell_type": "code",
   "execution_count": 62,
   "id": "2737a6c0",
   "metadata": {},
   "outputs": [
    {
     "data": {
      "text/plain": [
       "[1, 2, 'three', 'four', 5]"
      ]
     },
     "execution_count": 62,
     "metadata": {},
     "output_type": "execute_result"
    }
   ],
   "source": [
    "lst_b"
   ]
  },
  {
   "cell_type": "code",
   "execution_count": 63,
   "id": "a36db578",
   "metadata": {},
   "outputs": [
    {
     "data": {
      "text/plain": [
       "2"
      ]
     },
     "execution_count": 63,
     "metadata": {},
     "output_type": "execute_result"
    }
   ],
   "source": [
    "lst_b.pop(-4)"
   ]
  },
  {
   "cell_type": "code",
   "execution_count": 64,
   "id": "a3e1b228",
   "metadata": {},
   "outputs": [
    {
     "data": {
      "text/plain": [
       "[1, 'three', 'four', 5]"
      ]
     },
     "execution_count": 64,
     "metadata": {},
     "output_type": "execute_result"
    }
   ],
   "source": [
    "lst_b"
   ]
  },
  {
   "cell_type": "code",
   "execution_count": 65,
   "id": "77edef8a",
   "metadata": {},
   "outputs": [],
   "source": [
    "lst_b = lst_b.pop(-2)"
   ]
  },
  {
   "cell_type": "code",
   "execution_count": 66,
   "id": "9bf56418",
   "metadata": {},
   "outputs": [
    {
     "data": {
      "text/plain": [
       "'four'"
      ]
     },
     "execution_count": 66,
     "metadata": {},
     "output_type": "execute_result"
    }
   ],
   "source": [
    "lst_b"
   ]
  },
  {
   "cell_type": "code",
   "execution_count": 83,
   "id": "021fa747",
   "metadata": {},
   "outputs": [],
   "source": [
    "new_list = ['a','b','c','d','e']"
   ]
  },
  {
   "cell_type": "code",
   "execution_count": 84,
   "id": "fc1abf83",
   "metadata": {},
   "outputs": [
    {
     "data": {
      "text/plain": [
       "['a', 'b', 'c', 'd', 'e']"
      ]
     },
     "execution_count": 84,
     "metadata": {},
     "output_type": "execute_result"
    }
   ],
   "source": [
    "new_list"
   ]
  },
  {
   "cell_type": "code",
   "execution_count": 86,
   "id": "c55f4ce7",
   "metadata": {},
   "outputs": [],
   "source": [
    "a = len(new_list)"
   ]
  },
  {
   "cell_type": "code",
   "execution_count": 87,
   "id": "5fc4df48",
   "metadata": {},
   "outputs": [
    {
     "data": {
      "text/plain": [
       "5"
      ]
     },
     "execution_count": 87,
     "metadata": {},
     "output_type": "execute_result"
    }
   ],
   "source": [
    "a"
   ]
  },
  {
   "cell_type": "code",
   "execution_count": 88,
   "id": "ee25d47c",
   "metadata": {},
   "outputs": [],
   "source": [
    "#reverse: reverse the order\n",
    "new_list.reverse()"
   ]
  },
  {
   "cell_type": "code",
   "execution_count": 72,
   "id": "a75a3697",
   "metadata": {},
   "outputs": [
    {
     "data": {
      "text/plain": [
       "['e', 'd', 'c', 'b', 'a']"
      ]
     },
     "execution_count": 72,
     "metadata": {},
     "output_type": "execute_result"
    }
   ],
   "source": [
    "new_list"
   ]
  },
  {
   "cell_type": "code",
   "execution_count": 73,
   "id": "e6dab2cc",
   "metadata": {},
   "outputs": [],
   "source": [
    "new_list = new_list.reverse()"
   ]
  },
  {
   "cell_type": "code",
   "execution_count": 74,
   "id": "c362167f",
   "metadata": {},
   "outputs": [],
   "source": [
    "new_list"
   ]
  },
  {
   "cell_type": "code",
   "execution_count": 75,
   "id": "f4092b92",
   "metadata": {},
   "outputs": [
    {
     "data": {
      "text/plain": [
       "NoneType"
      ]
     },
     "execution_count": 75,
     "metadata": {},
     "output_type": "execute_result"
    }
   ],
   "source": [
    "type(new_list)"
   ]
  },
  {
   "cell_type": "code",
   "execution_count": null,
   "id": "5938d103",
   "metadata": {},
   "outputs": [],
   "source": []
  },
  {
   "cell_type": "code",
   "execution_count": 77,
   "id": "a7d04061",
   "metadata": {},
   "outputs": [],
   "source": [
    "#sort : sort the list\n",
    "new_list1 = ['b','d','t','a','aa','ab','aaa']"
   ]
  },
  {
   "cell_type": "code",
   "execution_count": 78,
   "id": "e9301af5",
   "metadata": {},
   "outputs": [],
   "source": [
    "new_list1.sort()"
   ]
  },
  {
   "cell_type": "code",
   "execution_count": 79,
   "id": "52e61ee9",
   "metadata": {},
   "outputs": [
    {
     "data": {
      "text/plain": [
       "['a', 'aa', 'aaa', 'ab', 'b', 'd', 't']"
      ]
     },
     "execution_count": 79,
     "metadata": {},
     "output_type": "execute_result"
    }
   ],
   "source": [
    "new_list1"
   ]
  },
  {
   "cell_type": "code",
   "execution_count": 80,
   "id": "7e9ae77f",
   "metadata": {},
   "outputs": [
    {
     "data": {
      "text/plain": [
       "[1, 8, 12, 13, 14, 89, 102]"
      ]
     },
     "execution_count": 80,
     "metadata": {},
     "output_type": "execute_result"
    }
   ],
   "source": [
    "new_list2 = [1,12,8,102,13,14,89]\n",
    "new_list2.sort()\n",
    "new_list2"
   ]
  },
  {
   "cell_type": "code",
   "execution_count": 81,
   "id": "cbbef8ab",
   "metadata": {},
   "outputs": [],
   "source": [
    "new_list2.sort(reverse=True)"
   ]
  },
  {
   "cell_type": "code",
   "execution_count": 82,
   "id": "e2b3f185",
   "metadata": {},
   "outputs": [
    {
     "data": {
      "text/plain": [
       "[102, 89, 14, 13, 12, 8, 1]"
      ]
     },
     "execution_count": 82,
     "metadata": {},
     "output_type": "execute_result"
    }
   ],
   "source": [
    "new_list2"
   ]
  },
  {
   "cell_type": "code",
   "execution_count": 91,
   "id": "969e2d19",
   "metadata": {},
   "outputs": [],
   "source": [
    "list_new = ['1','12','8','a','c','b','aa']"
   ]
  },
  {
   "cell_type": "code",
   "execution_count": 92,
   "id": "bf3f567d",
   "metadata": {},
   "outputs": [],
   "source": [
    "list_new.sort()"
   ]
  },
  {
   "cell_type": "code",
   "execution_count": 93,
   "id": "2d726b78",
   "metadata": {},
   "outputs": [
    {
     "data": {
      "text/plain": [
       "['1', '12', '8', 'a', 'aa', 'b', 'c']"
      ]
     },
     "execution_count": 93,
     "metadata": {},
     "output_type": "execute_result"
    }
   ],
   "source": [
    "list_new"
   ]
  },
  {
   "cell_type": "code",
   "execution_count": 97,
   "id": "c08ee8c1",
   "metadata": {},
   "outputs": [],
   "source": [
    "list_new1 = ['1','12','8&&&','a','9','c','b','aa']"
   ]
  },
  {
   "cell_type": "code",
   "execution_count": 98,
   "id": "6648c420",
   "metadata": {},
   "outputs": [],
   "source": [
    "list_new1.sort()"
   ]
  },
  {
   "cell_type": "code",
   "execution_count": 99,
   "id": "6b3bdf7b",
   "metadata": {},
   "outputs": [
    {
     "data": {
      "text/plain": [
       "['1', '12', '8&&&', '9', 'a', 'aa', 'b', 'c']"
      ]
     },
     "execution_count": 99,
     "metadata": {},
     "output_type": "execute_result"
    }
   ],
   "source": [
    "list_new1"
   ]
  },
  {
   "cell_type": "markdown",
   "id": "2718ac1b",
   "metadata": {},
   "source": [
    "### Nested list\n",
    "\n"
   ]
  },
  {
   "cell_type": "code",
   "execution_count": 100,
   "id": "5b872913",
   "metadata": {},
   "outputs": [],
   "source": [
    "lst_x = [1,2,3]\n",
    "lst_y = [4,5,6]\n",
    "lst_z = [7,8,9]\n",
    "\n",
    "\n",
    "#List of lists for form a matrix\n",
    "mat = [lst_x,lst_y,lst_z]"
   ]
  },
  {
   "cell_type": "code",
   "execution_count": 101,
   "id": "eebdf071",
   "metadata": {},
   "outputs": [
    {
     "data": {
      "text/plain": [
       "[[1, 2, 3], [4, 5, 6], [7, 8, 9]]"
      ]
     },
     "execution_count": 101,
     "metadata": {},
     "output_type": "execute_result"
    }
   ],
   "source": [
    "mat"
   ]
  },
  {
   "cell_type": "code",
   "execution_count": 103,
   "id": "c632ca34",
   "metadata": {},
   "outputs": [
    {
     "data": {
      "text/plain": [
       "5"
      ]
     },
     "execution_count": 103,
     "metadata": {},
     "output_type": "execute_result"
    }
   ],
   "source": [
    "mat[1][-2]"
   ]
  },
  {
   "cell_type": "code",
   "execution_count": 104,
   "id": "6a1fc881",
   "metadata": {},
   "outputs": [],
   "source": [
    "lst = ['Shreyas',[[['Shukla']], ' ']]"
   ]
  },
  {
   "cell_type": "code",
   "execution_count": 108,
   "id": "f73d3280",
   "metadata": {},
   "outputs": [
    {
     "data": {
      "text/plain": [
       "'Shukla'"
      ]
     },
     "execution_count": 108,
     "metadata": {},
     "output_type": "execute_result"
    }
   ],
   "source": [
    "lst[-1][0][0][0]"
   ]
  },
  {
   "cell_type": "code",
   "execution_count": 109,
   "id": "880da7fb",
   "metadata": {},
   "outputs": [
    {
     "data": {
      "text/plain": [
       "'Shreyas'"
      ]
     },
     "execution_count": 109,
     "metadata": {},
     "output_type": "execute_result"
    }
   ],
   "source": [
    "lst[0]"
   ]
  },
  {
   "cell_type": "code",
   "execution_count": 111,
   "id": "a7d2ad77",
   "metadata": {},
   "outputs": [
    {
     "data": {
      "text/plain": [
       "' '"
      ]
     },
     "execution_count": 111,
     "metadata": {},
     "output_type": "execute_result"
    }
   ],
   "source": [
    "lst[-1][-1]"
   ]
  },
  {
   "cell_type": "code",
   "execution_count": 112,
   "id": "07b7097c",
   "metadata": {},
   "outputs": [
    {
     "data": {
      "text/plain": [
       "'Shreyas Shukla'"
      ]
     },
     "execution_count": 112,
     "metadata": {},
     "output_type": "execute_result"
    }
   ],
   "source": [
    "lst[0]+lst[-1][-1]+lst[-1][0][0][0]"
   ]
  },
  {
   "cell_type": "markdown",
   "id": "a67d6e83",
   "metadata": {},
   "source": [
    "1. create a list of integers from 1 to 10. Return a sublist of every 2nd element starting from the end of the list\n",
    "2. [10,20,30,40,50,60,70,80] list with elements at even indices and list with elements at odd indices but in reverse order"
   ]
  },
  {
   "cell_type": "code",
   "execution_count": 117,
   "id": "3f312e43",
   "metadata": {},
   "outputs": [
    {
     "data": {
      "text/plain": [
       "[10, 30, 50, 70]"
      ]
     },
     "execution_count": 117,
     "metadata": {},
     "output_type": "execute_result"
    }
   ],
   "source": [
    "lst = [10,20,30,40,50,60,70,80]\n",
    "lst[::2]"
   ]
  },
  {
   "cell_type": "code",
   "execution_count": 116,
   "id": "e8d1ec55",
   "metadata": {},
   "outputs": [
    {
     "data": {
      "text/plain": [
       "[80, 60, 40, 20]"
      ]
     },
     "execution_count": 116,
     "metadata": {},
     "output_type": "execute_result"
    }
   ],
   "source": [
    "lst[1::2][::-1]"
   ]
  },
  {
   "cell_type": "code",
   "execution_count": 119,
   "id": "e0d21667",
   "metadata": {},
   "outputs": [
    {
     "data": {
      "text/plain": [
       "[10, 8, 6, 4, 2]"
      ]
     },
     "execution_count": 119,
     "metadata": {},
     "output_type": "execute_result"
    }
   ],
   "source": [
    "lst5 = [1,2,3,4,5,6,7,8,9,10]\n",
    "lst5[::-2]"
   ]
  },
  {
   "cell_type": "code",
   "execution_count": 121,
   "id": "10965e56",
   "metadata": {},
   "outputs": [],
   "source": [
    "lst5[2] = 'three'"
   ]
  },
  {
   "cell_type": "code",
   "execution_count": 122,
   "id": "d0cdcdc2",
   "metadata": {},
   "outputs": [
    {
     "data": {
      "text/plain": [
       "[1, 2, 'three', 4, 5, 6, 7, 8, 9, 10]"
      ]
     },
     "execution_count": 122,
     "metadata": {},
     "output_type": "execute_result"
    }
   ],
   "source": [
    "lst5"
   ]
  },
  {
   "cell_type": "code",
   "execution_count": 1,
   "id": "9c1fec4c",
   "metadata": {},
   "outputs": [],
   "source": [
    "hw_prac_list = [12.3,[45.6,['hello at IIT Roorkee']], '45', 98, 'iHUB', ['Steve Jobs'], 'works', 32]"
   ]
  },
  {
   "cell_type": "markdown",
   "id": "db1313fc",
   "metadata": {},
   "source": [
    "1. 12.3 + 98\n",
    "2. print 'Steve Jobs works at iHUB'\n",
    "3. replace 32 by 'Shreyas'\n",
    "4. print 'hello Shreyas'"
   ]
  },
  {
   "cell_type": "code",
   "execution_count": 3,
   "id": "8fc16f88",
   "metadata": {},
   "outputs": [
    {
     "data": {
      "text/plain": [
       "110.3"
      ]
     },
     "execution_count": 3,
     "metadata": {},
     "output_type": "execute_result"
    }
   ],
   "source": [
    "#1\n",
    "hw_prac_list[0] + hw_prac_list[3]"
   ]
  },
  {
   "cell_type": "code",
   "execution_count": 15,
   "id": "f69da983",
   "metadata": {},
   "outputs": [
    {
     "name": "stdout",
     "output_type": "stream",
     "text": [
      "Steve Jobs works at iHUB\n"
     ]
    }
   ],
   "source": [
    "#2\n",
    "print(hw_prac_list[-3][0]+ ' ' + hw_prac_list[-2] + ' ' +hw_prac_list[1][-1][0].split()[1]+' '+ hw_prac_list[-4])"
   ]
  },
  {
   "cell_type": "code",
   "execution_count": 17,
   "id": "fc41f853",
   "metadata": {},
   "outputs": [],
   "source": [
    "#3\n",
    "hw_prac_list[-1]= 'Shreyas'"
   ]
  },
  {
   "cell_type": "code",
   "execution_count": 18,
   "id": "6fdf3bca",
   "metadata": {},
   "outputs": [
    {
     "data": {
      "text/plain": [
       "[12.3,\n",
       " [45.6, ['hello at IIT Roorkee']],\n",
       " '45',\n",
       " 98,\n",
       " 'iHUB',\n",
       " ['Steve Jobs'],\n",
       " 'works',\n",
       " 'Shreyas']"
      ]
     },
     "execution_count": 18,
     "metadata": {},
     "output_type": "execute_result"
    }
   ],
   "source": [
    "hw_prac_list"
   ]
  },
  {
   "cell_type": "code",
   "execution_count": 25,
   "id": "4c8f96ea",
   "metadata": {},
   "outputs": [
    {
     "data": {
      "text/plain": [
       "'Hello Shreyas'"
      ]
     },
     "execution_count": 25,
     "metadata": {},
     "output_type": "execute_result"
    }
   ],
   "source": [
    "#4\n",
    "hw_prac_list[1][-1][0].split()[0].title()+' '+hw_prac_list[-1]"
   ]
  },
  {
   "cell_type": "code",
   "execution_count": 2,
   "id": "b5f1994c",
   "metadata": {},
   "outputs": [],
   "source": [
    "hw_prac_list2 = [[98,[34.8,['hello world']],'Elon',[['Musk'],'Shreyas']], 'controls', 404, 747]"
   ]
  },
  {
   "cell_type": "markdown",
   "id": "391b4248",
   "metadata": {},
   "source": [
    "1. 'HELLO Elon Musk'\n",
    "2. do a division of any two numbers from prac_list2 and mulitply it with addition of the other two numbers\n",
    "3. replace 'Shreyas' with 'everyone'\n",
    "4. 'Elon Musk controls everyone'"
   ]
  },
  {
   "cell_type": "code",
   "execution_count": 39,
   "id": "ec4d2d0d",
   "metadata": {},
   "outputs": [
    {
     "data": {
      "text/plain": [
       "'HELLO Elon Musk'"
      ]
     },
     "execution_count": 39,
     "metadata": {},
     "output_type": "execute_result"
    }
   ],
   "source": [
    "hw_prac_list2[0][1][1][0].upper()[0:6]+hw_prac_list2[0][2]+' '+hw_prac_list2[0][3][0][0]"
   ]
  },
  {
   "cell_type": "code",
   "execution_count": 47,
   "id": "f66b5ed2",
   "metadata": {},
   "outputs": [
    {
     "data": {
      "text/plain": [
       "408.72244897959183"
      ]
     },
     "execution_count": 47,
     "metadata": {},
     "output_type": "execute_result"
    }
   ],
   "source": [
    "(hw_prac_list2[0][1][0] / hw_prac_list2[0][0])*(hw_prac_list2[-1]+hw_prac_list2[-2])"
   ]
  },
  {
   "cell_type": "code",
   "execution_count": 51,
   "id": "2e7cf6e7",
   "metadata": {},
   "outputs": [],
   "source": [
    "hw_prac_list2[0][-1][-1] = 'everyone'"
   ]
  },
  {
   "cell_type": "code",
   "execution_count": 52,
   "id": "ea71ff2e",
   "metadata": {},
   "outputs": [
    {
     "data": {
      "text/plain": [
       "[[98, [34.8, ['hello world']], 'Elon', [['Musk'], 'everyone']],\n",
       " 'controls',\n",
       " 404,\n",
       " 747]"
      ]
     },
     "execution_count": 52,
     "metadata": {},
     "output_type": "execute_result"
    }
   ],
   "source": [
    "hw_prac_list2"
   ]
  },
  {
   "cell_type": "code",
   "execution_count": 55,
   "id": "aba3c4e8",
   "metadata": {},
   "outputs": [
    {
     "data": {
      "text/plain": [
       "'Elon Musk controls everyone'"
      ]
     },
     "execution_count": 55,
     "metadata": {},
     "output_type": "execute_result"
    }
   ],
   "source": [
    "hw_prac_list2[0][2]+' '+hw_prac_list2[0][3][0][0]+' '+hw_prac_list2[-3]+' '+hw_prac_list2[0][-1][-1] "
   ]
  },
  {
   "cell_type": "markdown",
   "id": "df54b086",
   "metadata": {},
   "source": [
    "### Some more Methods"
   ]
  },
  {
   "cell_type": "code",
   "execution_count": 61,
   "id": "0782b29b",
   "metadata": {},
   "outputs": [],
   "source": [
    "lst1 = [1,2,'3']\n"
   ]
  },
  {
   "cell_type": "code",
   "execution_count": 62,
   "id": "5b4c8a8e",
   "metadata": {},
   "outputs": [],
   "source": [
    "lst1.append(4)"
   ]
  },
  {
   "cell_type": "code",
   "execution_count": 63,
   "id": "c877aa72",
   "metadata": {},
   "outputs": [
    {
     "data": {
      "text/plain": [
       "[1, 2, '3', 4]"
      ]
     },
     "execution_count": 63,
     "metadata": {},
     "output_type": "execute_result"
    }
   ],
   "source": [
    "lst1"
   ]
  },
  {
   "cell_type": "code",
   "execution_count": 64,
   "id": "622ef777",
   "metadata": {},
   "outputs": [
    {
     "data": {
      "text/plain": [
       "0"
      ]
     },
     "execution_count": 64,
     "metadata": {},
     "output_type": "execute_result"
    }
   ],
   "source": [
    "#count\n",
    "lst1.count(9)"
   ]
  },
  {
   "cell_type": "code",
   "execution_count": 65,
   "id": "685bbdd5",
   "metadata": {},
   "outputs": [
    {
     "data": {
      "text/plain": [
       "0"
      ]
     },
     "execution_count": 65,
     "metadata": {},
     "output_type": "execute_result"
    }
   ],
   "source": [
    "lst1.count(3)"
   ]
  },
  {
   "cell_type": "code",
   "execution_count": 68,
   "id": "deff5761",
   "metadata": {},
   "outputs": [
    {
     "data": {
      "text/plain": [
       "1"
      ]
     },
     "execution_count": 68,
     "metadata": {},
     "output_type": "execute_result"
    }
   ],
   "source": [
    "lst1.count('3')"
   ]
  },
  {
   "cell_type": "code",
   "execution_count": 69,
   "id": "f6f80d91",
   "metadata": {},
   "outputs": [],
   "source": [
    "lst1.append([2,3,4])"
   ]
  },
  {
   "cell_type": "code",
   "execution_count": 71,
   "id": "c1f04680",
   "metadata": {},
   "outputs": [
    {
     "data": {
      "text/plain": [
       "[1, 2, '3', 4, [2, 3, 4]]"
      ]
     },
     "execution_count": 71,
     "metadata": {},
     "output_type": "execute_result"
    }
   ],
   "source": [
    "lst1\n",
    "\n",
    "#append: appends whole object at the end"
   ]
  },
  {
   "cell_type": "code",
   "execution_count": 74,
   "id": "3f315800",
   "metadata": {},
   "outputs": [],
   "source": [
    "#extend: extend the list by appending elements\n",
    "\n",
    "x = [1,2,3]\n",
    "x.extend([4,5,6])"
   ]
  },
  {
   "cell_type": "code",
   "execution_count": 75,
   "id": "3c3a65f8",
   "metadata": {},
   "outputs": [
    {
     "data": {
      "text/plain": [
       "[1, 2, 3, 4, 5, 6]"
      ]
     },
     "execution_count": 75,
     "metadata": {},
     "output_type": "execute_result"
    }
   ],
   "source": [
    "x"
   ]
  },
  {
   "cell_type": "code",
   "execution_count": 76,
   "id": "764b2e74",
   "metadata": {},
   "outputs": [],
   "source": [
    "x.append(4)"
   ]
  },
  {
   "cell_type": "code",
   "execution_count": 77,
   "id": "11ee0373",
   "metadata": {},
   "outputs": [
    {
     "data": {
      "text/plain": [
       "[1, 2, 3, 4, 5, 6, 4]"
      ]
     },
     "execution_count": 77,
     "metadata": {},
     "output_type": "execute_result"
    }
   ],
   "source": [
    "x"
   ]
  },
  {
   "cell_type": "code",
   "execution_count": 78,
   "id": "4547aafa",
   "metadata": {},
   "outputs": [],
   "source": [
    "x.append(5)"
   ]
  },
  {
   "cell_type": "code",
   "execution_count": 79,
   "id": "d3fd29cd",
   "metadata": {},
   "outputs": [
    {
     "data": {
      "text/plain": [
       "[1, 2, 3, 4, 5, 6, 4, 5]"
      ]
     },
     "execution_count": 79,
     "metadata": {},
     "output_type": "execute_result"
    }
   ],
   "source": [
    "x"
   ]
  },
  {
   "cell_type": "code",
   "execution_count": 80,
   "id": "1f56d19a",
   "metadata": {},
   "outputs": [
    {
     "data": {
      "text/plain": [
       "[1, 2, 3, 4, 5, 6, 4, 5, 6]"
      ]
     },
     "execution_count": 80,
     "metadata": {},
     "output_type": "execute_result"
    }
   ],
   "source": [
    "x.append(6)\n",
    "x"
   ]
  },
  {
   "cell_type": "code",
   "execution_count": 81,
   "id": "a89bb3ca",
   "metadata": {},
   "outputs": [
    {
     "data": {
      "text/plain": [
       "[1, 2, 3, 4, 5, 6, 4, 5, 6]"
      ]
     },
     "execution_count": 81,
     "metadata": {},
     "output_type": "execute_result"
    }
   ],
   "source": [
    "# insert\n",
    "x"
   ]
  },
  {
   "cell_type": "code",
   "execution_count": 82,
   "id": "f7deb4d8",
   "metadata": {},
   "outputs": [
    {
     "data": {
      "text/plain": [
       "[1, 2, 3, 4, 5, 6, 4, 5, 'kjsadhw']"
      ]
     },
     "execution_count": 82,
     "metadata": {},
     "output_type": "execute_result"
    }
   ],
   "source": [
    "x[-1] = 'kjsadhw'\n",
    "x"
   ]
  },
  {
   "cell_type": "code",
   "execution_count": 85,
   "id": "98c50d28",
   "metadata": {},
   "outputs": [
    {
     "data": {
      "text/plain": [
       "['inserted', 'inserted', 1, 2, 3, 4, 5, 6, 4, 5, 'inserted', 'kjsadhw']"
      ]
     },
     "execution_count": 85,
     "metadata": {},
     "output_type": "execute_result"
    }
   ],
   "source": [
    "x.insert(0,'inserted')\n",
    "x"
   ]
  },
  {
   "cell_type": "code",
   "execution_count": null,
   "id": "24d9ab1c",
   "metadata": {},
   "outputs": [],
   "source": []
  }
 ],
 "metadata": {
  "kernelspec": {
   "display_name": "Python 3 (ipykernel)",
   "language": "python",
   "name": "python3"
  },
  "language_info": {
   "codemirror_mode": {
    "name": "ipython",
    "version": 3
   },
   "file_extension": ".py",
   "mimetype": "text/x-python",
   "name": "python",
   "nbconvert_exporter": "python",
   "pygments_lexer": "ipython3",
   "version": "3.11.5"
  }
 },
 "nbformat": 4,
 "nbformat_minor": 5
}
