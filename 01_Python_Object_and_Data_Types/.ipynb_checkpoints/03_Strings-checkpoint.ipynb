{
 "cells": [
  {
   "cell_type": "markdown",
   "id": "1f7416f2",
   "metadata": {},
   "source": [
    "### Creating a String"
   ]
  },
  {
   "cell_type": "code",
   "execution_count": 1,
   "id": "31cc9423",
   "metadata": {},
   "outputs": [
    {
     "data": {
      "text/plain": [
       "'hello'"
      ]
     },
     "execution_count": 1,
     "metadata": {},
     "output_type": "execute_result"
    }
   ],
   "source": [
    "#Single word\n",
    "\n",
    "'hello'"
   ]
  },
  {
   "cell_type": "code",
   "execution_count": 2,
   "id": "cbc94e61",
   "metadata": {},
   "outputs": [
    {
     "data": {
      "text/plain": [
       "'This is also a string'"
      ]
     },
     "execution_count": 2,
     "metadata": {},
     "output_type": "execute_result"
    }
   ],
   "source": [
    "#Entrie phrase\n",
    "\n",
    "'This is also a string'"
   ]
  },
  {
   "cell_type": "code",
   "execution_count": 3,
   "id": "3dcf3e07",
   "metadata": {},
   "outputs": [
    {
     "data": {
      "text/plain": [
       "'String can also be built with double quotes'"
      ]
     },
     "execution_count": 3,
     "metadata": {},
     "output_type": "execute_result"
    }
   ],
   "source": [
    "#Double Quote\n",
    "\n",
    "\"String can also be built with double quotes\""
   ]
  },
  {
   "cell_type": "code",
   "execution_count": 4,
   "id": "59ed7888",
   "metadata": {},
   "outputs": [
    {
     "ename": "SyntaxError",
     "evalue": "unterminated string literal (detected at line 3) (4157631865.py, line 3)",
     "output_type": "error",
     "traceback": [
      "\u001b[0;36m  Cell \u001b[0;32mIn[4], line 3\u001b[0;36m\u001b[0m\n\u001b[0;31m    'I'm using single quote, but this will give me an error'\u001b[0m\n\u001b[0m                                                           ^\u001b[0m\n\u001b[0;31mSyntaxError\u001b[0m\u001b[0;31m:\u001b[0m unterminated string literal (detected at line 3)\n"
     ]
    }
   ],
   "source": [
    "# Be careful\n",
    "\n",
    "'I'm using single quote, but this will give me an error'"
   ]
  },
  {
   "cell_type": "code",
   "execution_count": 5,
   "id": "d76e8563",
   "metadata": {},
   "outputs": [
    {
     "data": {
      "text/plain": [
       "\"I'm using double quote, and this will give me output in double quotes\""
      ]
     },
     "execution_count": 5,
     "metadata": {},
     "output_type": "execute_result"
    }
   ],
   "source": [
    "\"I'm using double quote, and this will give me output in double quotes\""
   ]
  },
  {
   "cell_type": "markdown",
   "id": "5bbc6160",
   "metadata": {},
   "source": [
    "### Printing a String"
   ]
  },
  {
   "cell_type": "code",
   "execution_count": 6,
   "id": "9c8bc32f",
   "metadata": {},
   "outputs": [
    {
     "data": {
      "text/plain": [
       "'Hello World'"
      ]
     },
     "execution_count": 6,
     "metadata": {},
     "output_type": "execute_result"
    }
   ],
   "source": [
    "'Hello World'"
   ]
  },
  {
   "cell_type": "code",
   "execution_count": 11,
   "id": "024fd311",
   "metadata": {},
   "outputs": [],
   "source": [
    "#We can't output multiple strings this way\n",
    "i = 'Hello World 1'\n",
    "j = 'Hello World 2'"
   ]
  },
  {
   "cell_type": "code",
   "execution_count": 19,
   "id": "19c59abf",
   "metadata": {},
   "outputs": [
    {
     "name": "stdout",
     "output_type": "stream",
     "text": [
      "Hello World 1\n",
      "Hello World 2\n"
     ]
    }
   ],
   "source": [
    "print('Hello World 1')\n",
    "print('Hello World 2')"
   ]
  },
  {
   "cell_type": "code",
   "execution_count": 14,
   "id": "869a72fa",
   "metadata": {},
   "outputs": [
    {
     "name": "stdout",
     "output_type": "stream",
     "text": [
      "Hello World 1\n",
      "Hello World 2\n"
     ]
    }
   ],
   "source": [
    "k = print('Hello World 1')\n",
    "l = print('Hello World 2')"
   ]
  },
  {
   "cell_type": "code",
   "execution_count": 12,
   "id": "d8c5f6d5",
   "metadata": {},
   "outputs": [
    {
     "data": {
      "text/plain": [
       "'Hello World 1'"
      ]
     },
     "execution_count": 12,
     "metadata": {},
     "output_type": "execute_result"
    }
   ],
   "source": [
    "i"
   ]
  },
  {
   "cell_type": "code",
   "execution_count": 13,
   "id": "5071450e",
   "metadata": {},
   "outputs": [
    {
     "data": {
      "text/plain": [
       "'Hello World 2'"
      ]
     },
     "execution_count": 13,
     "metadata": {},
     "output_type": "execute_result"
    }
   ],
   "source": [
    "j"
   ]
  },
  {
   "cell_type": "code",
   "execution_count": 15,
   "id": "66051543",
   "metadata": {},
   "outputs": [],
   "source": [
    "k"
   ]
  },
  {
   "cell_type": "code",
   "execution_count": 16,
   "id": "8a1031ff",
   "metadata": {},
   "outputs": [],
   "source": [
    "l"
   ]
  },
  {
   "cell_type": "code",
   "execution_count": 17,
   "id": "4d8efb18",
   "metadata": {},
   "outputs": [
    {
     "data": {
      "text/plain": [
       "str"
      ]
     },
     "execution_count": 17,
     "metadata": {},
     "output_type": "execute_result"
    }
   ],
   "source": [
    "type(i)"
   ]
  },
  {
   "cell_type": "code",
   "execution_count": 18,
   "id": "31997907",
   "metadata": {},
   "outputs": [
    {
     "data": {
      "text/plain": [
       "NoneType"
      ]
     },
     "execution_count": 18,
     "metadata": {},
     "output_type": "execute_result"
    }
   ],
   "source": [
    "type(k)"
   ]
  },
  {
   "cell_type": "code",
   "execution_count": 22,
   "id": "aba68a6a",
   "metadata": {},
   "outputs": [
    {
     "name": "stdout",
     "output_type": "stream",
     "text": [
      "Use\n",
      "to\n",
      "print\n",
      "a\n",
      "new\n",
      "line\n"
     ]
    }
   ],
   "source": [
    "print('Use\\nto\\nprint\\na\\nnew\\nline')"
   ]
  },
  {
   "cell_type": "code",
   "execution_count": 23,
   "id": "bdf7c984",
   "metadata": {},
   "outputs": [
    {
     "name": "stdout",
     "output_type": "stream",
     "text": [
      "Hello World 1\n",
      "Hello World 2\n"
     ]
    }
   ],
   "source": [
    "print('Hello World 1\\nHello World 2')"
   ]
  },
  {
   "cell_type": "code",
   "execution_count": 24,
   "id": "ab36ac69",
   "metadata": {},
   "outputs": [
    {
     "name": "stdout",
     "output_type": "stream",
     "text": [
      "Hello \t World\n"
     ]
    }
   ],
   "source": [
    "print('Hello \\t World')"
   ]
  },
  {
   "cell_type": "markdown",
   "id": "5ef126cb",
   "metadata": {},
   "source": [
    "### String Basics"
   ]
  },
  {
   "cell_type": "code",
   "execution_count": 28,
   "id": "da320e8c",
   "metadata": {},
   "outputs": [
    {
     "data": {
      "text/plain": [
       "14"
      ]
     },
     "execution_count": 28,
     "metadata": {},
     "output_type": "execute_result"
    }
   ],
   "source": [
    "len('Shreyas Shukla')"
   ]
  },
  {
   "cell_type": "markdown",
   "id": "a9af4221",
   "metadata": {},
   "source": [
    "### String Indexing"
   ]
  },
  {
   "cell_type": "code",
   "execution_count": 101,
   "id": "a46ef369",
   "metadata": {},
   "outputs": [],
   "source": [
    "s = 'Hello World'"
   ]
  },
  {
   "cell_type": "code",
   "execution_count": 102,
   "id": "44b9d115",
   "metadata": {},
   "outputs": [
    {
     "data": {
      "text/plain": [
       "'Hello World'"
      ]
     },
     "execution_count": 102,
     "metadata": {},
     "output_type": "execute_result"
    }
   ],
   "source": [
    "s"
   ]
  },
  {
   "cell_type": "code",
   "execution_count": 103,
   "id": "00b2bcd0",
   "metadata": {},
   "outputs": [
    {
     "name": "stdout",
     "output_type": "stream",
     "text": [
      "Hello World\n"
     ]
    }
   ],
   "source": [
    "print(s)"
   ]
  },
  {
   "cell_type": "code",
   "execution_count": 104,
   "id": "613b12f8",
   "metadata": {},
   "outputs": [
    {
     "data": {
      "text/plain": [
       "'H'"
      ]
     },
     "execution_count": 104,
     "metadata": {},
     "output_type": "execute_result"
    }
   ],
   "source": [
    "#Show first element\n",
    "s[0]"
   ]
  },
  {
   "cell_type": "code",
   "execution_count": 105,
   "id": "acc8be53",
   "metadata": {},
   "outputs": [
    {
     "data": {
      "text/plain": [
       "'e'"
      ]
     },
     "execution_count": 105,
     "metadata": {},
     "output_type": "execute_result"
    }
   ],
   "source": [
    "s[1]"
   ]
  },
  {
   "cell_type": "code",
   "execution_count": 106,
   "id": "08d92489",
   "metadata": {},
   "outputs": [
    {
     "data": {
      "text/plain": [
       "'l'"
      ]
     },
     "execution_count": 106,
     "metadata": {},
     "output_type": "execute_result"
    }
   ],
   "source": [
    "s[2]"
   ]
  },
  {
   "cell_type": "code",
   "execution_count": 107,
   "id": "beac470c",
   "metadata": {},
   "outputs": [
    {
     "data": {
      "text/plain": [
       "'l'"
      ]
     },
     "execution_count": 107,
     "metadata": {},
     "output_type": "execute_result"
    }
   ],
   "source": [
    "s[3]"
   ]
  },
  {
   "cell_type": "code",
   "execution_count": 108,
   "id": "93263429",
   "metadata": {},
   "outputs": [
    {
     "data": {
      "text/plain": [
       "'ello World'"
      ]
     },
     "execution_count": 108,
     "metadata": {},
     "output_type": "execute_result"
    }
   ],
   "source": [
    "s[1:]"
   ]
  },
  {
   "cell_type": "code",
   "execution_count": 109,
   "id": "bd860e2e",
   "metadata": {},
   "outputs": [
    {
     "data": {
      "text/plain": [
       "'Hello World'"
      ]
     },
     "execution_count": 109,
     "metadata": {},
     "output_type": "execute_result"
    }
   ],
   "source": [
    "s  #change is not inplace or not permanent"
   ]
  },
  {
   "cell_type": "code",
   "execution_count": 110,
   "id": "4ea27688",
   "metadata": {},
   "outputs": [
    {
     "data": {
      "text/plain": [
       "'Hell'"
      ]
     },
     "execution_count": 110,
     "metadata": {},
     "output_type": "execute_result"
    }
   ],
   "source": [
    "#Grab upto a index\n",
    "s[:4]"
   ]
  },
  {
   "cell_type": "code",
   "execution_count": 111,
   "id": "6d77ee16",
   "metadata": {},
   "outputs": [
    {
     "data": {
      "text/plain": [
       "'Hello World'"
      ]
     },
     "execution_count": 111,
     "metadata": {},
     "output_type": "execute_result"
    }
   ],
   "source": [
    "s"
   ]
  },
  {
   "cell_type": "code",
   "execution_count": 112,
   "id": "bec71686",
   "metadata": {},
   "outputs": [
    {
     "data": {
      "text/plain": [
       "'Hello World'"
      ]
     },
     "execution_count": 112,
     "metadata": {},
     "output_type": "execute_result"
    }
   ],
   "source": [
    "s[:]"
   ]
  },
  {
   "cell_type": "code",
   "execution_count": 113,
   "id": "d0ce63bf",
   "metadata": {},
   "outputs": [
    {
     "data": {
      "text/plain": [
       "'d'"
      ]
     },
     "execution_count": 113,
     "metadata": {},
     "output_type": "execute_result"
    }
   ],
   "source": [
    "s[-1]"
   ]
  },
  {
   "cell_type": "code",
   "execution_count": 114,
   "id": "e06699c1",
   "metadata": {},
   "outputs": [
    {
     "data": {
      "text/plain": [
       "'Hello Worl'"
      ]
     },
     "execution_count": 114,
     "metadata": {},
     "output_type": "execute_result"
    }
   ],
   "source": [
    "s[:-1]"
   ]
  },
  {
   "cell_type": "code",
   "execution_count": 115,
   "id": "5fdad96c",
   "metadata": {},
   "outputs": [
    {
     "data": {
      "text/plain": [
       "'Hell'"
      ]
     },
     "execution_count": 115,
     "metadata": {},
     "output_type": "execute_result"
    }
   ],
   "source": [
    "s[:-7]"
   ]
  },
  {
   "cell_type": "code",
   "execution_count": 116,
   "id": "9829bb58",
   "metadata": {},
   "outputs": [
    {
     "data": {
      "text/plain": [
       "'Hello World'"
      ]
     },
     "execution_count": 116,
     "metadata": {},
     "output_type": "execute_result"
    }
   ],
   "source": [
    "s"
   ]
  },
  {
   "cell_type": "code",
   "execution_count": 117,
   "id": "fa621ae6",
   "metadata": {},
   "outputs": [
    {
     "data": {
      "text/plain": [
       "'HloWrd'"
      ]
     },
     "execution_count": 117,
     "metadata": {},
     "output_type": "execute_result"
    }
   ],
   "source": [
    "s[::2]"
   ]
  },
  {
   "cell_type": "markdown",
   "id": "9149f739",
   "metadata": {},
   "source": [
    "With your full name:\n",
    "\n",
    "1. Grab first name\n",
    "2. Grab last 2 letters of the first name and first 3 letters of the last name. In your query, you have to use reverse indexing atleast once\n",
    "3. print len of your name, first name, last name and of point 2. "
   ]
  },
  {
   "cell_type": "code",
   "execution_count": 118,
   "id": "f6bea80f",
   "metadata": {},
   "outputs": [
    {
     "data": {
      "text/plain": [
       "'Shreyas'"
      ]
     },
     "execution_count": 118,
     "metadata": {},
     "output_type": "execute_result"
    }
   ],
   "source": [
    "name = 'Shreyas Shukla'\n",
    "name[:7]"
   ]
  },
  {
   "cell_type": "code",
   "execution_count": 119,
   "id": "f620f572",
   "metadata": {},
   "outputs": [
    {
     "data": {
      "text/plain": [
       "'as Shu'"
      ]
     },
     "execution_count": 119,
     "metadata": {},
     "output_type": "execute_result"
    }
   ],
   "source": [
    "name[5:-3]"
   ]
  },
  {
   "cell_type": "code",
   "execution_count": 120,
   "id": "b0b6566a",
   "metadata": {},
   "outputs": [
    {
     "data": {
      "text/plain": [
       "'Shukla'"
      ]
     },
     "execution_count": 120,
     "metadata": {},
     "output_type": "execute_result"
    }
   ],
   "source": [
    "name[-6:]"
   ]
  },
  {
   "cell_type": "code",
   "execution_count": 121,
   "id": "f00bb50a",
   "metadata": {},
   "outputs": [
    {
     "name": "stdout",
     "output_type": "stream",
     "text": [
      "14\n",
      "7\n",
      "6\n",
      "6\n"
     ]
    }
   ],
   "source": [
    "print(len(name))\n",
    "print(len(name[:7]))\n",
    "print(len(name[-6:]))\n",
    "print(len(name[5:-3]))"
   ]
  },
  {
   "cell_type": "markdown",
   "id": "170f89fa",
   "metadata": {},
   "source": [
    "### String Properties\n",
    "\n",
    "* Strings are immutable"
   ]
  },
  {
   "cell_type": "code",
   "execution_count": 122,
   "id": "83d669bc",
   "metadata": {},
   "outputs": [
    {
     "data": {
      "text/plain": [
       "'Hello World'"
      ]
     },
     "execution_count": 122,
     "metadata": {},
     "output_type": "execute_result"
    }
   ],
   "source": [
    "s"
   ]
  },
  {
   "cell_type": "code",
   "execution_count": 124,
   "id": "64f54af6",
   "metadata": {},
   "outputs": [
    {
     "ename": "TypeError",
     "evalue": "'str' object does not support item assignment",
     "output_type": "error",
     "traceback": [
      "\u001b[0;31m---------------------------------------------------------------------------\u001b[0m",
      "\u001b[0;31mTypeError\u001b[0m                                 Traceback (most recent call last)",
      "Cell \u001b[0;32mIn[124], line 1\u001b[0m\n\u001b[0;32m----> 1\u001b[0m s[\u001b[38;5;241m0\u001b[39m] \u001b[38;5;241m=\u001b[39m \u001b[38;5;124m'\u001b[39m\u001b[38;5;124mx\u001b[39m\u001b[38;5;124m'\u001b[39m\n",
      "\u001b[0;31mTypeError\u001b[0m: 'str' object does not support item assignment"
     ]
    }
   ],
   "source": [
    "s[0] = 'x'"
   ]
  },
  {
   "cell_type": "code",
   "execution_count": 125,
   "id": "8fcb80ee",
   "metadata": {},
   "outputs": [],
   "source": [
    "#Concatenate\n",
    "x = 'iHUB'\n",
    "y = 'DivyaSampark'"
   ]
  },
  {
   "cell_type": "code",
   "execution_count": 129,
   "id": "3a7d2ff1",
   "metadata": {},
   "outputs": [
    {
     "data": {
      "text/plain": [
       "'iHUB DivyaSampark with RBPL'"
      ]
     },
     "execution_count": 129,
     "metadata": {},
     "output_type": "execute_result"
    }
   ],
   "source": [
    "x + ' ' + y + ' with RBPL'"
   ]
  },
  {
   "cell_type": "code",
   "execution_count": 131,
   "id": "4df85ad9",
   "metadata": {},
   "outputs": [
    {
     "data": {
      "text/plain": [
       "'xello World'"
      ]
     },
     "execution_count": 131,
     "metadata": {},
     "output_type": "execute_result"
    }
   ],
   "source": [
    "'x'+s[1:]"
   ]
  },
  {
   "cell_type": "code",
   "execution_count": 132,
   "id": "9d63d13c",
   "metadata": {},
   "outputs": [
    {
     "data": {
      "text/plain": [
       "'Hello World'"
      ]
     },
     "execution_count": 132,
     "metadata": {},
     "output_type": "execute_result"
    }
   ],
   "source": [
    "s"
   ]
  },
  {
   "cell_type": "code",
   "execution_count": 133,
   "id": "6ce37f71",
   "metadata": {},
   "outputs": [],
   "source": [
    "s = 'x'+s[1:]"
   ]
  },
  {
   "cell_type": "code",
   "execution_count": 134,
   "id": "d414e588",
   "metadata": {},
   "outputs": [
    {
     "data": {
      "text/plain": [
       "'xello World'"
      ]
     },
     "execution_count": 134,
     "metadata": {},
     "output_type": "execute_result"
    }
   ],
   "source": [
    "s"
   ]
  },
  {
   "cell_type": "code",
   "execution_count": 135,
   "id": "6c092bea",
   "metadata": {},
   "outputs": [
    {
     "data": {
      "text/plain": [
       "8"
      ]
     },
     "execution_count": 135,
     "metadata": {},
     "output_type": "execute_result"
    }
   ],
   "source": [
    "2+6"
   ]
  },
  {
   "cell_type": "code",
   "execution_count": 136,
   "id": "4bf04ab2",
   "metadata": {},
   "outputs": [
    {
     "data": {
      "text/plain": [
       "'26'"
      ]
     },
     "execution_count": 136,
     "metadata": {},
     "output_type": "execute_result"
    }
   ],
   "source": [
    "'2'+'6'"
   ]
  },
  {
   "cell_type": "code",
   "execution_count": 137,
   "id": "be9b3ded",
   "metadata": {},
   "outputs": [
    {
     "name": "stdout",
     "output_type": "stream",
     "text": [
      "8\n"
     ]
    }
   ],
   "source": [
    "print(2+6)"
   ]
  },
  {
   "cell_type": "code",
   "execution_count": 138,
   "id": "6c95d675",
   "metadata": {},
   "outputs": [
    {
     "name": "stdout",
     "output_type": "stream",
     "text": [
      "26\n"
     ]
    }
   ],
   "source": [
    "print('2'+'6')"
   ]
  },
  {
   "cell_type": "code",
   "execution_count": 140,
   "id": "9b9e719e",
   "metadata": {},
   "outputs": [
    {
     "data": {
      "text/plain": [
       "'xello Worldxello Worldxello Worldxello World'"
      ]
     },
     "execution_count": 140,
     "metadata": {},
     "output_type": "execute_result"
    }
   ],
   "source": [
    "#repetition of strings\n",
    "\n",
    "s*4"
   ]
  },
  {
   "cell_type": "code",
   "execution_count": 141,
   "id": "162810e8",
   "metadata": {},
   "outputs": [
    {
     "data": {
      "text/plain": [
       "'8888'"
      ]
     },
     "execution_count": 141,
     "metadata": {},
     "output_type": "execute_result"
    }
   ],
   "source": [
    "'8'*4"
   ]
  },
  {
   "cell_type": "markdown",
   "id": "e5705605",
   "metadata": {},
   "source": [
    "### Built-In String Methods"
   ]
  },
  {
   "cell_type": "code",
   "execution_count": 142,
   "id": "a2a01515",
   "metadata": {},
   "outputs": [
    {
     "data": {
      "text/plain": [
       "'xello World'"
      ]
     },
     "execution_count": 142,
     "metadata": {},
     "output_type": "execute_result"
    }
   ],
   "source": [
    "s"
   ]
  },
  {
   "cell_type": "code",
   "execution_count": 143,
   "id": "3ea9a3c0",
   "metadata": {},
   "outputs": [
    {
     "data": {
      "text/plain": [
       "'XELLO WORLD'"
      ]
     },
     "execution_count": 143,
     "metadata": {},
     "output_type": "execute_result"
    }
   ],
   "source": [
    "#Upper Case a string\n",
    "s.upper()"
   ]
  },
  {
   "cell_type": "code",
   "execution_count": 144,
   "id": "206f7958",
   "metadata": {},
   "outputs": [
    {
     "data": {
      "text/plain": [
       "<function str.upper()>"
      ]
     },
     "execution_count": 144,
     "metadata": {},
     "output_type": "execute_result"
    }
   ],
   "source": [
    "s.upper"
   ]
  },
  {
   "cell_type": "code",
   "execution_count": 145,
   "id": "271d3d5e",
   "metadata": {},
   "outputs": [
    {
     "data": {
      "text/plain": [
       "'xello world'"
      ]
     },
     "execution_count": 145,
     "metadata": {},
     "output_type": "execute_result"
    }
   ],
   "source": [
    "#Lower case\n",
    "s.lower()"
   ]
  },
  {
   "cell_type": "code",
   "execution_count": 146,
   "id": "d6704681",
   "metadata": {},
   "outputs": [
    {
     "data": {
      "text/plain": [
       "['xello', 'World']"
      ]
     },
     "execution_count": 146,
     "metadata": {},
     "output_type": "execute_result"
    }
   ],
   "source": [
    "#Split by a specific element\n",
    "s.split()"
   ]
  },
  {
   "cell_type": "code",
   "execution_count": 147,
   "id": "40f1b4f4",
   "metadata": {},
   "outputs": [
    {
     "data": {
      "text/plain": [
       "['xel', 'World']"
      ]
     },
     "execution_count": 147,
     "metadata": {},
     "output_type": "execute_result"
    }
   ],
   "source": [
    "s.split('lo ')"
   ]
  },
  {
   "cell_type": "code",
   "execution_count": 148,
   "id": "7ad3288e",
   "metadata": {},
   "outputs": [
    {
     "data": {
      "text/plain": [
       "'Xello world'"
      ]
     },
     "execution_count": 148,
     "metadata": {},
     "output_type": "execute_result"
    }
   ],
   "source": [
    "#Capitalize first word\n",
    "s.capitalize()"
   ]
  },
  {
   "cell_type": "code",
   "execution_count": 150,
   "id": "65ffd5f1",
   "metadata": {},
   "outputs": [
    {
     "data": {
      "text/plain": [
       "3"
      ]
     },
     "execution_count": 150,
     "metadata": {},
     "output_type": "execute_result"
    }
   ],
   "source": [
    "#returns the number of occurences, without any overlap\n",
    "s.count('l')"
   ]
  },
  {
   "cell_type": "code",
   "execution_count": 151,
   "id": "84c3b77d",
   "metadata": {},
   "outputs": [
    {
     "data": {
      "text/plain": [
       "1"
      ]
     },
     "execution_count": 151,
     "metadata": {},
     "output_type": "execute_result"
    }
   ],
   "source": [
    "s.count('el')"
   ]
  },
  {
   "cell_type": "code",
   "execution_count": 152,
   "id": "b9b9dab6",
   "metadata": {},
   "outputs": [
    {
     "data": {
      "text/plain": [
       "6"
      ]
     },
     "execution_count": 152,
     "metadata": {},
     "output_type": "execute_result"
    }
   ],
   "source": [
    "#return the starting index position of the first occurence\n",
    "s.find('W')"
   ]
  },
  {
   "cell_type": "code",
   "execution_count": 153,
   "id": "7ec09d7a",
   "metadata": {},
   "outputs": [
    {
     "data": {
      "text/plain": [
       "7"
      ]
     },
     "execution_count": 153,
     "metadata": {},
     "output_type": "execute_result"
    }
   ],
   "source": [
    "s.find('orl')"
   ]
  },
  {
   "cell_type": "code",
   "execution_count": 154,
   "id": "e7c0d6bb",
   "metadata": {},
   "outputs": [
    {
     "data": {
      "text/plain": [
       "'*********xello World**********'"
      ]
     },
     "execution_count": 154,
     "metadata": {},
     "output_type": "execute_result"
    }
   ],
   "source": [
    "#place your string 'centered' between any given string\n",
    "\n",
    "s.center(30,'*')"
   ]
  },
  {
   "cell_type": "code",
   "execution_count": 155,
   "id": "acbd0571",
   "metadata": {},
   "outputs": [
    {
     "data": {
      "text/plain": [
       "False"
      ]
     },
     "execution_count": 155,
     "metadata": {},
     "output_type": "execute_result"
    }
   ],
   "source": [
    "#return boolean value if all the characters are in alphanumeric\n",
    "\n",
    "s.isalnum()"
   ]
  },
  {
   "cell_type": "code",
   "execution_count": 157,
   "id": "6484f2a0",
   "metadata": {},
   "outputs": [],
   "source": [
    "t = 'Shreyas'"
   ]
  },
  {
   "cell_type": "code",
   "execution_count": 158,
   "id": "dca65f6a",
   "metadata": {},
   "outputs": [
    {
     "data": {
      "text/plain": [
       "True"
      ]
     },
     "execution_count": 158,
     "metadata": {},
     "output_type": "execute_result"
    }
   ],
   "source": [
    "#return boolean value if all the characters are in alphabetic\n",
    "t.isalpha()"
   ]
  },
  {
   "cell_type": "code",
   "execution_count": 160,
   "id": "94714bf9",
   "metadata": {},
   "outputs": [
    {
     "data": {
      "text/plain": [
       "False"
      ]
     },
     "execution_count": 160,
     "metadata": {},
     "output_type": "execute_result"
    }
   ],
   "source": [
    "s.islower()"
   ]
  },
  {
   "cell_type": "code",
   "execution_count": 161,
   "id": "32596a88",
   "metadata": {},
   "outputs": [
    {
     "data": {
      "text/plain": [
       "False"
      ]
     },
     "execution_count": 161,
     "metadata": {},
     "output_type": "execute_result"
    }
   ],
   "source": [
    "s.isupper()"
   ]
  },
  {
   "cell_type": "code",
   "execution_count": 162,
   "id": "f0c4389b",
   "metadata": {},
   "outputs": [
    {
     "data": {
      "text/plain": [
       "('xel', 'lo', ' World')"
      ]
     },
     "execution_count": 162,
     "metadata": {},
     "output_type": "execute_result"
    }
   ],
   "source": [
    "s.partition('lo')"
   ]
  },
  {
   "cell_type": "code",
   "execution_count": 163,
   "id": "f4c8e709",
   "metadata": {},
   "outputs": [
    {
     "data": {
      "text/plain": [
       "'xello world'"
      ]
     },
     "execution_count": 163,
     "metadata": {},
     "output_type": "execute_result"
    }
   ],
   "source": [
    "s.casefold()"
   ]
  },
  {
   "cell_type": "code",
   "execution_count": 164,
   "id": "57e22925",
   "metadata": {},
   "outputs": [
    {
     "data": {
      "text/plain": [
       "True"
      ]
     },
     "execution_count": 164,
     "metadata": {},
     "output_type": "execute_result"
    }
   ],
   "source": [
    "s.endswith('ld')"
   ]
  },
  {
   "cell_type": "code",
   "execution_count": 165,
   "id": "9101669d",
   "metadata": {},
   "outputs": [
    {
     "data": {
      "text/plain": [
       "False"
      ]
     },
     "execution_count": 165,
     "metadata": {},
     "output_type": "execute_result"
    }
   ],
   "source": [
    "s.endswith('a')"
   ]
  },
  {
   "cell_type": "code",
   "execution_count": null,
   "id": "6bd842c3",
   "metadata": {},
   "outputs": [],
   "source": []
  }
 ],
 "metadata": {
  "kernelspec": {
   "display_name": "Python 3 (ipykernel)",
   "language": "python",
   "name": "python3"
  },
  "language_info": {
   "codemirror_mode": {
    "name": "ipython",
    "version": 3
   },
   "file_extension": ".py",
   "mimetype": "text/x-python",
   "name": "python",
   "nbconvert_exporter": "python",
   "pygments_lexer": "ipython3",
   "version": "3.11.5"
  }
 },
 "nbformat": 4,
 "nbformat_minor": 5
}
