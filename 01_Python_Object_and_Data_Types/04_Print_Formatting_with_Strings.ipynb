{
 "cells": [
  {
   "cell_type": "markdown",
   "id": "89c12076",
   "metadata": {},
   "source": [
    "### Formatting with Placeholders"
   ]
  },
  {
   "cell_type": "code",
   "execution_count": 1,
   "id": "34902d5a",
   "metadata": {},
   "outputs": [
    {
     "name": "stdout",
     "output_type": "stream",
     "text": [
      "Hello Shreyas\n"
     ]
    }
   ],
   "source": [
    "print('Hello Shreyas')"
   ]
  },
  {
   "cell_type": "code",
   "execution_count": 2,
   "id": "41745edb",
   "metadata": {},
   "outputs": [
    {
     "name": "stdout",
     "output_type": "stream",
     "text": [
      "I'm going to inject inserted string here.\n"
     ]
    }
   ],
   "source": [
    "print(\"I'm going to inject %s here.\"%'inserted string')"
   ]
  },
  {
   "cell_type": "code",
   "execution_count": 4,
   "id": "48d5cc79",
   "metadata": {},
   "outputs": [
    {
     "name": "stdout",
     "output_type": "stream",
     "text": [
      "I'm going to inject inserted string 1 here and inserted string 2 here as well.\n"
     ]
    }
   ],
   "source": [
    "print(\"I'm going to inject %s here and %s here as well.\"%('inserted string 1','inserted string 2'))"
   ]
  },
  {
   "cell_type": "code",
   "execution_count": 5,
   "id": "66a6d06f",
   "metadata": {},
   "outputs": [
    {
     "name": "stdout",
     "output_type": "stream",
     "text": [
      "I'm going to inject inserted string 1 here and inserted string 2 here as well.\n"
     ]
    }
   ],
   "source": [
    "x = 'inserted string 1'\n",
    "y = 'inserted string 2'\n",
    "print(\"I'm going to inject %s here and %s here as well.\"%(x,y))"
   ]
  },
  {
   "cell_type": "markdown",
   "id": "8269b259",
   "metadata": {},
   "source": [
    "### Conversion methods"
   ]
  },
  {
   "cell_type": "code",
   "execution_count": 6,
   "id": "5167aea5",
   "metadata": {},
   "outputs": [
    {
     "name": "stdout",
     "output_type": "stream",
     "text": [
      "I'm going to inject inserted string here.\n",
      "I'm going to inject 'inserted string' here.\n"
     ]
    }
   ],
   "source": [
    "#%s and %r\n",
    "\n",
    "print(\"I'm going to inject %s here.\"%'inserted string')\n",
    "print(\"I'm going to inject %r here.\"%'inserted string')"
   ]
  },
  {
   "cell_type": "code",
   "execution_count": 8,
   "id": "d51aa661",
   "metadata": {},
   "outputs": [
    {
     "name": "stdout",
     "output_type": "stream",
     "text": [
      "I'm going to inject inserted\n",
      "string here.\n",
      "I'm going to inject 'inserted\\nstring' here.\n"
     ]
    }
   ],
   "source": [
    "print(\"I'm going to inject %s here.\"%'inserted\\nstring')\n",
    "print(\"I'm going to inject %r here.\"%'inserted\\nstring')"
   ]
  },
  {
   "cell_type": "code",
   "execution_count": 9,
   "id": "1724371a",
   "metadata": {},
   "outputs": [
    {
     "name": "stdout",
     "output_type": "stream",
     "text": [
      "Number is: 14.13\n"
     ]
    }
   ],
   "source": [
    "#%f\n",
    "#%5.2f :-- 5 is the min no of characters the string should contain\n",
    "#and 2 is how many numbers to show past the decimal point\n",
    "\n",
    "print('Number is: %5.2f' %(14.133))"
   ]
  },
  {
   "cell_type": "code",
   "execution_count": 10,
   "id": "da02cfa2",
   "metadata": {},
   "outputs": [
    {
     "name": "stdout",
     "output_type": "stream",
     "text": [
      "Number is: 14.133000\n"
     ]
    }
   ],
   "source": [
    "print('Number is: %5.6f' %(14.133))"
   ]
  },
  {
   "cell_type": "code",
   "execution_count": 11,
   "id": "c3b0f160",
   "metadata": {},
   "outputs": [
    {
     "name": "stdout",
     "output_type": "stream",
     "text": [
      "Number is:    14.133000\n"
     ]
    }
   ],
   "source": [
    "print('Number is: %12.6f' %(14.133))"
   ]
  },
  {
   "cell_type": "markdown",
   "id": "2c3849d9",
   "metadata": {},
   "source": [
    "## .format() methods"
   ]
  },
  {
   "cell_type": "code",
   "execution_count": 12,
   "id": "4784c33d",
   "metadata": {},
   "outputs": [
    {
     "name": "stdout",
     "output_type": "stream",
     "text": [
      "This is a string with an inserted string\n"
     ]
    }
   ],
   "source": [
    "print('This is a string with an {}'.format('inserted string'))"
   ]
  },
  {
   "cell_type": "code",
   "execution_count": 13,
   "id": "68d3b6eb",
   "metadata": {},
   "outputs": [
    {
     "name": "stdout",
     "output_type": "stream",
     "text": [
      "This is a string with an dog,inserted string and cat\n"
     ]
    }
   ],
   "source": [
    "print('This is a string with an {1},{0} and {2}'.format('inserted string','dog','cat'))"
   ]
  },
  {
   "cell_type": "code",
   "execution_count": 14,
   "id": "b62aabba",
   "metadata": {},
   "outputs": [
    {
     "name": "stdout",
     "output_type": "stream",
     "text": [
      "This is a string with an inserted string,cat and dog\n"
     ]
    }
   ],
   "source": [
    "print('This is a string with an {x},{z} and {y}'.format(x= 'inserted string',y = 'dog',z= 'cat'))"
   ]
  },
  {
   "cell_type": "markdown",
   "id": "87bcab13",
   "metadata": {},
   "source": [
    "## f-literal method"
   ]
  },
  {
   "cell_type": "code",
   "execution_count": 15,
   "id": "436d8ff6",
   "metadata": {},
   "outputs": [
    {
     "name": "stdout",
     "output_type": "stream",
     "text": [
      "His name is David\n"
     ]
    }
   ],
   "source": [
    "name = 'David'\n",
    "\n",
    "print(f'His name is {name}')"
   ]
  },
  {
   "cell_type": "code",
   "execution_count": 16,
   "id": "61680a87",
   "metadata": {},
   "outputs": [
    {
     "name": "stdout",
     "output_type": "stream",
     "text": [
      "His name is 'David'\n"
     ]
    }
   ],
   "source": [
    "print(f'His name is {name!r}')"
   ]
  },
  {
   "cell_type": "code",
   "execution_count": 17,
   "id": "4bdc9a17",
   "metadata": {},
   "outputs": [
    {
     "name": "stdout",
     "output_type": "stream",
     "text": [
      "My result was:  5\n"
     ]
    }
   ],
   "source": [
    "x = 5\n",
    "\n",
    "print('My result was: ',x)"
   ]
  },
  {
   "cell_type": "code",
   "execution_count": 18,
   "id": "4535469b",
   "metadata": {},
   "outputs": [
    {
     "name": "stdout",
     "output_type": "stream",
     "text": [
      "Number is: 14.790\n"
     ]
    }
   ],
   "source": [
    "x = 14.789874897328901893\n",
    "\n",
    "print('Number is: %2.3f' %(x))"
   ]
  },
  {
   "cell_type": "code",
   "execution_count": null,
   "id": "ebbc12ac",
   "metadata": {},
   "outputs": [],
   "source": []
  }
 ],
 "metadata": {
  "kernelspec": {
   "display_name": "Python 3 (ipykernel)",
   "language": "python",
   "name": "python3"
  },
  "language_info": {
   "codemirror_mode": {
    "name": "ipython",
    "version": 3
   },
   "file_extension": ".py",
   "mimetype": "text/x-python",
   "name": "python",
   "nbconvert_exporter": "python",
   "pygments_lexer": "ipython3",
   "version": "3.11.5"
  }
 },
 "nbformat": 4,
 "nbformat_minor": 5
}
