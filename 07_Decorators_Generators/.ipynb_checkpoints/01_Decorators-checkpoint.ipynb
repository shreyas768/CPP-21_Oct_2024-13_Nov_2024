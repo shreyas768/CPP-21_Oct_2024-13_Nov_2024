{
 "cells": [
  {
   "cell_type": "code",
   "execution_count": 1,
   "id": "6ce5ba2b",
   "metadata": {},
   "outputs": [],
   "source": [
    "def func():\n",
    "    return \"hello\""
   ]
  },
  {
   "cell_type": "code",
   "execution_count": 2,
   "id": "c8a957df",
   "metadata": {},
   "outputs": [
    {
     "data": {
      "text/plain": [
       "'hello'"
      ]
     },
     "execution_count": 2,
     "metadata": {},
     "output_type": "execute_result"
    }
   ],
   "source": [
    "func()"
   ]
  },
  {
   "cell_type": "code",
   "execution_count": 3,
   "id": "e0009702",
   "metadata": {},
   "outputs": [],
   "source": [
    "x = func"
   ]
  },
  {
   "cell_type": "code",
   "execution_count": 4,
   "id": "1661822f",
   "metadata": {},
   "outputs": [
    {
     "data": {
      "text/plain": [
       "'hello'"
      ]
     },
     "execution_count": 4,
     "metadata": {},
     "output_type": "execute_result"
    }
   ],
   "source": [
    "x()"
   ]
  },
  {
   "cell_type": "code",
   "execution_count": 7,
   "id": "8b11ec57",
   "metadata": {},
   "outputs": [],
   "source": [
    "del func"
   ]
  },
  {
   "cell_type": "code",
   "execution_count": 8,
   "id": "1cc8567e",
   "metadata": {},
   "outputs": [
    {
     "ename": "NameError",
     "evalue": "name 'func' is not defined",
     "output_type": "error",
     "traceback": [
      "\u001b[0;31m---------------------------------------------------------------------------\u001b[0m",
      "\u001b[0;31mNameError\u001b[0m                                 Traceback (most recent call last)",
      "Cell \u001b[0;32mIn[8], line 1\u001b[0m\n\u001b[0;32m----> 1\u001b[0m func\n",
      "\u001b[0;31mNameError\u001b[0m: name 'func' is not defined"
     ]
    }
   ],
   "source": [
    "func"
   ]
  },
  {
   "cell_type": "code",
   "execution_count": 9,
   "id": "0c504438",
   "metadata": {},
   "outputs": [
    {
     "data": {
      "text/plain": [
       "'hello'"
      ]
     },
     "execution_count": 9,
     "metadata": {},
     "output_type": "execute_result"
    }
   ],
   "source": [
    "x()"
   ]
  },
  {
   "cell_type": "code",
   "execution_count": 10,
   "id": "0062ec8b",
   "metadata": {},
   "outputs": [],
   "source": [
    "s = 'Global Var'\n",
    "\n",
    "def check_for_locals():\n",
    "    print(locals())"
   ]
  },
  {
   "cell_type": "code",
   "execution_count": 11,
   "id": "69da8615",
   "metadata": {},
   "outputs": [
    {
     "name": "stdout",
     "output_type": "stream",
     "text": [
      "{'__name__': '__main__', '__doc__': 'Automatically created module for IPython interactive environment', '__package__': None, '__loader__': None, '__spec__': None, '__builtin__': <module 'builtins' (built-in)>, '__builtins__': <module 'builtins' (built-in)>, '_ih': ['', 'def func():\\n    return \"hello\"', 'func()', 'x = func', 'x()', 'def func', 'def func()', 'del func', 'func', 'x()', \"s = 'Global Var'\\n\\ndef check_for_locals():\\n    print(locals())\", 'print(globals())'], '_oh': {2: 'hello', 4: 'hello', 9: 'hello'}, '_dh': [PosixPath('/Users/shrey/Downloads/Work/CPP-21_Oct_2024-13_Nov_2024/07_Decorators_Generators')], 'In': ['', 'def func():\\n    return \"hello\"', 'func()', 'x = func', 'x()', 'def func', 'def func()', 'del func', 'func', 'x()', \"s = 'Global Var'\\n\\ndef check_for_locals():\\n    print(locals())\", 'print(globals())'], 'Out': {2: 'hello', 4: 'hello', 9: 'hello'}, 'get_ipython': <bound method InteractiveShell.get_ipython of <ipykernel.zmqshell.ZMQInteractiveShell object at 0x110a73d90>>, 'exit': <IPython.core.autocall.ZMQExitAutocall object at 0x110a8bd90>, 'quit': <IPython.core.autocall.ZMQExitAutocall object at 0x110a8bd90>, 'open': <function open at 0x107172de0>, '_': 'hello', '__': 'hello', '___': 'hello', '_i': \"s = 'Global Var'\\n\\ndef check_for_locals():\\n    print(locals())\", '_ii': 'x()', '_iii': 'func', '_i1': 'def func():\\n    return \"hello\"', '_i2': 'func()', '_2': 'hello', '_i3': 'x = func', 'x': <function func at 0x110e03c40>, '_i4': 'x()', '_4': 'hello', '_i5': 'def func', '_i6': 'def func()', '_i7': 'del func', '_i8': 'func', '_i9': 'x()', '_9': 'hello', '_i10': \"s = 'Global Var'\\n\\ndef check_for_locals():\\n    print(locals())\", 's': 'Global Var', 'check_for_locals': <function check_for_locals at 0x110ef5f80>, '_i11': 'print(globals())'}\n"
     ]
    }
   ],
   "source": [
    "print(globals())"
   ]
  },
  {
   "cell_type": "code",
   "execution_count": 12,
   "id": "9b380df0",
   "metadata": {},
   "outputs": [
    {
     "name": "stdout",
     "output_type": "stream",
     "text": [
      "dict_keys(['__name__', '__doc__', '__package__', '__loader__', '__spec__', '__builtin__', '__builtins__', '_ih', '_oh', '_dh', 'In', 'Out', 'get_ipython', 'exit', 'quit', 'open', '_', '__', '___', '_i', '_ii', '_iii', '_i1', '_i2', '_2', '_i3', 'x', '_i4', '_4', '_i5', '_i6', '_i7', '_i8', '_i9', '_9', '_i10', 's', 'check_for_locals', '_i11', '_i12'])\n"
     ]
    }
   ],
   "source": [
    "print(globals().keys())"
   ]
  },
  {
   "cell_type": "code",
   "execution_count": 15,
   "id": "dcd49694",
   "metadata": {},
   "outputs": [
    {
     "name": "stdout",
     "output_type": "stream",
     "text": [
      "dict_keys(['__name__', '__doc__', '__package__', '__loader__', '__spec__', '__builtin__', '__builtins__', '_ih', '_oh', '_dh', 'In', 'Out', 'get_ipython', 'exit', 'quit', 'open', '_', '__', '___', '_i', '_ii', '_iii', '_i1', '_i2', '_2', '_i3', 'x', '_i4', '_4', '_i5', '_i6', '_i7', '_i8', '_i9', '_9', '_i10', 's', 'check_for_locals', '_i11', '_i12', '_i13', '_i14', '_i15'])\n"
     ]
    },
    {
     "ename": "TypeError",
     "evalue": "'NoneType' object is not subscriptable",
     "output_type": "error",
     "traceback": [
      "\u001b[0;31m---------------------------------------------------------------------------\u001b[0m",
      "\u001b[0;31mTypeError\u001b[0m                                 Traceback (most recent call last)",
      "Cell \u001b[0;32mIn[15], line 1\u001b[0m\n\u001b[0;32m----> 1\u001b[0m \u001b[38;5;28mprint\u001b[39m(\u001b[38;5;28mglobals\u001b[39m()\u001b[38;5;241m.\u001b[39mkeys())[\u001b[38;5;124m'\u001b[39m\u001b[38;5;124ms\u001b[39m\u001b[38;5;124m'\u001b[39m]\n",
      "\u001b[0;31mTypeError\u001b[0m: 'NoneType' object is not subscriptable"
     ]
    }
   ],
   "source": [
    "print(globals().keys())['s']"
   ]
  },
  {
   "cell_type": "markdown",
   "id": "c9a23006",
   "metadata": {},
   "source": [
    "## Decorators"
   ]
  },
  {
   "cell_type": "code",
   "execution_count": 16,
   "id": "813e3116",
   "metadata": {},
   "outputs": [],
   "source": [
    "def new_decorator(func):\n",
    "    \n",
    "    def wrap_func():\n",
    "        print('Code here, before executin gthe func')\n",
    "        \n",
    "        func()\n",
    "        \n",
    "        print('Code here will execute after the func()')\n",
    "        \n",
    "    return wrap_func"
   ]
  },
  {
   "cell_type": "code",
   "execution_count": 17,
   "id": "f60ec519",
   "metadata": {},
   "outputs": [],
   "source": [
    "def func_needs_decorator():\n",
    "    print('This function is in need of a Decorator')"
   ]
  },
  {
   "cell_type": "code",
   "execution_count": 18,
   "id": "dc3dd85b",
   "metadata": {},
   "outputs": [
    {
     "name": "stdout",
     "output_type": "stream",
     "text": [
      "This function is in need of a Decorator\n"
     ]
    }
   ],
   "source": [
    "func_needs_decorator()"
   ]
  },
  {
   "cell_type": "code",
   "execution_count": 19,
   "id": "44a659b1",
   "metadata": {},
   "outputs": [],
   "source": [
    "\n",
    "func_needs_decorator = new_decorator(func_needs_decorator)"
   ]
  },
  {
   "cell_type": "code",
   "execution_count": 20,
   "id": "05a13ab8",
   "metadata": {},
   "outputs": [
    {
     "name": "stdout",
     "output_type": "stream",
     "text": [
      "Code here, before executin gthe func\n",
      "This function is in need of a Decorator\n",
      "Code here will execute after the func()\n"
     ]
    }
   ],
   "source": [
    "func_needs_decorator()"
   ]
  },
  {
   "cell_type": "code",
   "execution_count": 22,
   "id": "80d54b5a",
   "metadata": {},
   "outputs": [],
   "source": [
    "@new_decorator\n",
    "def another_func_seeking_decorator():\n",
    "    print('This func needs decorator as well')"
   ]
  },
  {
   "cell_type": "code",
   "execution_count": 24,
   "id": "69a1beef",
   "metadata": {},
   "outputs": [
    {
     "name": "stdout",
     "output_type": "stream",
     "text": [
      "Code here, before executin gthe func\n",
      "This func needs decorator as well\n",
      "Code here will execute after the func()\n"
     ]
    }
   ],
   "source": [
    "another_func_seeking_decorator()"
   ]
  },
  {
   "cell_type": "code",
   "execution_count": 25,
   "id": "a1254fcf",
   "metadata": {},
   "outputs": [
    {
     "name": "stdout",
     "output_type": "stream",
     "text": [
      "Code here, before executin gthe func\n",
      "This func needs decorator as well\n",
      "Code here will execute after the func()\n"
     ]
    }
   ],
   "source": [
    "another_func_seeking_decorator()"
   ]
  },
  {
   "cell_type": "code",
   "execution_count": null,
   "id": "ceed3b7a",
   "metadata": {},
   "outputs": [],
   "source": []
  }
 ],
 "metadata": {
  "kernelspec": {
   "display_name": "Python 3 (ipykernel)",
   "language": "python",
   "name": "python3"
  },
  "language_info": {
   "codemirror_mode": {
    "name": "ipython",
    "version": 3
   },
   "file_extension": ".py",
   "mimetype": "text/x-python",
   "name": "python",
   "nbconvert_exporter": "python",
   "pygments_lexer": "ipython3",
   "version": "3.11.5"
  }
 },
 "nbformat": 4,
 "nbformat_minor": 5
}
