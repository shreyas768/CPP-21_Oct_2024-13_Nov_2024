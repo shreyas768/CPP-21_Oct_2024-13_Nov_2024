{
 "cells": [
  {
   "cell_type": "code",
   "execution_count": 3,
   "id": "110ee382",
   "metadata": {},
   "outputs": [],
   "source": [
    "lst = [1,2,3,2,2]"
   ]
  },
  {
   "cell_type": "code",
   "execution_count": 4,
   "id": "48c6aec7",
   "metadata": {},
   "outputs": [
    {
     "data": {
      "text/plain": [
       "3"
      ]
     },
     "execution_count": 4,
     "metadata": {},
     "output_type": "execute_result"
    }
   ],
   "source": [
    "lst.count(2)"
   ]
  },
  {
   "cell_type": "markdown",
   "id": "9bcf9b52",
   "metadata": {},
   "source": [
    "### Objects"
   ]
  },
  {
   "cell_type": "code",
   "execution_count": 5,
   "id": "f1a8eea0",
   "metadata": {},
   "outputs": [
    {
     "data": {
      "text/plain": [
       "dict"
      ]
     },
     "execution_count": 5,
     "metadata": {},
     "output_type": "execute_result"
    }
   ],
   "source": [
    "type({})"
   ]
  },
  {
   "cell_type": "code",
   "execution_count": 7,
   "id": "1a43160c",
   "metadata": {},
   "outputs": [
    {
     "data": {
      "text/plain": [
       "int"
      ]
     },
     "execution_count": 7,
     "metadata": {},
     "output_type": "execute_result"
    }
   ],
   "source": [
    "type(12)"
   ]
  },
  {
   "cell_type": "markdown",
   "id": "c531d705",
   "metadata": {},
   "source": [
    "### Class\n",
    "\n",
    "* class -->> instance (specific python object created from a particular class)\n",
    "\n",
    "* class -->> attributes and methods"
   ]
  },
  {
   "cell_type": "code",
   "execution_count": 8,
   "id": "bcc14353",
   "metadata": {},
   "outputs": [],
   "source": [
    "class DemoClass:\n",
    "    pass"
   ]
  },
  {
   "cell_type": "code",
   "execution_count": 9,
   "id": "f24ae203",
   "metadata": {},
   "outputs": [],
   "source": [
    "#Instance of DemoClass\n",
    "x = DemoClass()"
   ]
  },
  {
   "cell_type": "code",
   "execution_count": 10,
   "id": "46b193cf",
   "metadata": {},
   "outputs": [
    {
     "data": {
      "text/plain": [
       "__main__.DemoClass"
      ]
     },
     "execution_count": 10,
     "metadata": {},
     "output_type": "execute_result"
    }
   ],
   "source": [
    "type(x)"
   ]
  },
  {
   "cell_type": "markdown",
   "id": "748a53f7",
   "metadata": {},
   "source": [
    "### Attributes\n",
    "\n",
    "* characteristic of an object\n",
    "\n",
    "\n",
    "* self.attribute = something\n",
    "\n",
    "* __init__()"
   ]
  },
  {
   "cell_type": "code",
   "execution_count": 14,
   "id": "60596a55",
   "metadata": {},
   "outputs": [],
   "source": [
    "class Dog:\n",
    "    def __init__(self,breed,color):\n",
    "        self.breed = breed\n",
    "        self.color = color"
   ]
  },
  {
   "cell_type": "code",
   "execution_count": 15,
   "id": "020ff773",
   "metadata": {},
   "outputs": [],
   "source": [
    "jackie = Dog(breed='Huskie', color='black')"
   ]
  },
  {
   "cell_type": "code",
   "execution_count": 16,
   "id": "ad6ca3ff",
   "metadata": {},
   "outputs": [
    {
     "data": {
      "text/plain": [
       "'black'"
      ]
     },
     "execution_count": 16,
     "metadata": {},
     "output_type": "execute_result"
    }
   ],
   "source": [
    "jackie.color"
   ]
  },
  {
   "cell_type": "code",
   "execution_count": 17,
   "id": "f53ed5dc",
   "metadata": {},
   "outputs": [
    {
     "data": {
      "text/plain": [
       "__main__.Dog"
      ]
     },
     "execution_count": 17,
     "metadata": {},
     "output_type": "execute_result"
    }
   ],
   "source": [
    "type(jackie)"
   ]
  },
  {
   "cell_type": "code",
   "execution_count": 18,
   "id": "52fb7854",
   "metadata": {},
   "outputs": [],
   "source": [
    "class Human():\n",
    "    species = 'Homosapiens'\n",
    "    \n",
    "    def __init__(self,name,age):\n",
    "        self.name = name\n",
    "        self.age = int(age)"
   ]
  },
  {
   "cell_type": "code",
   "execution_count": 20,
   "id": "fab8e431",
   "metadata": {},
   "outputs": [],
   "source": [
    "harry = Human(name='Harry',age='45')"
   ]
  },
  {
   "cell_type": "code",
   "execution_count": 21,
   "id": "d369091c",
   "metadata": {},
   "outputs": [
    {
     "data": {
      "text/plain": [
       "'Homosapiens'"
      ]
     },
     "execution_count": 21,
     "metadata": {},
     "output_type": "execute_result"
    }
   ],
   "source": [
    "harry.species"
   ]
  },
  {
   "cell_type": "code",
   "execution_count": 22,
   "id": "e0ee3a63",
   "metadata": {},
   "outputs": [
    {
     "data": {
      "text/plain": [
       "'Harry'"
      ]
     },
     "execution_count": 22,
     "metadata": {},
     "output_type": "execute_result"
    }
   ],
   "source": [
    "harry.name"
   ]
  },
  {
   "cell_type": "code",
   "execution_count": 23,
   "id": "bf95bc44",
   "metadata": {},
   "outputs": [
    {
     "data": {
      "text/plain": [
       "45"
      ]
     },
     "execution_count": 23,
     "metadata": {},
     "output_type": "execute_result"
    }
   ],
   "source": [
    "harry.age"
   ]
  },
  {
   "cell_type": "markdown",
   "id": "b5ed7d76",
   "metadata": {},
   "source": [
    "### Methods\n",
    "\n",
    "* Functions inside the body of a class\n",
    "* perform operations with the attributes of our objects"
   ]
  },
  {
   "cell_type": "code",
   "execution_count": 48,
   "id": "89ae7a28",
   "metadata": {},
   "outputs": [],
   "source": [
    "class Circle:\n",
    "    pi = 22/7 #Circle get instantiated with a pi value and default radius as 1\n",
    "    \n",
    "    \n",
    "    #Class Object Attribute\n",
    "    def __init__(self,radius=1):\n",
    "        self.radius = radius\n",
    "        self.area = radius*radius*Circle.pi\n",
    "        \n",
    "    \n",
    "    #Method for resetting the radius\n",
    "    def setRadius(self,new_radius):\n",
    "        self.radius = new_radius\n",
    "        self.area = new_radius*new_radius*Circle.pi  \n",
    "        \n",
    "        #You can also use self.pi instead of Circle.pi in setRadius as you are working with an existing Circle Object\n",
    "        #But in object attribute, it does not yet have its own pi attribute\n",
    "    "
   ]
  },
  {
   "cell_type": "code",
   "execution_count": 39,
   "id": "56b21a9b",
   "metadata": {},
   "outputs": [],
   "source": [
    "c = Circle(radius = 12)"
   ]
  },
  {
   "cell_type": "code",
   "execution_count": 40,
   "id": "001218c7",
   "metadata": {},
   "outputs": [
    {
     "data": {
      "text/plain": [
       "3.142857142857143"
      ]
     },
     "execution_count": 40,
     "metadata": {},
     "output_type": "execute_result"
    }
   ],
   "source": [
    "c.pi"
   ]
  },
  {
   "cell_type": "code",
   "execution_count": 41,
   "id": "af0322ef",
   "metadata": {},
   "outputs": [
    {
     "data": {
      "text/plain": [
       "12"
      ]
     },
     "execution_count": 41,
     "metadata": {},
     "output_type": "execute_result"
    }
   ],
   "source": [
    "c.radius"
   ]
  },
  {
   "cell_type": "code",
   "execution_count": 42,
   "id": "4031ce65",
   "metadata": {},
   "outputs": [
    {
     "data": {
      "text/plain": [
       "452.57142857142856"
      ]
     },
     "execution_count": 42,
     "metadata": {},
     "output_type": "execute_result"
    }
   ],
   "source": [
    "c.area"
   ]
  },
  {
   "cell_type": "code",
   "execution_count": 45,
   "id": "13046af0",
   "metadata": {},
   "outputs": [],
   "source": [
    "c.setRadius(new_radius=20)"
   ]
  },
  {
   "cell_type": "code",
   "execution_count": 46,
   "id": "27d91002",
   "metadata": {},
   "outputs": [
    {
     "data": {
      "text/plain": [
       "20"
      ]
     },
     "execution_count": 46,
     "metadata": {},
     "output_type": "execute_result"
    }
   ],
   "source": [
    "c.radius"
   ]
  },
  {
   "cell_type": "code",
   "execution_count": 47,
   "id": "dfe6b1b6",
   "metadata": {},
   "outputs": [
    {
     "data": {
      "text/plain": [
       "1257.142857142857"
      ]
     },
     "execution_count": 47,
     "metadata": {},
     "output_type": "execute_result"
    }
   ],
   "source": [
    "c.area"
   ]
  },
  {
   "cell_type": "code",
   "execution_count": 49,
   "id": "866d7c68",
   "metadata": {},
   "outputs": [],
   "source": [
    "c2 = Circle()"
   ]
  },
  {
   "cell_type": "code",
   "execution_count": 50,
   "id": "9f13a6d7",
   "metadata": {},
   "outputs": [
    {
     "data": {
      "text/plain": [
       "3.142857142857143"
      ]
     },
     "execution_count": 50,
     "metadata": {},
     "output_type": "execute_result"
    }
   ],
   "source": [
    "c2.pi"
   ]
  },
  {
   "cell_type": "code",
   "execution_count": 51,
   "id": "1bb59dad",
   "metadata": {},
   "outputs": [
    {
     "data": {
      "text/plain": [
       "1"
      ]
     },
     "execution_count": 51,
     "metadata": {},
     "output_type": "execute_result"
    }
   ],
   "source": [
    "c2.radius"
   ]
  },
  {
   "cell_type": "code",
   "execution_count": 52,
   "id": "a724755f",
   "metadata": {},
   "outputs": [
    {
     "data": {
      "text/plain": [
       "3.142857142857143"
      ]
     },
     "execution_count": 52,
     "metadata": {},
     "output_type": "execute_result"
    }
   ],
   "source": [
    "c2.area"
   ]
  },
  {
   "cell_type": "code",
   "execution_count": 53,
   "id": "721a2314",
   "metadata": {},
   "outputs": [],
   "source": [
    "c2.setRadius(new_radius=8)"
   ]
  },
  {
   "cell_type": "code",
   "execution_count": 54,
   "id": "172ee333",
   "metadata": {},
   "outputs": [
    {
     "data": {
      "text/plain": [
       "3.142857142857143"
      ]
     },
     "execution_count": 54,
     "metadata": {},
     "output_type": "execute_result"
    }
   ],
   "source": [
    "c2.pi"
   ]
  },
  {
   "cell_type": "code",
   "execution_count": 55,
   "id": "2c06e122",
   "metadata": {},
   "outputs": [
    {
     "data": {
      "text/plain": [
       "8"
      ]
     },
     "execution_count": 55,
     "metadata": {},
     "output_type": "execute_result"
    }
   ],
   "source": [
    "c2.radius"
   ]
  },
  {
   "cell_type": "code",
   "execution_count": 56,
   "id": "efec58ca",
   "metadata": {},
   "outputs": [
    {
     "data": {
      "text/plain": [
       "201.14285714285714"
      ]
     },
     "execution_count": 56,
     "metadata": {},
     "output_type": "execute_result"
    }
   ],
   "source": [
    "c2.area"
   ]
  },
  {
   "cell_type": "code",
   "execution_count": 57,
   "id": "8b447940",
   "metadata": {},
   "outputs": [],
   "source": [
    "#create a class Lion with an attribute 'name' and a method 'roars' that prints '<name> roars!!'\n",
    "\n",
    "class Lion:\n",
    "    def __init__(self,name):\n",
    "        self.name = name\n",
    "    \n",
    "    def roars(self):\n",
    "        print(f'{self.name} roars!!')"
   ]
  },
  {
   "cell_type": "code",
   "execution_count": 58,
   "id": "cd5ea00a",
   "metadata": {},
   "outputs": [],
   "source": [
    "Lion1 = Lion('Sher')"
   ]
  },
  {
   "cell_type": "code",
   "execution_count": 59,
   "id": "24f9603d",
   "metadata": {},
   "outputs": [
    {
     "name": "stdout",
     "output_type": "stream",
     "text": [
      "Sher roars!!\n"
     ]
    }
   ],
   "source": [
    "Lion1.roars()"
   ]
  },
  {
   "cell_type": "code",
   "execution_count": 60,
   "id": "911d9e7a",
   "metadata": {},
   "outputs": [],
   "source": [
    "#Create a class Rectangle with attributes: Length and Width and a method area that returns the area of the rectangle\n",
    "\n",
    "class Rectangle:\n",
    "    def __init__(self,length,width):\n",
    "        self.length = length\n",
    "        self.width = width\n",
    "        \n",
    "    def area(self):\n",
    "        return self.length * self.width"
   ]
  },
  {
   "cell_type": "code",
   "execution_count": 62,
   "id": "5d10961a",
   "metadata": {},
   "outputs": [],
   "source": [
    "rect = Rectangle(width=10,length=12)"
   ]
  },
  {
   "cell_type": "code",
   "execution_count": 67,
   "id": "f3449332",
   "metadata": {},
   "outputs": [
    {
     "data": {
      "text/plain": [
       "120"
      ]
     },
     "execution_count": 67,
     "metadata": {},
     "output_type": "execute_result"
    }
   ],
   "source": [
    "rect.area()"
   ]
  },
  {
   "cell_type": "code",
   "execution_count": 64,
   "id": "8b498a9e",
   "metadata": {},
   "outputs": [
    {
     "data": {
      "text/plain": [
       "12"
      ]
     },
     "execution_count": 64,
     "metadata": {},
     "output_type": "execute_result"
    }
   ],
   "source": [
    "rect.length"
   ]
  },
  {
   "cell_type": "code",
   "execution_count": 65,
   "id": "196433a2",
   "metadata": {},
   "outputs": [
    {
     "data": {
      "text/plain": [
       "10"
      ]
     },
     "execution_count": 65,
     "metadata": {},
     "output_type": "execute_result"
    }
   ],
   "source": [
    "rect.width"
   ]
  },
  {
   "cell_type": "code",
   "execution_count": 74,
   "id": "2c8caf64",
   "metadata": {},
   "outputs": [],
   "source": [
    "rect1 = Rectangle(13,17)"
   ]
  },
  {
   "cell_type": "code",
   "execution_count": 75,
   "id": "5c7a7e9e",
   "metadata": {},
   "outputs": [
    {
     "data": {
      "text/plain": [
       "13"
      ]
     },
     "execution_count": 75,
     "metadata": {},
     "output_type": "execute_result"
    }
   ],
   "source": [
    "rect1.length"
   ]
  },
  {
   "cell_type": "code",
   "execution_count": 76,
   "id": "7a81c9ed",
   "metadata": {},
   "outputs": [
    {
     "data": {
      "text/plain": [
       "17"
      ]
     },
     "execution_count": 76,
     "metadata": {},
     "output_type": "execute_result"
    }
   ],
   "source": [
    "rect1.width"
   ]
  },
  {
   "cell_type": "code",
   "execution_count": 77,
   "id": "2e6c399e",
   "metadata": {},
   "outputs": [
    {
     "data": {
      "text/plain": [
       "221"
      ]
     },
     "execution_count": 77,
     "metadata": {},
     "output_type": "execute_result"
    }
   ],
   "source": [
    "rect1.area()"
   ]
  },
  {
   "cell_type": "code",
   "execution_count": 69,
   "id": "c9de8a69",
   "metadata": {},
   "outputs": [],
   "source": [
    "#Create a class 'Person' with an attribute 'name' and a method 'introduce' that prints \"Hello, My name is Shreyas\"\n",
    "\n",
    "class Person:\n",
    "    def __init__(self,name):\n",
    "        self.name = name\n",
    "        \n",
    "    def introduce(self):\n",
    "        print(f\"Hello,My name is {self.name}\")\n",
    "        "
   ]
  },
  {
   "cell_type": "code",
   "execution_count": 70,
   "id": "23efd9a0",
   "metadata": {},
   "outputs": [],
   "source": [
    "p1 = Person('Shreyas')"
   ]
  },
  {
   "cell_type": "code",
   "execution_count": 71,
   "id": "2585fa3d",
   "metadata": {},
   "outputs": [
    {
     "data": {
      "text/plain": [
       "'Shreyas'"
      ]
     },
     "execution_count": 71,
     "metadata": {},
     "output_type": "execute_result"
    }
   ],
   "source": [
    "p1.name"
   ]
  },
  {
   "cell_type": "code",
   "execution_count": 73,
   "id": "63972667",
   "metadata": {},
   "outputs": [
    {
     "name": "stdout",
     "output_type": "stream",
     "text": [
      "Hello,My name is Shreyas\n"
     ]
    }
   ],
   "source": [
    "p1.introduce()"
   ]
  },
  {
   "cell_type": "code",
   "execution_count": 84,
   "id": "ac2e3f03",
   "metadata": {},
   "outputs": [],
   "source": [
    "#Class 'Counter' with attribute 'count' starting at 0. Add a method 'increment' that increases the count by 1, and \n",
    "#another method 'get_count' that returns the current count multiplied by 6\n",
    "\n",
    "class Counter:\n",
    "    def __init__(self):\n",
    "        self.count = 0\n",
    "        \n",
    "    def increment(self):\n",
    "        self.count = self.count + 1\n",
    "    \n",
    "    def get_count(self):\n",
    "        return self.count * 6"
   ]
  },
  {
   "cell_type": "code",
   "execution_count": 85,
   "id": "9a757438",
   "metadata": {},
   "outputs": [],
   "source": [
    "counter = Counter()"
   ]
  },
  {
   "cell_type": "code",
   "execution_count": 86,
   "id": "f73606e2",
   "metadata": {},
   "outputs": [
    {
     "data": {
      "text/plain": [
       "__main__.Counter"
      ]
     },
     "execution_count": 86,
     "metadata": {},
     "output_type": "execute_result"
    }
   ],
   "source": [
    "type(counter)"
   ]
  },
  {
   "cell_type": "code",
   "execution_count": 96,
   "id": "9e041e31",
   "metadata": {},
   "outputs": [],
   "source": [
    "counter.increment()"
   ]
  },
  {
   "cell_type": "code",
   "execution_count": 97,
   "id": "f04f95dc",
   "metadata": {},
   "outputs": [
    {
     "data": {
      "text/plain": [
       "24"
      ]
     },
     "execution_count": 97,
     "metadata": {},
     "output_type": "execute_result"
    }
   ],
   "source": [
    "counter.get_count()"
   ]
  },
  {
   "cell_type": "code",
   "execution_count": 98,
   "id": "a57f0130",
   "metadata": {},
   "outputs": [
    {
     "data": {
      "text/plain": [
       "4"
      ]
     },
     "execution_count": 98,
     "metadata": {},
     "output_type": "execute_result"
    }
   ],
   "source": [
    "counter.count"
   ]
  },
  {
   "cell_type": "code",
   "execution_count": 99,
   "id": "e86194c8",
   "metadata": {},
   "outputs": [],
   "source": [
    "# Class 'Line' that accepts coordinates as a pair of tuples and return the slope and distance of the line.\n",
    "\n",
    "class Line:\n",
    "    def __init__(self,coor1,coor2):\n",
    "        self.coor1 = coor1\n",
    "        self.coor2 = coor2\n",
    "        \n",
    "    def distance(self):\n",
    "        x1,y1 = self.coor1\n",
    "        x2,y2 = self.coor2\n",
    "        return ((x2-x1)**2+(y2-y1)**2)**0.5\n",
    "    \n",
    "    def slope(self):\n",
    "        x1,y1 = self.coor1\n",
    "        x2,y2 = self.coor2\n",
    "        return (y2-y1)/(x2-x1) "
   ]
  },
  {
   "cell_type": "code",
   "execution_count": 100,
   "id": "a0dcfb9d",
   "metadata": {},
   "outputs": [],
   "source": [
    "coordinate1 = (3,4)\n",
    "coordinate2 = (8,9)\n",
    "\n",
    "li = Line(coordinate1,coordinate2)"
   ]
  },
  {
   "cell_type": "code",
   "execution_count": 101,
   "id": "a21bb188",
   "metadata": {},
   "outputs": [
    {
     "data": {
      "text/plain": [
       "(3, 4)"
      ]
     },
     "execution_count": 101,
     "metadata": {},
     "output_type": "execute_result"
    }
   ],
   "source": [
    "li.coor1"
   ]
  },
  {
   "cell_type": "code",
   "execution_count": 102,
   "id": "c824cded",
   "metadata": {},
   "outputs": [
    {
     "data": {
      "text/plain": [
       "(8, 9)"
      ]
     },
     "execution_count": 102,
     "metadata": {},
     "output_type": "execute_result"
    }
   ],
   "source": [
    "li.coor2"
   ]
  },
  {
   "cell_type": "code",
   "execution_count": 103,
   "id": "e263352f",
   "metadata": {},
   "outputs": [
    {
     "data": {
      "text/plain": [
       "7.0710678118654755"
      ]
     },
     "execution_count": 103,
     "metadata": {},
     "output_type": "execute_result"
    }
   ],
   "source": [
    "li.distance()"
   ]
  },
  {
   "cell_type": "code",
   "execution_count": 104,
   "id": "bd510e25",
   "metadata": {},
   "outputs": [
    {
     "data": {
      "text/plain": [
       "1.0"
      ]
     },
     "execution_count": 104,
     "metadata": {},
     "output_type": "execute_result"
    }
   ],
   "source": [
    "li.slope()"
   ]
  },
  {
   "cell_type": "markdown",
   "id": "fbd34bc4",
   "metadata": {},
   "source": [
    "Create a class 'Employee' with name, position and salary attributes. Define a method give_raise that increases the salary by a specific percentage"
   ]
  },
  {
   "cell_type": "code",
   "execution_count": 105,
   "id": "44915054",
   "metadata": {},
   "outputs": [],
   "source": [
    "class Employee:\n",
    "    def __init__(self,name,position,salary):\n",
    "        self.name = name\n",
    "        self.position = position\n",
    "        self.salary = salary\n",
    "    \n",
    "    def give_raise(self,percentage):\n",
    "        self.salary = self.salary + (self.salary*percentage/100)"
   ]
  },
  {
   "cell_type": "code",
   "execution_count": 106,
   "id": "89801ee9",
   "metadata": {},
   "outputs": [],
   "source": [
    "employee1 = Employee('David','ML Engineer',50000)"
   ]
  },
  {
   "cell_type": "code",
   "execution_count": 107,
   "id": "af5d63db",
   "metadata": {},
   "outputs": [
    {
     "data": {
      "text/plain": [
       "'David'"
      ]
     },
     "execution_count": 107,
     "metadata": {},
     "output_type": "execute_result"
    }
   ],
   "source": [
    "employee1.name"
   ]
  },
  {
   "cell_type": "code",
   "execution_count": 108,
   "id": "1ec5e6c8",
   "metadata": {},
   "outputs": [
    {
     "data": {
      "text/plain": [
       "50000"
      ]
     },
     "execution_count": 108,
     "metadata": {},
     "output_type": "execute_result"
    }
   ],
   "source": [
    "employee1.salary"
   ]
  },
  {
   "cell_type": "code",
   "execution_count": 111,
   "id": "c6b30057",
   "metadata": {},
   "outputs": [],
   "source": [
    "employee1.give_raise(5)"
   ]
  },
  {
   "cell_type": "code",
   "execution_count": 112,
   "id": "c8a338c3",
   "metadata": {},
   "outputs": [
    {
     "data": {
      "text/plain": [
       "55125.0"
      ]
     },
     "execution_count": 112,
     "metadata": {},
     "output_type": "execute_result"
    }
   ],
   "source": [
    "employee1.salary"
   ]
  },
  {
   "cell_type": "markdown",
   "id": "0c51b1d5",
   "metadata": {},
   "source": [
    "Write a class 'BankAccount' that has balance as an attribute and methods: deposits, withdraw"
   ]
  },
  {
   "cell_type": "code",
   "execution_count": 116,
   "id": "b52c0181",
   "metadata": {},
   "outputs": [],
   "source": [
    "class BankAccount:\n",
    "    \n",
    "    def __init__(self):\n",
    "        self.balance = 10\n",
    "        \n",
    "    def deposit(self,amount):\n",
    "        self.balance += amount\n",
    "    \n",
    "    def withdraw(self,amount):\n",
    "        if amount <= self.balance:\n",
    "            self.balance -= amount\n",
    "        else:\n",
    "            print('Insufficient funds in your account')"
   ]
  },
  {
   "cell_type": "code",
   "execution_count": 117,
   "id": "4e59e677",
   "metadata": {},
   "outputs": [],
   "source": [
    "acc = BankAccount()"
   ]
  },
  {
   "cell_type": "code",
   "execution_count": 118,
   "id": "34932bfc",
   "metadata": {},
   "outputs": [
    {
     "data": {
      "text/plain": [
       "10"
      ]
     },
     "execution_count": 118,
     "metadata": {},
     "output_type": "execute_result"
    }
   ],
   "source": [
    "acc.balance"
   ]
  },
  {
   "cell_type": "code",
   "execution_count": 119,
   "id": "0f39a636",
   "metadata": {},
   "outputs": [],
   "source": [
    "acc.deposit(100)"
   ]
  },
  {
   "cell_type": "code",
   "execution_count": 120,
   "id": "f352fce2",
   "metadata": {},
   "outputs": [
    {
     "data": {
      "text/plain": [
       "110"
      ]
     },
     "execution_count": 120,
     "metadata": {},
     "output_type": "execute_result"
    }
   ],
   "source": [
    "acc.balance"
   ]
  },
  {
   "cell_type": "code",
   "execution_count": 121,
   "id": "56c9527c",
   "metadata": {},
   "outputs": [
    {
     "name": "stdout",
     "output_type": "stream",
     "text": [
      "Insufficient funds in your account\n"
     ]
    }
   ],
   "source": [
    "acc.withdraw(150)"
   ]
  },
  {
   "cell_type": "code",
   "execution_count": 122,
   "id": "e540d654",
   "metadata": {},
   "outputs": [],
   "source": [
    "acc.withdraw(100)"
   ]
  },
  {
   "cell_type": "code",
   "execution_count": 123,
   "id": "be1ba74c",
   "metadata": {},
   "outputs": [
    {
     "data": {
      "text/plain": [
       "10"
      ]
     },
     "execution_count": 123,
     "metadata": {},
     "output_type": "execute_result"
    }
   ],
   "source": [
    "acc.balance"
   ]
  },
  {
   "cell_type": "code",
   "execution_count": null,
   "id": "16df78c4",
   "metadata": {},
   "outputs": [],
   "source": []
  }
 ],
 "metadata": {
  "kernelspec": {
   "display_name": "Python 3 (ipykernel)",
   "language": "python",
   "name": "python3"
  },
  "language_info": {
   "codemirror_mode": {
    "name": "ipython",
    "version": 3
   },
   "file_extension": ".py",
   "mimetype": "text/x-python",
   "name": "python",
   "nbconvert_exporter": "python",
   "pygments_lexer": "ipython3",
   "version": "3.11.5"
  }
 },
 "nbformat": 4,
 "nbformat_minor": 5
}
