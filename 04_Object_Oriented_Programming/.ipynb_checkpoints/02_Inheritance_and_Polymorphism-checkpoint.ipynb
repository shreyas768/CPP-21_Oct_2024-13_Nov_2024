{
 "cells": [
  {
   "cell_type": "markdown",
   "id": "915e7f8b",
   "metadata": {},
   "source": [
    "* Inheritance: a class acquiring properties and methods of another class\n",
    "* Base Class (or Parent class) : The class being inherited from\n",
    "* Derived Class (or Child Class) : The class that inherits from the base class\n",
    "\n",
    "class ParentClass:\n",
    " -- Parent class methods and attributes\n",
    " \n",
    "class ChildClass(ParentClass):\n",
    "-- CHild class inheriting parent class"
   ]
  },
  {
   "cell_type": "code",
   "execution_count": 8,
   "id": "a5573e5a",
   "metadata": {},
   "outputs": [],
   "source": [
    "class Animal:\n",
    "    def sound(self):\n",
    "        return 'Some sound'\n",
    "    \n",
    "class Dog(Animal): #Dog class inherits from Animal\n",
    "    def bark(self):\n",
    "        return 'Woof!!'"
   ]
  },
  {
   "cell_type": "code",
   "execution_count": 6,
   "id": "eb2f5e29",
   "metadata": {},
   "outputs": [
    {
     "data": {
      "text/plain": [
       "'Some sound'"
      ]
     },
     "execution_count": 6,
     "metadata": {},
     "output_type": "execute_result"
    }
   ],
   "source": [
    "ani = Animal()\n",
    "ani.sound()"
   ]
  },
  {
   "cell_type": "code",
   "execution_count": 7,
   "id": "b5b7879e",
   "metadata": {},
   "outputs": [
    {
     "data": {
      "text/plain": [
       "'Some sound'"
      ]
     },
     "execution_count": 7,
     "metadata": {},
     "output_type": "execute_result"
    }
   ],
   "source": [
    "dog = Dog()\n",
    "\n",
    "dog.sound()"
   ]
  },
  {
   "cell_type": "code",
   "execution_count": 9,
   "id": "5aa1cf47",
   "metadata": {},
   "outputs": [
    {
     "data": {
      "text/plain": [
       "'Woof!!'"
      ]
     },
     "execution_count": 9,
     "metadata": {},
     "output_type": "execute_result"
    }
   ],
   "source": [
    "dog.bark()"
   ]
  },
  {
   "cell_type": "code",
   "execution_count": 10,
   "id": "8f516e93",
   "metadata": {},
   "outputs": [
    {
     "ename": "AttributeError",
     "evalue": "'Animal' object has no attribute 'bark'",
     "output_type": "error",
     "traceback": [
      "\u001b[0;31m---------------------------------------------------------------------------\u001b[0m",
      "\u001b[0;31mAttributeError\u001b[0m                            Traceback (most recent call last)",
      "Cell \u001b[0;32mIn[10], line 1\u001b[0m\n\u001b[0;32m----> 1\u001b[0m ani\u001b[38;5;241m.\u001b[39mbark()\n",
      "\u001b[0;31mAttributeError\u001b[0m: 'Animal' object has no attribute 'bark'"
     ]
    }
   ],
   "source": [
    "ani.bark()"
   ]
  },
  {
   "cell_type": "markdown",
   "id": "4e5c3f6d",
   "metadata": {},
   "source": [
    "### Super()\n",
    "\n",
    "* allows to call a methods from the parent class inside a child class"
   ]
  },
  {
   "cell_type": "code",
   "execution_count": 19,
   "id": "04880029",
   "metadata": {},
   "outputs": [],
   "source": [
    "class Human:\n",
    "    def __init__(self,name):\n",
    "        self.name = name\n",
    "        self.age = age"
   ]
  },
  {
   "cell_type": "code",
   "execution_count": 12,
   "id": "e626b90b",
   "metadata": {},
   "outputs": [],
   "source": [
    "class Employee(Human):\n",
    "    def __init__(self,name,employee_id):\n",
    "        super().__init__(name)  #call the __init__ of Human\n",
    "        self.employee_id = employee_id"
   ]
  },
  {
   "cell_type": "code",
   "execution_count": 14,
   "id": "fc1afec8",
   "metadata": {},
   "outputs": [],
   "source": [
    "sh = Human('Shreyas')"
   ]
  },
  {
   "cell_type": "code",
   "execution_count": 15,
   "id": "30b9338a",
   "metadata": {},
   "outputs": [
    {
     "data": {
      "text/plain": [
       "'Shreyas'"
      ]
     },
     "execution_count": 15,
     "metadata": {},
     "output_type": "execute_result"
    }
   ],
   "source": [
    "sh.name"
   ]
  },
  {
   "cell_type": "code",
   "execution_count": 17,
   "id": "5529a5d4",
   "metadata": {},
   "outputs": [],
   "source": [
    "ra = Employee(name = 'Rahul',employee_id=101)"
   ]
  },
  {
   "cell_type": "code",
   "execution_count": 18,
   "id": "b24ddbf9",
   "metadata": {},
   "outputs": [
    {
     "data": {
      "text/plain": [
       "'Rahul'"
      ]
     },
     "execution_count": 18,
     "metadata": {},
     "output_type": "execute_result"
    }
   ],
   "source": [
    "ra.name"
   ]
  },
  {
   "cell_type": "code",
   "execution_count": 40,
   "id": "acc4bcca",
   "metadata": {},
   "outputs": [],
   "source": [
    "class Species:\n",
    "    def __init__(self):\n",
    "        print('Species created !!')\n",
    "        \n",
    "    def whatspecies(self):\n",
    "        print('Ant')\n",
    "    def eat(self):\n",
    "        print('eating')\n",
    "        \n",
    "class Cat(Species):\n",
    "    def __init__(self):\n",
    "        Species.__init__(self)\n",
    "        print('Cat created')\n",
    "    \n",
    "    def whatspecies(self):\n",
    "        print('Cat')\n",
    "        \n",
    "    def sound(self):\n",
    "        print('Meow!!')"
   ]
  },
  {
   "cell_type": "code",
   "execution_count": 41,
   "id": "55f0e8c1",
   "metadata": {},
   "outputs": [
    {
     "name": "stdout",
     "output_type": "stream",
     "text": [
      "Species created !!\n",
      "Cat created\n"
     ]
    }
   ],
   "source": [
    "c = Cat()"
   ]
  },
  {
   "cell_type": "code",
   "execution_count": 42,
   "id": "f64f325d",
   "metadata": {},
   "outputs": [
    {
     "name": "stdout",
     "output_type": "stream",
     "text": [
      "eating\n"
     ]
    }
   ],
   "source": [
    "c.eat()"
   ]
  },
  {
   "cell_type": "code",
   "execution_count": 43,
   "id": "7931bc37",
   "metadata": {},
   "outputs": [
    {
     "name": "stdout",
     "output_type": "stream",
     "text": [
      "Cat\n"
     ]
    }
   ],
   "source": [
    "c.whatspecies()"
   ]
  },
  {
   "cell_type": "code",
   "execution_count": 44,
   "id": "b802a621",
   "metadata": {},
   "outputs": [
    {
     "name": "stdout",
     "output_type": "stream",
     "text": [
      "Meow!!\n"
     ]
    }
   ],
   "source": [
    "c.sound()"
   ]
  },
  {
   "cell_type": "markdown",
   "id": "931daf99",
   "metadata": {},
   "source": [
    "Create a base class Vehicle with 'fuel_efficiency' method. Derived classes: Car(fc,distance) and Bike (considering a multiplier of 1.4) that overrides the fuel_efficiency method"
   ]
  },
  {
   "cell_type": "code",
   "execution_count": 58,
   "id": "943267de",
   "metadata": {},
   "outputs": [],
   "source": [
    "class Vehicle:\n",
    "    def fuel_efficiency(self):\n",
    "        print('Which Vehicle are you talking about?')\n",
    "    def emission_norms(self):\n",
    "        print('All vehicles in India are BS-6 compliant')\n",
    "        \n",
    "class Car(Vehicle):\n",
    "    def __init__(self,fuel_consumed,distance):\n",
    "        self.fuel_consumed = fuel_consumed\n",
    "        self.distance = distance\n",
    "    \n",
    "    def fuel_efficiency(self):\n",
    "        return self.distance/self.fuel_consumed\n",
    "    \n",
    "class Bike(Vehicle):\n",
    "    def __init__(self,fuel_consumed,distance):\n",
    "        self.fuel_consumed = fuel_consumed\n",
    "        self.distance = distance\n",
    "    \n",
    "    def fuel_efficiency(self):\n",
    "        return 1.4*self.distance/self.fuel_consumed"
   ]
  },
  {
   "cell_type": "code",
   "execution_count": 59,
   "id": "7e9e608c",
   "metadata": {},
   "outputs": [],
   "source": [
    "v = Vehicle()"
   ]
  },
  {
   "cell_type": "code",
   "execution_count": 60,
   "id": "1afcb2d9",
   "metadata": {},
   "outputs": [
    {
     "name": "stdout",
     "output_type": "stream",
     "text": [
      "Which Vehicle are you talking about?\n"
     ]
    }
   ],
   "source": [
    "v.fuel_efficiency()"
   ]
  },
  {
   "cell_type": "code",
   "execution_count": 61,
   "id": "d40431e4",
   "metadata": {},
   "outputs": [],
   "source": [
    "c = Car(fuel_consumed=16,distance=300)"
   ]
  },
  {
   "cell_type": "code",
   "execution_count": 62,
   "id": "73b50772",
   "metadata": {},
   "outputs": [
    {
     "data": {
      "text/plain": [
       "16"
      ]
     },
     "execution_count": 62,
     "metadata": {},
     "output_type": "execute_result"
    }
   ],
   "source": [
    "c.fuel_consumed"
   ]
  },
  {
   "cell_type": "code",
   "execution_count": 63,
   "id": "fcb4efdb",
   "metadata": {},
   "outputs": [
    {
     "data": {
      "text/plain": [
       "300"
      ]
     },
     "execution_count": 63,
     "metadata": {},
     "output_type": "execute_result"
    }
   ],
   "source": [
    "c.distance"
   ]
  },
  {
   "cell_type": "code",
   "execution_count": 64,
   "id": "088bd0f7",
   "metadata": {},
   "outputs": [
    {
     "data": {
      "text/plain": [
       "18.75"
      ]
     },
     "execution_count": 64,
     "metadata": {},
     "output_type": "execute_result"
    }
   ],
   "source": [
    "c.fuel_efficiency()"
   ]
  },
  {
   "cell_type": "code",
   "execution_count": 65,
   "id": "d6453ba4",
   "metadata": {},
   "outputs": [
    {
     "name": "stdout",
     "output_type": "stream",
     "text": [
      "All vehicles in India are BS-6 compliant\n"
     ]
    }
   ],
   "source": [
    "c.emission_norms()"
   ]
  },
  {
   "cell_type": "code",
   "execution_count": 66,
   "id": "0d589f61",
   "metadata": {},
   "outputs": [],
   "source": [
    "b = Bike(fuel_consumed=10,distance=60)"
   ]
  },
  {
   "cell_type": "code",
   "execution_count": 67,
   "id": "620519ca",
   "metadata": {},
   "outputs": [
    {
     "data": {
      "text/plain": [
       "10"
      ]
     },
     "execution_count": 67,
     "metadata": {},
     "output_type": "execute_result"
    }
   ],
   "source": [
    "b.fuel_consumed"
   ]
  },
  {
   "cell_type": "code",
   "execution_count": 68,
   "id": "782f748b",
   "metadata": {},
   "outputs": [
    {
     "data": {
      "text/plain": [
       "60"
      ]
     },
     "execution_count": 68,
     "metadata": {},
     "output_type": "execute_result"
    }
   ],
   "source": [
    "b.distance"
   ]
  },
  {
   "cell_type": "code",
   "execution_count": 69,
   "id": "f79a47f3",
   "metadata": {},
   "outputs": [
    {
     "data": {
      "text/plain": [
       "8.4"
      ]
     },
     "execution_count": 69,
     "metadata": {},
     "output_type": "execute_result"
    }
   ],
   "source": [
    "b.fuel_efficiency()"
   ]
  },
  {
   "cell_type": "code",
   "execution_count": 70,
   "id": "2b1a78dd",
   "metadata": {},
   "outputs": [
    {
     "name": "stdout",
     "output_type": "stream",
     "text": [
      "All vehicles in India are BS-6 compliant\n"
     ]
    }
   ],
   "source": [
    "b.emission_norms()"
   ]
  },
  {
   "cell_type": "markdown",
   "id": "1a204101",
   "metadata": {},
   "source": [
    "### Polymorphism\n",
    "\n",
    "objects of different classes to be treated as objects of a common superclass"
   ]
  },
  {
   "cell_type": "code",
   "execution_count": 71,
   "id": "b7bb9055",
   "metadata": {},
   "outputs": [],
   "source": [
    "class Dog:\n",
    "    def __init__(self,name):\n",
    "        self.name = name\n",
    "    \n",
    "    def speak(self):\n",
    "        return self.name + ' says woof!!'"
   ]
  },
  {
   "cell_type": "code",
   "execution_count": 72,
   "id": "b1ea0bea",
   "metadata": {},
   "outputs": [],
   "source": [
    "tuffy = Dog('Tuffy')"
   ]
  },
  {
   "cell_type": "code",
   "execution_count": 73,
   "id": "2fd9b598",
   "metadata": {},
   "outputs": [
    {
     "data": {
      "text/plain": [
       "'Tuffy says woof!!'"
      ]
     },
     "execution_count": 73,
     "metadata": {},
     "output_type": "execute_result"
    }
   ],
   "source": [
    "tuffy.speak()"
   ]
  },
  {
   "cell_type": "code",
   "execution_count": 74,
   "id": "3e5457aa",
   "metadata": {},
   "outputs": [],
   "source": [
    "class Cat:\n",
    "    def __init__(self,name):\n",
    "        self.name = name\n",
    "    \n",
    "    def speak(self):\n",
    "        return self.name + ' says meow!!'"
   ]
  },
  {
   "cell_type": "code",
   "execution_count": 75,
   "id": "7336709b",
   "metadata": {},
   "outputs": [],
   "source": [
    "niky = Cat('Niky')"
   ]
  },
  {
   "cell_type": "code",
   "execution_count": 76,
   "id": "5db03777",
   "metadata": {},
   "outputs": [
    {
     "data": {
      "text/plain": [
       "'Niky says meow!!'"
      ]
     },
     "execution_count": 76,
     "metadata": {},
     "output_type": "execute_result"
    }
   ],
   "source": [
    "niky.speak()"
   ]
  },
  {
   "cell_type": "code",
   "execution_count": 77,
   "id": "db1127df",
   "metadata": {},
   "outputs": [
    {
     "name": "stdout",
     "output_type": "stream",
     "text": [
      "Tuffy says woof!!\n",
      "Niky says meow!!\n"
     ]
    }
   ],
   "source": [
    "for pet in [tuffy,niky]:\n",
    "    print(pet.speak())"
   ]
  },
  {
   "cell_type": "code",
   "execution_count": 78,
   "id": "d8121183",
   "metadata": {},
   "outputs": [],
   "source": [
    "def pet_speak(pet):\n",
    "    print(pet.speak())"
   ]
  },
  {
   "cell_type": "code",
   "execution_count": 79,
   "id": "871809bd",
   "metadata": {},
   "outputs": [
    {
     "name": "stdout",
     "output_type": "stream",
     "text": [
      "Niky says meow!!\n"
     ]
    }
   ],
   "source": [
    "pet_speak(niky)"
   ]
  },
  {
   "cell_type": "code",
   "execution_count": 80,
   "id": "2298118a",
   "metadata": {},
   "outputs": [
    {
     "name": "stdout",
     "output_type": "stream",
     "text": [
      "Tuffy says woof!!\n"
     ]
    }
   ],
   "source": [
    "pet_speak(tuffy)"
   ]
  },
  {
   "cell_type": "code",
   "execution_count": 81,
   "id": "22bf7c78",
   "metadata": {},
   "outputs": [],
   "source": [
    "class Animal:\n",
    "    def __init__(self,name): #constructor of the class\n",
    "        self.name = name  #Abstract method\n",
    "        \n",
    "    def speak(self):\n",
    "        raise NotImplementedError('Only subclass should implement abstract method')\n",
    "        \n",
    "class Dog(Animal):\n",
    "    \n",
    "    def speak(self):\n",
    "        return self.name + ' says Woof !!'\n",
    "    \n",
    "class Cat(Animal):\n",
    "    def speak(self):\n",
    "        return self.name + ' says Meow !!'\n",
    "    "
   ]
  },
  {
   "cell_type": "code",
   "execution_count": 82,
   "id": "2948d347",
   "metadata": {},
   "outputs": [],
   "source": [
    "Jackie = Dog('JACKIE')"
   ]
  },
  {
   "cell_type": "code",
   "execution_count": 83,
   "id": "7e1df53c",
   "metadata": {},
   "outputs": [
    {
     "data": {
      "text/plain": [
       "'JACKIE says Woof !!'"
      ]
     },
     "execution_count": 83,
     "metadata": {},
     "output_type": "execute_result"
    }
   ],
   "source": [
    "Jackie.speak()"
   ]
  },
  {
   "cell_type": "code",
   "execution_count": 84,
   "id": "e70edc8d",
   "metadata": {},
   "outputs": [
    {
     "data": {
      "text/plain": [
       "'ISHI says Meow !!'"
      ]
     },
     "execution_count": 84,
     "metadata": {},
     "output_type": "execute_result"
    }
   ],
   "source": [
    "ishi = Cat('ISHI')\n",
    "ishi.speak()"
   ]
  },
  {
   "cell_type": "code",
   "execution_count": 85,
   "id": "d79a255e",
   "metadata": {},
   "outputs": [],
   "source": [
    "ani = Animal('some_random_animal')"
   ]
  },
  {
   "cell_type": "code",
   "execution_count": 86,
   "id": "b93eaa10",
   "metadata": {},
   "outputs": [
    {
     "data": {
      "text/plain": [
       "'some_random_animal'"
      ]
     },
     "execution_count": 86,
     "metadata": {},
     "output_type": "execute_result"
    }
   ],
   "source": [
    "ani.name"
   ]
  },
  {
   "cell_type": "code",
   "execution_count": 87,
   "id": "6d92d042",
   "metadata": {},
   "outputs": [
    {
     "ename": "NotImplementedError",
     "evalue": "Only subclass should implement abstract method",
     "output_type": "error",
     "traceback": [
      "\u001b[0;31m---------------------------------------------------------------------------\u001b[0m",
      "\u001b[0;31mNotImplementedError\u001b[0m                       Traceback (most recent call last)",
      "Cell \u001b[0;32mIn[87], line 1\u001b[0m\n\u001b[0;32m----> 1\u001b[0m ani\u001b[38;5;241m.\u001b[39mspeak()\n",
      "Cell \u001b[0;32mIn[81], line 6\u001b[0m, in \u001b[0;36mAnimal.speak\u001b[0;34m(self)\u001b[0m\n\u001b[1;32m      5\u001b[0m \u001b[38;5;28;01mdef\u001b[39;00m \u001b[38;5;21mspeak\u001b[39m(\u001b[38;5;28mself\u001b[39m):\n\u001b[0;32m----> 6\u001b[0m     \u001b[38;5;28;01mraise\u001b[39;00m \u001b[38;5;167;01mNotImplementedError\u001b[39;00m(\u001b[38;5;124m'\u001b[39m\u001b[38;5;124mOnly subclass should implement abstract method\u001b[39m\u001b[38;5;124m'\u001b[39m)\n",
      "\u001b[0;31mNotImplementedError\u001b[0m: Only subclass should implement abstract method"
     ]
    }
   ],
   "source": [
    "ani.speak()"
   ]
  },
  {
   "cell_type": "code",
   "execution_count": 94,
   "id": "4d427475",
   "metadata": {},
   "outputs": [],
   "source": [
    "class Shape:\n",
    "    def area(self):\n",
    "        raise NotImplementedError('Please mention the area in subclass')\n",
    "        \n",
    "class Rectangle(Shape):\n",
    "    def __init__(self,width,height):\n",
    "        self.width = width\n",
    "        self.height = height\n",
    "        \n",
    "    def area(self):\n",
    "        return self.width*self.height\n",
    "\n",
    "class Circle(Shape):\n",
    "    def __init__(self,radius):\n",
    "        self.radius = radius\n",
    "    def area(self):\n",
    "        return (22/7)*(self.radius ** 2)\n",
    "    "
   ]
  },
  {
   "cell_type": "code",
   "execution_count": 95,
   "id": "e12b2863",
   "metadata": {},
   "outputs": [
    {
     "name": "stdout",
     "output_type": "stream",
     "text": [
      "12\n",
      "78.57142857142857\n"
     ]
    }
   ],
   "source": [
    "shapes = [Rectangle(3,4),Circle(5)]\n",
    "\n",
    "for s in shapes:\n",
    "    print(s.area())"
   ]
  },
  {
   "cell_type": "markdown",
   "id": "01b34c68",
   "metadata": {},
   "source": [
    "BankAccount class with methods deposits(amount) and withdraw(amount). Then, create a SavingsAccount subclass that inherits from BankAccount and adds an interest rate attribute and a method apply_interest() that increases the balance by some IR. \n",
    " \n",
    "SavingsAccount inherits and uses the deposit and withdraw methods from BankAccount class and applies interest."
   ]
  },
  {
   "cell_type": "code",
   "execution_count": 159,
   "id": "a38d7657",
   "metadata": {},
   "outputs": [],
   "source": [
    "class BankAccount:\n",
    "    def __init__(self,balance=0):\n",
    "        self.balance = balance\n",
    "    \n",
    "    def deposit(self,amount):\n",
    "        self.balance += amount\n",
    "        return self.balance\n",
    "    \n",
    "    def withdraw(self,amount):\n",
    "        if amount <= self.balance:\n",
    "            self.balance -= amount\n",
    "            return self.balance\n",
    "        else:\n",
    "            return 'Insufficient Funds'\n"
   ]
  },
  {
   "cell_type": "code",
   "execution_count": null,
   "id": "ea9ae616",
   "metadata": {},
   "outputs": [],
   "source": []
  },
  {
   "cell_type": "code",
   "execution_count": 160,
   "id": "283a7e40",
   "metadata": {},
   "outputs": [],
   "source": [
    "class SavingsAccount(BankAccount):\n",
    "    def __init__(self,balance = 0,interest_rate = 0.04):\n",
    "        super().__init__(balance)\n",
    "        self.interest_rate = interest_rate\n",
    "        \n",
    "    def apply_interest(self):\n",
    "        self.balance = self.balance + (self.balance*self.interest_rate)\n",
    "        return self.balance"
   ]
  },
  {
   "cell_type": "code",
   "execution_count": 161,
   "id": "ae307ba5",
   "metadata": {},
   "outputs": [],
   "source": [
    "sb = SavingsAccount(balance=10000,interest_rate=0.06)"
   ]
  },
  {
   "cell_type": "code",
   "execution_count": 162,
   "id": "a902cf43",
   "metadata": {},
   "outputs": [
    {
     "data": {
      "text/plain": [
       "10000"
      ]
     },
     "execution_count": 162,
     "metadata": {},
     "output_type": "execute_result"
    }
   ],
   "source": [
    "sb.balance"
   ]
  },
  {
   "cell_type": "code",
   "execution_count": 163,
   "id": "1aa1a32d",
   "metadata": {},
   "outputs": [
    {
     "data": {
      "text/plain": [
       "10200"
      ]
     },
     "execution_count": 163,
     "metadata": {},
     "output_type": "execute_result"
    }
   ],
   "source": [
    "sb.deposit(200)"
   ]
  },
  {
   "cell_type": "code",
   "execution_count": 164,
   "id": "cd1058a1",
   "metadata": {},
   "outputs": [
    {
     "data": {
      "text/plain": [
       "9700"
      ]
     },
     "execution_count": 164,
     "metadata": {},
     "output_type": "execute_result"
    }
   ],
   "source": [
    "sb.withdraw(500)"
   ]
  },
  {
   "cell_type": "code",
   "execution_count": 165,
   "id": "f3d3098d",
   "metadata": {},
   "outputs": [
    {
     "data": {
      "text/plain": [
       "10282.0"
      ]
     },
     "execution_count": 165,
     "metadata": {},
     "output_type": "execute_result"
    }
   ],
   "source": [
    "sb.apply_interest()"
   ]
  },
  {
   "cell_type": "code",
   "execution_count": 166,
   "id": "0e37305d",
   "metadata": {},
   "outputs": [
    {
     "data": {
      "text/plain": [
       "'Insufficient Funds'"
      ]
     },
     "execution_count": 166,
     "metadata": {},
     "output_type": "execute_result"
    }
   ],
   "source": [
    "sb.withdraw(200000)"
   ]
  },
  {
   "cell_type": "code",
   "execution_count": 134,
   "id": "0347debe",
   "metadata": {},
   "outputs": [
    {
     "data": {
      "text/plain": [
       "'Insufficient Funds'"
      ]
     },
     "execution_count": 134,
     "metadata": {},
     "output_type": "execute_result"
    }
   ],
   "source": [
    "x"
   ]
  },
  {
   "cell_type": "markdown",
   "id": "401fe753",
   "metadata": {},
   "source": [
    "### Special Methods"
   ]
  },
  {
   "cell_type": "code",
   "execution_count": 103,
   "id": "52dd8c92",
   "metadata": {},
   "outputs": [
    {
     "data": {
      "text/plain": [
       "7"
      ]
     },
     "execution_count": 103,
     "metadata": {},
     "output_type": "execute_result"
    }
   ],
   "source": [
    "len('shreyas')"
   ]
  },
  {
   "cell_type": "code",
   "execution_count": 126,
   "id": "317c251a",
   "metadata": {},
   "outputs": [],
   "source": [
    "class Book:\n",
    "    def __init__(self,title,author,pages):\n",
    "        print('A book is created')\n",
    "        self.title = title\n",
    "        self.author = author\n",
    "        self.pages = pages\n",
    "        \n",
    "    def __len__(self):\n",
    "        return self.pages\n",
    "    \n",
    "    def __del__(self):\n",
    "        print('A book is destroyed')\n",
    "        \n",
    "    def __str__(self):\n",
    "        return f'{self.title} by {self.author}'"
   ]
  },
  {
   "cell_type": "code",
   "execution_count": 127,
   "id": "1ca64413",
   "metadata": {},
   "outputs": [
    {
     "name": "stdout",
     "output_type": "stream",
     "text": [
      "A book is created\n"
     ]
    }
   ],
   "source": [
    "b1 = Book('CPP','Shreyas',180)"
   ]
  },
  {
   "cell_type": "code",
   "execution_count": 128,
   "id": "fbd02e84",
   "metadata": {},
   "outputs": [
    {
     "name": "stdout",
     "output_type": "stream",
     "text": [
      "CPP by Shreyas\n"
     ]
    }
   ],
   "source": [
    "print(b1)"
   ]
  },
  {
   "cell_type": "code",
   "execution_count": 129,
   "id": "2e25f0be",
   "metadata": {},
   "outputs": [
    {
     "data": {
      "text/plain": [
       "180"
      ]
     },
     "execution_count": 129,
     "metadata": {},
     "output_type": "execute_result"
    }
   ],
   "source": [
    "len(b1)"
   ]
  },
  {
   "cell_type": "code",
   "execution_count": 131,
   "id": "28647a58",
   "metadata": {},
   "outputs": [
    {
     "name": "stdout",
     "output_type": "stream",
     "text": [
      "CPP by Shreyas\n"
     ]
    }
   ],
   "source": [
    "print(b1)"
   ]
  },
  {
   "cell_type": "code",
   "execution_count": 125,
   "id": "3e74e203",
   "metadata": {},
   "outputs": [
    {
     "name": "stdout",
     "output_type": "stream",
     "text": [
      "A book is destroyed\n"
     ]
    }
   ],
   "source": [
    "del b1"
   ]
  },
  {
   "cell_type": "code",
   "execution_count": 120,
   "id": "712aefad",
   "metadata": {},
   "outputs": [
    {
     "ename": "NameError",
     "evalue": "name 'b1' is not defined",
     "output_type": "error",
     "traceback": [
      "\u001b[0;31m---------------------------------------------------------------------------\u001b[0m",
      "\u001b[0;31mNameError\u001b[0m                                 Traceback (most recent call last)",
      "Cell \u001b[0;32mIn[120], line 1\u001b[0m\n\u001b[0;32m----> 1\u001b[0m b1\n",
      "\u001b[0;31mNameError\u001b[0m: name 'b1' is not defined"
     ]
    }
   ],
   "source": [
    "b1"
   ]
  },
  {
   "cell_type": "code",
   "execution_count": null,
   "id": "c137576a",
   "metadata": {},
   "outputs": [],
   "source": []
  }
 ],
 "metadata": {
  "kernelspec": {
   "display_name": "Python 3 (ipykernel)",
   "language": "python",
   "name": "python3"
  },
  "language_info": {
   "codemirror_mode": {
    "name": "ipython",
    "version": 3
   },
   "file_extension": ".py",
   "mimetype": "text/x-python",
   "name": "python",
   "nbconvert_exporter": "python",
   "pygments_lexer": "ipython3",
   "version": "3.11.5"
  }
 },
 "nbformat": 4,
 "nbformat_minor": 5
}
