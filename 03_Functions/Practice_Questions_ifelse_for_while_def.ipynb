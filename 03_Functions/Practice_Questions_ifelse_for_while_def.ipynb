{
 "cells": [
  {
   "cell_type": "markdown",
   "id": "73a4f336",
   "metadata": {},
   "source": [
    "### Compiled By : Shreyas Shukla"
   ]
  },
  {
   "cell_type": "markdown",
   "id": "ab38af6b",
   "metadata": {},
   "source": [
    "###### Questions : \n",
    "\n",
    "1. Write a function check_temperature(temp) that takes a temperature as input and returns \"Freezing\" if the temperature is 0 or below, \"Cold\" if it’s between 1 and 15, \"Warm\" if it’s between 16 and 25, and \"Hot\" otherwise.\n",
    "2. Define a function factorial(n) that computes the factorial of a given number n using a for loop.\n",
    "3. Write a function count_digits(num) that counts the number of digits in a given integer num using a while loop.\n",
    "4. Define a function sum_of_digits(num) that calculates the sum of the digits of a given integer num using a while loop.\n",
    "5. Write a function simple_calculator(num1, num2, operator) that performs basic arithmetic operations based on the operator provided. The function should take two numbers, num1 and num2, and an operator as inputs. Depending on the value of operator, the function should return:\n",
    "\n",
    "- The sum of num1 and num2 if operator is \"+\"\n",
    "- The difference of num1 and num2 if operator is \"-\"\n",
    "- The product of num1 and num2 if operator is \"*\"\n",
    "- The quotient of num1 and num2 if operator is \"/\", ensuring that division by zero returns an error message \"Error: Division by zero\"\n",
    "- \"Invalid operator\" if the operator does not match any of the above.\n",
    "\n",
    "6. Define a function calculate_power(base, exponent) that calculates base raised to the power of exponent without using the ** operator, using a while loop.\n",
    "7. Write a function squares_up_to(n) that returns a list of squares of all numbers from 1 to n using list comprehension.\n",
    "8. Write a function common_multiples(a, b, n) that returns a list of the first n multiples of both a and b using list comprehension.\n",
    "9. Create a function find_anagrams(word, words) that checks if each word in the list words is an anagram of word.\n",
    "10. Write a function transpose(matrix) that returns the transpose of a 2D matrix.\n",
    "11. Define a function rotated_list(lst, k) that rotates a list lst by k elements to the right.\n",
    "12. Write a function group_elements(lst, n) that groups elements of lst into sublists of length n."
   ]
  },
  {
   "cell_type": "code",
   "execution_count": 1,
   "id": "2100daf9",
   "metadata": {},
   "outputs": [],
   "source": [
    "#1\n",
    "def check_temperature(temp):\n",
    "    if temp <= 0:\n",
    "        return \"Freezing\"\n",
    "    elif 0 < temp <= 15:\n",
    "        return \"Cold\"\n",
    "    elif 15 < temp <= 25:\n",
    "        return \"Warm\"\n",
    "    else:\n",
    "        return \"Hot\"\n",
    "\n"
   ]
  },
  {
   "cell_type": "code",
   "execution_count": 2,
   "id": "8322de52",
   "metadata": {},
   "outputs": [],
   "source": [
    "#2\n",
    "def factorial(n):\n",
    "    result = 1\n",
    "    for i in range(1, n + 1):\n",
    "        result *= i\n",
    "    return result\n",
    "\n",
    "\n"
   ]
  },
  {
   "cell_type": "markdown",
   "id": "782c5302",
   "metadata": {},
   "source": [
    "### Compiled By : Shreyas Shukla"
   ]
  },
  {
   "cell_type": "code",
   "execution_count": 3,
   "id": "5f866ccb",
   "metadata": {},
   "outputs": [],
   "source": [
    "#3\n",
    "\n",
    "def count_digits(num):\n",
    "    count = 0\n",
    "    while num > 0:\n",
    "        num //= 10\n",
    "        count += 1\n",
    "    return count\n",
    "\n",
    "\n"
   ]
  },
  {
   "cell_type": "code",
   "execution_count": 4,
   "id": "3c604b85",
   "metadata": {},
   "outputs": [],
   "source": [
    "#4\n",
    "\n",
    "def sum_of_digits(num):\n",
    "    total = 0\n",
    "    while num > 0:\n",
    "        total += num % 10\n",
    "        num //= 10\n",
    "    return total\n",
    "\n"
   ]
  },
  {
   "cell_type": "markdown",
   "id": "9003536f",
   "metadata": {},
   "source": [
    "### Compiled By : Shreyas Shukla"
   ]
  },
  {
   "cell_type": "code",
   "execution_count": 5,
   "id": "9c6d7401",
   "metadata": {},
   "outputs": [],
   "source": [
    "#5\n",
    "\n",
    "def simple_calculator(num1, num2, operator):\n",
    "    if operator == \"+\":\n",
    "        return num1 + num2\n",
    "    elif operator == \"-\":\n",
    "        return num1 - num2\n",
    "    elif operator == \"*\":\n",
    "        return num1 * num2\n",
    "    elif operator == \"/\":\n",
    "        return num1 / num2 if num2 != 0 else \"Error: Division by zero\"\n",
    "    else:\n",
    "        return \"Invalid operator\"\n",
    "\n"
   ]
  },
  {
   "cell_type": "code",
   "execution_count": 6,
   "id": "41da30fb",
   "metadata": {},
   "outputs": [],
   "source": [
    "#6\n",
    "def calculate_power(base, exponent):\n",
    "    result = 1\n",
    "    while exponent > 0:\n",
    "        result *= base\n",
    "        exponent -= 1\n",
    "    return result\n"
   ]
  },
  {
   "cell_type": "code",
   "execution_count": 7,
   "id": "e10501c8",
   "metadata": {},
   "outputs": [],
   "source": [
    "#7\n",
    "def squares_up_to(n):\n",
    "    return [x**2 for x in range(1, n + 1)]\n",
    "\n"
   ]
  },
  {
   "cell_type": "code",
   "execution_count": 8,
   "id": "75f8ae2b",
   "metadata": {},
   "outputs": [],
   "source": [
    "#8\n",
    "def common_multiples(a, b, n):\n",
    "    return [x for x in range(a * b, a * b * (n + 1), a * b)]\n",
    "\n"
   ]
  },
  {
   "cell_type": "code",
   "execution_count": 9,
   "id": "63050ed0",
   "metadata": {},
   "outputs": [
    {
     "data": {
      "text/plain": [
       "['enlist', 'inlets']"
      ]
     },
     "execution_count": 9,
     "metadata": {},
     "output_type": "execute_result"
    }
   ],
   "source": [
    "#9\n",
    "def find_anagrams(word, words):\n",
    "    sorted_word = sorted(word)\n",
    "    return [w for w in words if sorted(w) == sorted_word]\n",
    "\n",
    "find_anagrams(\"listen\", [\"enlist\", \"google\", \"inlets\", \"banana\"])"
   ]
  },
  {
   "cell_type": "markdown",
   "id": "2a92f2ea",
   "metadata": {},
   "source": [
    "### Compiled By : Shreyas Shukla"
   ]
  },
  {
   "cell_type": "code",
   "execution_count": 10,
   "id": "9f551e4d",
   "metadata": {},
   "outputs": [
    {
     "data": {
      "text/plain": [
       "[[1, 4, 7], [2, 5, 8], [3, 6, 9]]"
      ]
     },
     "execution_count": 10,
     "metadata": {},
     "output_type": "execute_result"
    }
   ],
   "source": [
    "#10\n",
    "def transpose(matrix):\n",
    "    return [[row[i] for row in matrix] for i in range(len(matrix[0]))]\n",
    "\n",
    "transpose([[1, 2, 3], [4, 5, 6], [7, 8, 9]])"
   ]
  },
  {
   "cell_type": "code",
   "execution_count": 11,
   "id": "4292fb74",
   "metadata": {},
   "outputs": [
    {
     "data": {
      "text/plain": [
       "[4, 5, 1, 2, 3]"
      ]
     },
     "execution_count": 11,
     "metadata": {},
     "output_type": "execute_result"
    }
   ],
   "source": [
    "#11\n",
    "def rotated_list(lst, k):\n",
    "    k %= len(lst)\n",
    "    return lst[-k:] + lst[:-k]\n",
    "\n",
    "rotated_list([1, 2, 3, 4, 5], 2)\n"
   ]
  },
  {
   "cell_type": "code",
   "execution_count": 12,
   "id": "d0802eb3",
   "metadata": {},
   "outputs": [
    {
     "data": {
      "text/plain": [
       "[[1, 2, 3], [4, 5, 6], [7, 8, 9]]"
      ]
     },
     "execution_count": 12,
     "metadata": {},
     "output_type": "execute_result"
    }
   ],
   "source": [
    "#12\n",
    "def group_elements(lst, n):\n",
    "    return [lst[i:i + n] for i in range(0, len(lst), n)]\n",
    "\n",
    "group_elements([1, 2, 3, 4, 5, 6, 7, 8, 9], 3)"
   ]
  },
  {
   "cell_type": "markdown",
   "id": "f6c13871",
   "metadata": {},
   "source": [
    "### Compiled By : Shreyas Shukla"
   ]
  }
 ],
 "metadata": {
  "kernelspec": {
   "display_name": "Python 3 (ipykernel)",
   "language": "python",
   "name": "python3"
  },
  "language_info": {
   "codemirror_mode": {
    "name": "ipython",
    "version": 3
   },
   "file_extension": ".py",
   "mimetype": "text/x-python",
   "name": "python",
   "nbconvert_exporter": "python",
   "pygments_lexer": "ipython3",
   "version": "3.11.5"
  }
 },
 "nbformat": 4,
 "nbformat_minor": 5
}
