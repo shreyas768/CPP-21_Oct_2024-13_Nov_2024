{
 "cells": [
  {
   "cell_type": "markdown",
   "id": "12c387dc",
   "metadata": {},
   "source": [
    "##### Lambda: a way to create anonymous functions"
   ]
  },
  {
   "cell_type": "markdown",
   "id": "446aaa77",
   "metadata": {},
   "source": [
    "# Map\n",
    "\n",
    "* 'map' a function to an iterable object"
   ]
  },
  {
   "cell_type": "code",
   "execution_count": 1,
   "id": "2a0dac35",
   "metadata": {},
   "outputs": [],
   "source": [
    "def square_root(num):\n",
    "    return num**0.5"
   ]
  },
  {
   "cell_type": "code",
   "execution_count": 2,
   "id": "dff10ea5",
   "metadata": {},
   "outputs": [],
   "source": [
    "my_lst = [11,21,33,45,67]"
   ]
  },
  {
   "cell_type": "code",
   "execution_count": 4,
   "id": "005bd668",
   "metadata": {},
   "outputs": [],
   "source": [
    "lst = []\n",
    "\n",
    "for n in my_lst:\n",
    "    lst.append(n**0.5)"
   ]
  },
  {
   "cell_type": "code",
   "execution_count": 5,
   "id": "4adb3808",
   "metadata": {},
   "outputs": [
    {
     "data": {
      "text/plain": [
       "[3.3166247903554,\n",
       " 4.58257569495584,\n",
       " 5.744562646538029,\n",
       " 6.708203932499369,\n",
       " 8.18535277187245]"
      ]
     },
     "execution_count": 5,
     "metadata": {},
     "output_type": "execute_result"
    }
   ],
   "source": [
    "lst"
   ]
  },
  {
   "cell_type": "code",
   "execution_count": 7,
   "id": "0ce6de8e",
   "metadata": {},
   "outputs": [
    {
     "data": {
      "text/plain": [
       "[3.3166247903554,\n",
       " 4.58257569495584,\n",
       " 5.744562646538029,\n",
       " 6.708203932499369,\n",
       " 8.18535277187245]"
      ]
     },
     "execution_count": 7,
     "metadata": {},
     "output_type": "execute_result"
    }
   ],
   "source": [
    "#Iterate through lst or just cast a list using map\n",
    "\n",
    "list(map(square_root,my_lst))"
   ]
  },
  {
   "cell_type": "code",
   "execution_count": 31,
   "id": "3ec80321",
   "metadata": {},
   "outputs": [],
   "source": [
    "names = ['Shreyas','Virat','Rishabh','Sachin','Dhoni','Jaspreet','Akashdeep']\n",
    "\n",
    "def str_mani(mystr):\n",
    "    if len(mystr)%2 ==0:\n",
    "        return 'even'\n",
    "    else:\n",
    "        return mystr[0]"
   ]
  },
  {
   "cell_type": "code",
   "execution_count": 32,
   "id": "0187654e",
   "metadata": {},
   "outputs": [
    {
     "data": {
      "text/plain": [
       "['S', 'V', 'R', 'even', 'D', 'even', 'A']"
      ]
     },
     "execution_count": 32,
     "metadata": {},
     "output_type": "execute_result"
    }
   ],
   "source": [
    "list(map(lambda mystr: 'even' if len(mystr)%2 == 0 else mystr[0],names))"
   ]
  },
  {
   "cell_type": "code",
   "execution_count": 33,
   "id": "9956dc0d",
   "metadata": {},
   "outputs": [
    {
     "data": {
      "text/plain": [
       "['S', 'V', 'R', 'even', 'D', 'even', 'A']"
      ]
     },
     "execution_count": 33,
     "metadata": {},
     "output_type": "execute_result"
    }
   ],
   "source": [
    "list(map(str_mani,names))"
   ]
  },
  {
   "cell_type": "markdown",
   "id": "f853591b",
   "metadata": {},
   "source": [
    "# Filter\n",
    "\n",
    "* returns an iterator yielding those items of iterable for which function (item) is true. That is, the function\n",
    "* returns either True or False"
   ]
  },
  {
   "cell_type": "code",
   "execution_count": 10,
   "id": "31c1c785",
   "metadata": {},
   "outputs": [],
   "source": [
    "def check_even(num):\n",
    "    return num%2 == 0"
   ]
  },
  {
   "cell_type": "code",
   "execution_count": 11,
   "id": "a30d0261",
   "metadata": {},
   "outputs": [
    {
     "data": {
      "text/plain": [
       "False"
      ]
     },
     "execution_count": 11,
     "metadata": {},
     "output_type": "execute_result"
    }
   ],
   "source": [
    "check_even(13)"
   ]
  },
  {
   "cell_type": "code",
   "execution_count": 12,
   "id": "53a71442",
   "metadata": {},
   "outputs": [
    {
     "data": {
      "text/plain": [
       "True"
      ]
     },
     "execution_count": 12,
     "metadata": {},
     "output_type": "execute_result"
    }
   ],
   "source": [
    "check_even(12)"
   ]
  },
  {
   "cell_type": "code",
   "execution_count": 14,
   "id": "fb8f694d",
   "metadata": {},
   "outputs": [],
   "source": [
    "num_lst = [0,1,2,3,4,5,6,7,8,9,10,11,12]"
   ]
  },
  {
   "cell_type": "code",
   "execution_count": 16,
   "id": "d6f6fa2d",
   "metadata": {},
   "outputs": [
    {
     "data": {
      "text/plain": [
       "[0, 2, 4, 6, 8, 10, 12]"
      ]
     },
     "execution_count": 16,
     "metadata": {},
     "output_type": "execute_result"
    }
   ],
   "source": [
    "list(filter(check_even,num_lst))"
   ]
  },
  {
   "cell_type": "code",
   "execution_count": 17,
   "id": "d675e16a",
   "metadata": {},
   "outputs": [],
   "source": [
    "names = ['Shreyas','Virat','Rishabh','Sachin','Dhoni','Jaspreet','Akashdeep']\n",
    "\n",
    "def check_str(st):\n",
    "    return len(st)>6"
   ]
  },
  {
   "cell_type": "code",
   "execution_count": 18,
   "id": "7fed28ca",
   "metadata": {},
   "outputs": [
    {
     "data": {
      "text/plain": [
       "['Shreyas', 'Rishabh', 'Jaspreet', 'Akashdeep']"
      ]
     },
     "execution_count": 18,
     "metadata": {},
     "output_type": "execute_result"
    }
   ],
   "source": [
    "list(filter(check_str,names))"
   ]
  },
  {
   "cell_type": "markdown",
   "id": "4298c889",
   "metadata": {},
   "source": [
    "### Lambda Expressions\n",
    "\n"
   ]
  },
  {
   "cell_type": "code",
   "execution_count": 19,
   "id": "3fdb50f7",
   "metadata": {},
   "outputs": [],
   "source": [
    "def square(num):\n",
    "    result = num**2\n",
    "    return result"
   ]
  },
  {
   "cell_type": "code",
   "execution_count": 20,
   "id": "9db4a088",
   "metadata": {},
   "outputs": [
    {
     "data": {
      "text/plain": [
       "4"
      ]
     },
     "execution_count": 20,
     "metadata": {},
     "output_type": "execute_result"
    }
   ],
   "source": [
    "square(2)"
   ]
  },
  {
   "cell_type": "code",
   "execution_count": 21,
   "id": "a638e4d7",
   "metadata": {},
   "outputs": [],
   "source": [
    "def square1(num):\n",
    "    return num**2"
   ]
  },
  {
   "cell_type": "code",
   "execution_count": 22,
   "id": "5743a5fb",
   "metadata": {},
   "outputs": [
    {
     "data": {
      "text/plain": [
       "4"
      ]
     },
     "execution_count": 22,
     "metadata": {},
     "output_type": "execute_result"
    }
   ],
   "source": [
    "square1(2)"
   ]
  },
  {
   "cell_type": "code",
   "execution_count": 23,
   "id": "52a41b25",
   "metadata": {},
   "outputs": [],
   "source": [
    "def square2(num): return num**2"
   ]
  },
  {
   "cell_type": "code",
   "execution_count": 24,
   "id": "71acb135",
   "metadata": {},
   "outputs": [
    {
     "data": {
      "text/plain": [
       "16"
      ]
     },
     "execution_count": 24,
     "metadata": {},
     "output_type": "execute_result"
    }
   ],
   "source": [
    "square2(4)"
   ]
  },
  {
   "cell_type": "code",
   "execution_count": 26,
   "id": "f065c696",
   "metadata": {},
   "outputs": [],
   "source": [
    "square3 = lambda num : num**2"
   ]
  },
  {
   "cell_type": "code",
   "execution_count": 27,
   "id": "1a12359b",
   "metadata": {},
   "outputs": [
    {
     "data": {
      "text/plain": [
       "36"
      ]
     },
     "execution_count": 27,
     "metadata": {},
     "output_type": "execute_result"
    }
   ],
   "source": [
    "square3(6)"
   ]
  },
  {
   "cell_type": "code",
   "execution_count": 29,
   "id": "7334c244",
   "metadata": {},
   "outputs": [
    {
     "data": {
      "text/plain": [
       "[3.3166247903554,\n",
       " 4.58257569495584,\n",
       " 5.744562646538029,\n",
       " 6.708203932499369,\n",
       " 8.18535277187245]"
      ]
     },
     "execution_count": 29,
     "metadata": {},
     "output_type": "execute_result"
    }
   ],
   "source": [
    "my_lst = [11,21,33,45,67]\n",
    "\n",
    "list(map(lambda num : num**0.5,my_lst))"
   ]
  },
  {
   "cell_type": "code",
   "execution_count": 30,
   "id": "311a70ed",
   "metadata": {},
   "outputs": [
    {
     "data": {
      "text/plain": [
       "[0, 2, 4, 6, 8, 10, 12]"
      ]
     },
     "execution_count": 30,
     "metadata": {},
     "output_type": "execute_result"
    }
   ],
   "source": [
    "num_lst = [0,1,2,3,4,5,6,7,8,9,10,11,12]\n",
    "list(filter(lambda n:n%2 == 0,num_lst))"
   ]
  },
  {
   "cell_type": "code",
   "execution_count": 34,
   "id": "6a14c1d6",
   "metadata": {},
   "outputs": [],
   "source": [
    "# use lambda , map or filter or combination of them to capitalise the first letter of a string\n",
    "\n",
    "s = [\"shreyas\",'iitr','rbpl','machine','learning','december']"
   ]
  },
  {
   "cell_type": "code",
   "execution_count": 36,
   "id": "961bc45e",
   "metadata": {},
   "outputs": [
    {
     "data": {
      "text/plain": [
       "['Shreyas', 'Iitr', 'Rbpl', 'Machine', 'Learning', 'December']"
      ]
     },
     "execution_count": 36,
     "metadata": {},
     "output_type": "execute_result"
    }
   ],
   "source": [
    "list(map(lambda str1 : str1.capitalize(),s))"
   ]
  },
  {
   "cell_type": "code",
   "execution_count": 44,
   "id": "f6ed5b13",
   "metadata": {},
   "outputs": [
    {
     "data": {
      "text/plain": [
       "['sayerhs', 'rtii', 'lpbr', 'enihcam', 'gninrael', 'rebmeced']"
      ]
     },
     "execution_count": 44,
     "metadata": {},
     "output_type": "execute_result"
    }
   ],
   "source": [
    "#Reverse a string\n",
    "\n",
    "list(map(lambda str2:str2[::-1],s))"
   ]
  },
  {
   "cell_type": "code",
   "execution_count": 42,
   "id": "a28ce8e7",
   "metadata": {},
   "outputs": [
    {
     "data": {
      "text/plain": [
       "[121, 212, 222, 323, 1991, 12321]"
      ]
     },
     "execution_count": 42,
     "metadata": {},
     "output_type": "execute_result"
    }
   ],
   "source": [
    "#take a list of numbers and return a list of numbers which are palindromic\n",
    "nums = [112,121,212,221,122,222,231,323,1991,1996,12321,45643]\n",
    "list(filter(lambda x: str(x) == str(x)[::-1],nums))"
   ]
  },
  {
   "cell_type": "code",
   "execution_count": 46,
   "id": "c74c00b3",
   "metadata": {},
   "outputs": [
    {
     "data": {
      "text/plain": [
       "['shreyas', 'IITR', 'RBPL', 'machine', 'LEARNING', 'DECEMBER']"
      ]
     },
     "execution_count": 46,
     "metadata": {},
     "output_type": "execute_result"
    }
   ],
   "source": [
    "# With a list of words, capitalize only the words with an even number of characters.\n",
    "list(map(lambda word: word.upper() if len(word)%2 == 0 else word, s))"
   ]
  },
  {
   "cell_type": "code",
   "execution_count": 47,
   "id": "83660c18",
   "metadata": {},
   "outputs": [
    {
     "data": {
      "text/plain": [
       "['iit', 'Artificial', 'apple']"
      ]
     },
     "execution_count": 47,
     "metadata": {},
     "output_type": "execute_result"
    }
   ],
   "source": [
    "# Filters words that start with a vowel [hint: use 'in']\n",
    "lst_sample = ['iit','rbpl','Artificial','real','apple','cat','dog']\n",
    "\n",
    "list(filter(lambda word : word[0].lower() in 'aeiou',lst_sample))"
   ]
  },
  {
   "cell_type": "code",
   "execution_count": null,
   "id": "0788e125",
   "metadata": {},
   "outputs": [],
   "source": []
  }
 ],
 "metadata": {
  "kernelspec": {
   "display_name": "Python 3 (ipykernel)",
   "language": "python",
   "name": "python3"
  },
  "language_info": {
   "codemirror_mode": {
    "name": "ipython",
    "version": 3
   },
   "file_extension": ".py",
   "mimetype": "text/x-python",
   "name": "python",
   "nbconvert_exporter": "python",
   "pygments_lexer": "ipython3",
   "version": "3.11.5"
  }
 },
 "nbformat": 4,
 "nbformat_minor": 5
}
