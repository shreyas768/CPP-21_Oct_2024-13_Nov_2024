{
 "cells": [
  {
   "cell_type": "markdown",
   "id": "6e56fdda",
   "metadata": {},
   "source": [
    "### Creating a Function"
   ]
  },
  {
   "cell_type": "code",
   "execution_count": 1,
   "id": "a68662f1",
   "metadata": {},
   "outputs": [],
   "source": [
    "def say_hello():\n",
    "    print('hello')"
   ]
  },
  {
   "cell_type": "code",
   "execution_count": 2,
   "id": "0515ab33",
   "metadata": {},
   "outputs": [
    {
     "data": {
      "text/plain": [
       "<function __main__.say_hello()>"
      ]
     },
     "execution_count": 2,
     "metadata": {},
     "output_type": "execute_result"
    }
   ],
   "source": [
    "#Calling a function\n",
    "\n",
    "say_hello"
   ]
  },
  {
   "cell_type": "code",
   "execution_count": 3,
   "id": "256b1a65",
   "metadata": {},
   "outputs": [
    {
     "name": "stdout",
     "output_type": "stream",
     "text": [
      "hello\n"
     ]
    }
   ],
   "source": [
    "say_hello()"
   ]
  },
  {
   "cell_type": "markdown",
   "id": "2934656a",
   "metadata": {},
   "source": [
    "### Creating a Function with arguments"
   ]
  },
  {
   "cell_type": "code",
   "execution_count": 4,
   "id": "ed7166b6",
   "metadata": {},
   "outputs": [],
   "source": [
    "def namaste(name):\n",
    "    print(f'Hello {name}')"
   ]
  },
  {
   "cell_type": "code",
   "execution_count": 5,
   "id": "8a6eeaee",
   "metadata": {},
   "outputs": [
    {
     "name": "stdout",
     "output_type": "stream",
     "text": [
      "Hello Shreyas\n"
     ]
    }
   ],
   "source": [
    "namaste('Shreyas')"
   ]
  },
  {
   "cell_type": "markdown",
   "id": "47457730",
   "metadata": {},
   "source": [
    "### Using return"
   ]
  },
  {
   "cell_type": "code",
   "execution_count": 20,
   "id": "97b93820",
   "metadata": {},
   "outputs": [],
   "source": [
    "def add_num(n1,n2):\n",
    "    return n1+n2"
   ]
  },
  {
   "cell_type": "code",
   "execution_count": 21,
   "id": "70665d24",
   "metadata": {},
   "outputs": [
    {
     "data": {
      "text/plain": [
       "66"
      ]
     },
     "execution_count": 21,
     "metadata": {},
     "output_type": "execute_result"
    }
   ],
   "source": [
    "add_num(12,54)"
   ]
  },
  {
   "cell_type": "code",
   "execution_count": 22,
   "id": "ca0ef2b1",
   "metadata": {},
   "outputs": [],
   "source": [
    "result = add_num(12,59012709)"
   ]
  },
  {
   "cell_type": "code",
   "execution_count": 23,
   "id": "64005188",
   "metadata": {},
   "outputs": [
    {
     "name": "stdout",
     "output_type": "stream",
     "text": [
      "59012721\n"
     ]
    }
   ],
   "source": [
    "print(result)"
   ]
  },
  {
   "cell_type": "code",
   "execution_count": 24,
   "id": "09ece4ff",
   "metadata": {},
   "outputs": [],
   "source": [
    "def add_num_print(n1,n2):\n",
    "    print(n1+n2)"
   ]
  },
  {
   "cell_type": "code",
   "execution_count": 25,
   "id": "343c702c",
   "metadata": {},
   "outputs": [
    {
     "name": "stdout",
     "output_type": "stream",
     "text": [
      "66\n"
     ]
    }
   ],
   "source": [
    "result1 = add_num_print(23,43)"
   ]
  },
  {
   "cell_type": "code",
   "execution_count": 26,
   "id": "10ff2b0d",
   "metadata": {},
   "outputs": [
    {
     "data": {
      "text/plain": [
       "NoneType"
      ]
     },
     "execution_count": 26,
     "metadata": {},
     "output_type": "execute_result"
    }
   ],
   "source": [
    "type(result1)"
   ]
  },
  {
   "cell_type": "code",
   "execution_count": 28,
   "id": "201a7be1",
   "metadata": {},
   "outputs": [
    {
     "data": {
      "text/plain": [
       "59013311.12721"
      ]
     },
     "execution_count": 28,
     "metadata": {},
     "output_type": "execute_result"
    }
   ],
   "source": [
    "result+result/100000"
   ]
  },
  {
   "cell_type": "markdown",
   "id": "b62b2df0",
   "metadata": {},
   "source": [
    "#### Adding Logic to Internal Function Operations"
   ]
  },
  {
   "cell_type": "code",
   "execution_count": 29,
   "id": "3f5e5b05",
   "metadata": {},
   "outputs": [],
   "source": [
    "def even_check(num):\n",
    "    return num%2 == 0"
   ]
  },
  {
   "cell_type": "code",
   "execution_count": 30,
   "id": "31dd4b5c",
   "metadata": {},
   "outputs": [
    {
     "data": {
      "text/plain": [
       "False"
      ]
     },
     "execution_count": 30,
     "metadata": {},
     "output_type": "execute_result"
    }
   ],
   "source": [
    "even_check(21)"
   ]
  },
  {
   "cell_type": "code",
   "execution_count": 32,
   "id": "76af9a85",
   "metadata": {},
   "outputs": [
    {
     "data": {
      "text/plain": [
       "True"
      ]
     },
     "execution_count": 32,
     "metadata": {},
     "output_type": "execute_result"
    }
   ],
   "source": [
    "even_check(20)"
   ]
  },
  {
   "cell_type": "code",
   "execution_count": 33,
   "id": "5174f0f4",
   "metadata": {},
   "outputs": [],
   "source": [
    "#Check if any number in a list is even\n",
    "\n",
    "def check_even_list(num_lst):\n",
    "    #go through each number\n",
    "    for num in num_lst:\n",
    "        #Once we hit an even number, we return True\n",
    "        if num%2 ==0:\n",
    "            return True\n",
    "        #Otherwise we don't do anything\n",
    "        else:\n",
    "            pass"
   ]
  },
  {
   "cell_type": "code",
   "execution_count": 34,
   "id": "997b8c16",
   "metadata": {},
   "outputs": [
    {
     "data": {
      "text/plain": [
       "True"
      ]
     },
     "execution_count": 34,
     "metadata": {},
     "output_type": "execute_result"
    }
   ],
   "source": [
    "check_even_list([1,3,5,7,9,12,11])"
   ]
  },
  {
   "cell_type": "code",
   "execution_count": 35,
   "id": "153936fe",
   "metadata": {},
   "outputs": [
    {
     "data": {
      "text/plain": [
       "True"
      ]
     },
     "execution_count": 35,
     "metadata": {},
     "output_type": "execute_result"
    }
   ],
   "source": [
    "check_even_list([2,4,6,8,11,13,15])"
   ]
  },
  {
   "cell_type": "code",
   "execution_count": 36,
   "id": "0ae181fa",
   "metadata": {},
   "outputs": [],
   "source": [
    "check_even_list([1,3,5,7,9,11,21,31,37])"
   ]
  },
  {
   "cell_type": "markdown",
   "id": "685e8f68",
   "metadata": {},
   "source": [
    "We aren't returning anything if they are all odds !!"
   ]
  },
  {
   "cell_type": "code",
   "execution_count": 43,
   "id": "13fedb74",
   "metadata": {},
   "outputs": [],
   "source": [
    "def check_even_list(num_lst):\n",
    "    #go through each number\n",
    "    for num in num_lst:\n",
    "        #Once we hit an even number, we return True\n",
    "        if num%2 ==0:\n",
    "            return True\n",
    "        #This returns false at the very first odd number without checkin gthe other num in the list\n",
    "        else:\n",
    "            return False   "
   ]
  },
  {
   "cell_type": "code",
   "execution_count": 42,
   "id": "95d460b6",
   "metadata": {},
   "outputs": [
    {
     "data": {
      "text/plain": [
       "False"
      ]
     },
     "execution_count": 42,
     "metadata": {},
     "output_type": "execute_result"
    }
   ],
   "source": [
    "check_even_list([1,2,3])"
   ]
  },
  {
   "cell_type": "code",
   "execution_count": 44,
   "id": "f6f63c57",
   "metadata": {},
   "outputs": [],
   "source": [
    "def check_even_list(num_lst):\n",
    "    #go through each number\n",
    "    for num in num_lst:\n",
    "        #Once we hit an even number, we return True\n",
    "        if num%2 ==0:\n",
    "            return True\n",
    "        #Otherwise we don't do anything\n",
    "        else:\n",
    "            pass\n",
    "    return False"
   ]
  },
  {
   "cell_type": "code",
   "execution_count": 46,
   "id": "3fa12137",
   "metadata": {},
   "outputs": [
    {
     "data": {
      "text/plain": [
       "True"
      ]
     },
     "execution_count": 46,
     "metadata": {},
     "output_type": "execute_result"
    }
   ],
   "source": [
    "check_even_list([1,2,3])"
   ]
  },
  {
   "cell_type": "code",
   "execution_count": 47,
   "id": "bd42b789",
   "metadata": {},
   "outputs": [
    {
     "data": {
      "text/plain": [
       "False"
      ]
     },
     "execution_count": 47,
     "metadata": {},
     "output_type": "execute_result"
    }
   ],
   "source": [
    "check_even_list([1,3,5])"
   ]
  },
  {
   "cell_type": "markdown",
   "id": "4b538d81",
   "metadata": {},
   "source": [
    "### Return all the even numbers in a list"
   ]
  },
  {
   "cell_type": "code",
   "execution_count": 54,
   "id": "b359aab4",
   "metadata": {},
   "outputs": [],
   "source": [
    "def return_even_list(num_lst):\n",
    "    even_numbers = []\n",
    "    #go through each number\n",
    "    for num in num_lst:\n",
    "        #Once we get a hit on an even number, we append the even number list\n",
    "        if num % 2 == 0:\n",
    "            even_numbers.append(num)\n",
    "        #Don't do anything\n",
    "        else:\n",
    "            pass\n",
    "    #Notice the indentation because it ensures we run through the entirety of the for loop\n",
    "    return even_numbers"
   ]
  },
  {
   "cell_type": "code",
   "execution_count": 55,
   "id": "d51dafa9",
   "metadata": {},
   "outputs": [
    {
     "data": {
      "text/plain": [
       "[2, 4, 12, 32, 64, 76]"
      ]
     },
     "execution_count": 55,
     "metadata": {},
     "output_type": "execute_result"
    }
   ],
   "source": [
    "return_even_list([1,2,3,4,11,12,21,23,32,43,64,76,67])"
   ]
  },
  {
   "cell_type": "markdown",
   "id": "338ff36c",
   "metadata": {},
   "source": [
    "### Tuples Unpacking in the functions"
   ]
  },
  {
   "cell_type": "code",
   "execution_count": 62,
   "id": "bb571f69",
   "metadata": {},
   "outputs": [],
   "source": [
    "performance = [('APPLE',200),('GOOGLE',3000),('MS',400),('RBPL',250)]"
   ]
  },
  {
   "cell_type": "code",
   "execution_count": 63,
   "id": "46301215",
   "metadata": {},
   "outputs": [],
   "source": [
    "def company_perform(perf):\n",
    "    \n",
    "    current_max = 0\n",
    "    \n",
    "    company_name = ''\n",
    "    \n",
    "    for c,r in perf:\n",
    "        if r > current_max:\n",
    "            current_max = r\n",
    "            company_name = c\n",
    "        else:\n",
    "            pass\n",
    "        \n",
    "    return (company_name,current_max)"
   ]
  },
  {
   "cell_type": "code",
   "execution_count": 64,
   "id": "fc908f75",
   "metadata": {},
   "outputs": [
    {
     "data": {
      "text/plain": [
       "('GOOGLE', 3000)"
      ]
     },
     "execution_count": 64,
     "metadata": {},
     "output_type": "execute_result"
    }
   ],
   "source": [
    "company_perform(performance)"
   ]
  },
  {
   "cell_type": "markdown",
   "id": "b939824f",
   "metadata": {},
   "source": [
    "### Exercise"
   ]
  },
  {
   "cell_type": "markdown",
   "id": "c19a15b5",
   "metadata": {},
   "source": [
    "write a func that returns the lesser of the two given numbers if both numbers are even, but returns the greater if one or both numbers are odd"
   ]
  },
  {
   "cell_type": "code",
   "execution_count": 74,
   "id": "a000ad8c",
   "metadata": {},
   "outputs": [],
   "source": [
    "def lesser_number(a,b):\n",
    "    if a%2 == 0 and b%2 == 0:\n",
    "        return min(a,b)\n",
    "    else:\n",
    "        return max(a,b)"
   ]
  },
  {
   "cell_type": "code",
   "execution_count": 75,
   "id": "29d44855",
   "metadata": {},
   "outputs": [
    {
     "data": {
      "text/plain": [
       "161"
      ]
     },
     "execution_count": 75,
     "metadata": {},
     "output_type": "execute_result"
    }
   ],
   "source": [
    "lesser_number(121,161)"
   ]
  },
  {
   "cell_type": "code",
   "execution_count": 77,
   "id": "9aa8ac3b",
   "metadata": {},
   "outputs": [
    {
     "data": {
      "text/plain": [
       "120"
      ]
     },
     "execution_count": 77,
     "metadata": {},
     "output_type": "execute_result"
    }
   ],
   "source": [
    "lesser_number(120,160)"
   ]
  },
  {
   "cell_type": "markdown",
   "id": "352c325b",
   "metadata": {},
   "source": [
    "### Write a function that takes a two word string and return true if both words begin with the same letter"
   ]
  },
  {
   "cell_type": "code",
   "execution_count": 82,
   "id": "c34a8bf8",
   "metadata": {},
   "outputs": [],
   "source": [
    "def two_strings(text):\n",
    "    if len(text.split()) == 2:\n",
    "        return text.lower().split()[0][0] == text.lower().split()[1][0]\n",
    "    else:\n",
    "        print(\"please enter string of two words only\")"
   ]
  },
  {
   "cell_type": "code",
   "execution_count": 85,
   "id": "ddd9c195",
   "metadata": {},
   "outputs": [
    {
     "data": {
      "text/plain": [
       "False"
      ]
     },
     "execution_count": 85,
     "metadata": {},
     "output_type": "execute_result"
    }
   ],
   "source": [
    "two_strings('Hello world')"
   ]
  },
  {
   "cell_type": "markdown",
   "id": "c741aab3",
   "metadata": {},
   "source": [
    "## Write a function that captlaizes the first and fourth letters of a name\n",
    "## Write a function that given a sentence, return a sentence with the words reversed\n",
    "## Write a function that returns the number of prime numbers that exist up to and inclusing a given number"
   ]
  },
  {
   "cell_type": "code",
   "execution_count": 88,
   "id": "6d4b2bcc",
   "metadata": {},
   "outputs": [],
   "source": [
    "#3\n",
    "def cap_name(name):\n",
    "    if len(name)>3:\n",
    "        return name[:3].capitalize() + name[3:].capitalize()\n",
    "    else:\n",
    "        return 'Name is too short !!'"
   ]
  },
  {
   "cell_type": "code",
   "execution_count": 89,
   "id": "b3c7773d",
   "metadata": {},
   "outputs": [
    {
     "data": {
      "text/plain": [
       "'ShrEyas'"
      ]
     },
     "execution_count": 89,
     "metadata": {},
     "output_type": "execute_result"
    }
   ],
   "source": [
    "cap_name('shreyas')"
   ]
  },
  {
   "cell_type": "code",
   "execution_count": 90,
   "id": "5aa1b375",
   "metadata": {},
   "outputs": [
    {
     "data": {
      "text/plain": [
       "'Name is too short !!'"
      ]
     },
     "execution_count": 90,
     "metadata": {},
     "output_type": "execute_result"
    }
   ],
   "source": [
    "cap_name('Tom')"
   ]
  },
  {
   "cell_type": "code",
   "execution_count": 94,
   "id": "fbd4d968",
   "metadata": {},
   "outputs": [
    {
     "data": {
      "text/plain": [
       "'you are hwo world hello'"
      ]
     },
     "execution_count": 94,
     "metadata": {},
     "output_type": "execute_result"
    }
   ],
   "source": [
    "' '.join('hello world hwo are you'.split()[::-1])"
   ]
  },
  {
   "cell_type": "code",
   "execution_count": 99,
   "id": "b7d70e7b",
   "metadata": {},
   "outputs": [],
   "source": [
    "#4\n",
    "def word_rev(text):\n",
    "    return ' '.join(text.split()[::-1])"
   ]
  },
  {
   "cell_type": "code",
   "execution_count": null,
   "id": "b5cf7ef6",
   "metadata": {},
   "outputs": [],
   "source": []
  }
 ],
 "metadata": {
  "kernelspec": {
   "display_name": "Python 3 (ipykernel)",
   "language": "python",
   "name": "python3"
  },
  "language_info": {
   "codemirror_mode": {
    "name": "ipython",
    "version": 3
   },
   "file_extension": ".py",
   "mimetype": "text/x-python",
   "name": "python",
   "nbconvert_exporter": "python",
   "pygments_lexer": "ipython3",
   "version": "3.11.5"
  }
 },
 "nbformat": 4,
 "nbformat_minor": 5
}
