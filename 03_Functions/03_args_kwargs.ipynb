{
 "cells": [
  {
   "cell_type": "code",
   "execution_count": 1,
   "id": "2f8574b4",
   "metadata": {},
   "outputs": [],
   "source": [
    "def my_func(a,b):\n",
    "    return sum((a,b))*0.5"
   ]
  },
  {
   "cell_type": "code",
   "execution_count": 2,
   "id": "a7f8054a",
   "metadata": {},
   "outputs": [
    {
     "data": {
      "text/plain": [
       "50.0"
      ]
     },
     "execution_count": 2,
     "metadata": {},
     "output_type": "execute_result"
    }
   ],
   "source": [
    "my_func(40,60)"
   ]
  },
  {
   "cell_type": "code",
   "execution_count": 3,
   "id": "f89af49f",
   "metadata": {},
   "outputs": [],
   "source": [
    "#here a and b are positional arguments"
   ]
  },
  {
   "cell_type": "code",
   "execution_count": 8,
   "id": "d7115f94",
   "metadata": {},
   "outputs": [],
   "source": [
    "def my_func(a=0,b=0,c=100):\n",
    "    return sum((a,b,c))*0.5"
   ]
  },
  {
   "cell_type": "code",
   "execution_count": 10,
   "id": "7fdc67e3",
   "metadata": {},
   "outputs": [
    {
     "data": {
      "text/plain": [
       "50.0"
      ]
     },
     "execution_count": 10,
     "metadata": {},
     "output_type": "execute_result"
    }
   ],
   "source": [
    "my_func(b=40,c=60)"
   ]
  },
  {
   "cell_type": "code",
   "execution_count": 11,
   "id": "5877bc58",
   "metadata": {},
   "outputs": [],
   "source": [
    "# *args"
   ]
  },
  {
   "cell_type": "code",
   "execution_count": 16,
   "id": "424d6878",
   "metadata": {},
   "outputs": [],
   "source": [
    "def myfunc(*args):\n",
    "    return sum(args)*0.5"
   ]
  },
  {
   "cell_type": "code",
   "execution_count": 17,
   "id": "6a446e95",
   "metadata": {},
   "outputs": [
    {
     "data": {
      "text/plain": [
       "80.0"
      ]
     },
     "execution_count": 17,
     "metadata": {},
     "output_type": "execute_result"
    }
   ],
   "source": [
    "myfunc(40,60,20,10,13,17)"
   ]
  },
  {
   "cell_type": "markdown",
   "id": "2d16c5c6",
   "metadata": {},
   "source": [
    "* kwargs"
   ]
  },
  {
   "cell_type": "code",
   "execution_count": 18,
   "id": "19130470",
   "metadata": {},
   "outputs": [],
   "source": [
    "def sample_func(**kwargs):\n",
    "    if 'fruit' in kwargs:\n",
    "        print(f\"My fav fruit is {kwargs['fruit']}\")\n",
    "    else:\n",
    "        print('I do not like the fruit')"
   ]
  },
  {
   "cell_type": "code",
   "execution_count": 19,
   "id": "c3df6120",
   "metadata": {},
   "outputs": [
    {
     "name": "stdout",
     "output_type": "stream",
     "text": [
      "My fav fruit is pineapple\n"
     ]
    }
   ],
   "source": [
    "sample_func(fruit='pineapple')"
   ]
  },
  {
   "cell_type": "code",
   "execution_count": 25,
   "id": "30257750",
   "metadata": {},
   "outputs": [],
   "source": [
    "def sample_func(*args, **kwargs):\n",
    "    if 'fruit' in kwargs:\n",
    "        print(f\"I like {' and '.join(args)}, My fav fruit is {kwargs['fruit']}\")\n",
    "        print(f\"May I have some {kwargs['juice']} juice?\")\n",
    "    else:\n",
    "        print('I do not like the fruit')"
   ]
  },
  {
   "cell_type": "code",
   "execution_count": 27,
   "id": "a213e3ab",
   "metadata": {},
   "outputs": [
    {
     "name": "stdout",
     "output_type": "stream",
     "text": [
      "I like eggs and vegetables and pasta, My fav fruit is mangoes\n",
      "May I have some orange juice?\n"
     ]
    }
   ],
   "source": [
    "sample_func('eggs','vegetables','pasta',fruit = 'mangoes', juice = 'orange')"
   ]
  },
  {
   "cell_type": "code",
   "execution_count": 30,
   "id": "e8a89791",
   "metadata": {},
   "outputs": [],
   "source": [
    "# func that takes any number of numerical arguments and returns the maximum value. \n",
    "# If no arguments are provided, return 0 as a default\n",
    "def max_val(*args):\n",
    "    return max(args) if args else 0"
   ]
  },
  {
   "cell_type": "code",
   "execution_count": 31,
   "id": "9621a04d",
   "metadata": {},
   "outputs": [
    {
     "data": {
      "text/plain": [
       "21"
      ]
     },
     "execution_count": 31,
     "metadata": {},
     "output_type": "execute_result"
    }
   ],
   "source": [
    "max_val(11,21,10,13,17)"
   ]
  },
  {
   "cell_type": "code",
   "execution_count": null,
   "id": "69a4cc38",
   "metadata": {},
   "outputs": [],
   "source": []
  }
 ],
 "metadata": {
  "kernelspec": {
   "display_name": "Python 3 (ipykernel)",
   "language": "python",
   "name": "python3"
  },
  "language_info": {
   "codemirror_mode": {
    "name": "ipython",
    "version": 3
   },
   "file_extension": ".py",
   "mimetype": "text/x-python",
   "name": "python",
   "nbconvert_exporter": "python",
   "pygments_lexer": "ipython3",
   "version": "3.11.5"
  }
 },
 "nbformat": 4,
 "nbformat_minor": 5
}
